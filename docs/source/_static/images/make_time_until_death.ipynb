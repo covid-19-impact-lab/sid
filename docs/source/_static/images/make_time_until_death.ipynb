{
 "cells": [
  {
   "cell_type": "code",
   "execution_count": 1,
   "metadata": {},
   "outputs": [],
   "source": [
    "from functools import partial\n",
    "\n",
    "import matplotlib.pyplot as plt\n",
    "import numpy as np\n",
    "import seaborn as sns\n",
    "from scipy.stats import norm"
   ]
  },
  {
   "cell_type": "markdown",
   "metadata": {},
   "source": [
    "Parameters are taken from https://github.com/BDI-pathogens/OpenABM-Covid19/blob/master/documentation/parameters/parameter_dictionary.md\n",
    "\n",
    "Mean length until death is given as 11.74 days with a standard deviation of 8.79 from a personal communication with researchers.\n",
    "\n",
    "The normal distribution with this specification has nearly 10% of its probability mass below zero."
   ]
  },
  {
   "cell_type": "code",
   "execution_count": 2,
   "metadata": {},
   "outputs": [
    {
     "name": "stdout",
     "output_type": "stream",
     "text": [
      "11.74 8.79\n"
     ]
    }
   ],
   "source": [
    "mean = 11.74\n",
    "std = 8.79\n",
    "var = 8.79 ** 2\n",
    "\n",
    "print(mean, std)"
   ]
  },
  {
   "cell_type": "code",
   "execution_count": 3,
   "metadata": {},
   "outputs": [
    {
     "name": "stderr",
     "output_type": "stream",
     "text": [
      "/home/klara/anaconda3/lib/python3.8/site-packages/seaborn/_decorators.py:36: FutureWarning: Pass the following variables as keyword args: x, y. From version 0.12, the only valid positional argument will be `data`, and passing other arguments without an explicit keyword will result in an error or misinterpretation.\n",
      "  warnings.warn(\n"
     ]
    },
    {
     "data": {
      "text/plain": [
       "0.99"
      ]
     },
     "execution_count": 3,
     "metadata": {},
     "output_type": "execute_result"
    },
    {
     "data": {
      "image/png": "[encoded data removed]",
      "text/plain": [
       "<Figure size 360x360 with 1 Axes>"
      ]
     },
     "metadata": {
      "needs_background": "light"
     },
     "output_type": "display_data"
    }
   ],
   "source": [
    "xs = np.linspace(-1, 40)\n",
    "# cdf_func = partial(norm.cdf, loc=mean, scale=std)\n",
    "cdf_func = partial(norm.cdf, loc=mean, scale=std)\n",
    "cdf_ys = cdf_func(x=xs)\n",
    "\n",
    "\n",
    "def midpoint_with_p_mass(upper, lower=None, color=\"blue\"):\n",
    "    old_cdf = 0 if lower is None else cdf_func(lower)\n",
    "    # do not move because cdf_func(5) could be > 0!\n",
    "    lower = 0 if lower is None else lower\n",
    "    prob_mass = round(cdf_func(upper) - old_cdf, 2)\n",
    "    midpoint = round(0.5 * (upper + lower))\n",
    "    label = f\"bin midpoint: {midpoint}, probability mass: {prob_mass}\"\n",
    "    plt.axvline(midpoint, label=label, color=color)\n",
    "    return prob_mass\n",
    "\n",
    "\n",
    "fig, ax = plt.subplots(figsize=(5, 5))\n",
    "sns.lineplot(\n",
    "    xs,\n",
    "    cdf_ys,\n",
    "    label=f\"normal cdf with mean {mean} and std {std}\",\n",
    "    color=\"#547482\",\n",
    "    linewidth=2.5,\n",
    ")\n",
    "p1 = midpoint_with_p_mass(10, -8.5, color=\"#C87259\")\n",
    "p2 = midpoint_with_p_mass(15, 10, color=\"#C2D8C2\")\n",
    "p3 = midpoint_with_p_mass(25, 15, color=\"#F1B05D\")\n",
    "p4 = midpoint_with_p_mass(40, 25, color=\"#818662\")\n",
    "lgd = plt.legend(frameon=False, bbox_to_anchor=(0.8, -0.2))\n",
    "plt.title(\"Time in ICU Until Death\")\n",
    "sns.despine()\n",
    "plt.tight_layout()\n",
    "plt.savefig(\"time_until_death.png\", bbox_inches=\"tight\", bbox_extra_artists=(lgd,))\n",
    "\n",
    "p1 + p2 + p3 + p4"
   ]
  },
  {
   "cell_type": "code",
   "execution_count": 4,
   "metadata": {},
   "outputs": [
    {
     "name": "stdout",
     "output_type": "stream",
     "text": [
      "[0.36 0.19 0.26 0.06] 0.9912\n"
     ]
    }
   ],
   "source": [
    "pct_die = 0.12\n",
    "pct_survive = 1 - pct_die\n",
    "survive_shares = pct_survive * np.array([p1, p2, p3, p4])\n",
    "print(survive_shares.round(2), pct_die + survive_shares.sum())"
   ]
  },
  {
   "cell_type": "code",
   "execution_count": null,
   "metadata": {},
   "outputs": [],
   "source": []
  }
 ],
 "metadata": {
  "kernelspec": {
   "display_name": "Python 3.8.3 64-bit (conda)",
   "language": "python",
   "name": "python38364bitconda3a4ba74f1f034c57b5fc0285448d66cc"
  },
  "language_info": {
   "codemirror_mode": {
    "name": "ipython",
    "version": 3
   },
   "file_extension": ".py",
   "mimetype": "text/x-python",
   "name": "python",
   "nbconvert_exporter": "python",
   "pygments_lexer": "ipython3",
   "version": "3.8.5"
  }
 },
 "nbformat": 4,
 "nbformat_minor": 2
}
