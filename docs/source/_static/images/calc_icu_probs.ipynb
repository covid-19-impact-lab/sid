{
 "metadata": {
  "language_info": {
   "codemirror_mode": {
    "name": "ipython",
    "version": 3
   },
   "file_extension": ".py",
   "mimetype": "text/x-python",
   "name": "python",
   "nbconvert_exporter": "python",
   "pygments_lexer": "ipython3",
   "version": "3.8.5-final"
  },
  "orig_nbformat": 2,
  "kernelspec": {
   "name": "python38364bitconda3a4ba74f1f034c57b5fc0285448d66cc",
   "display_name": "Python 3.8.3 64-bit (conda)"
  }
 },
 "nbformat": 4,
 "nbformat_minor": 2,
 "cells": [
  {
   "cell_type": "code",
   "execution_count": 2,
   "metadata": {},
   "outputs": [],
   "source": [
    "import pandas as pd"
   ]
  },
  {
   "cell_type": "code",
   "execution_count": 3,
   "metadata": {},
   "outputs": [
    {
     "output_type": "execute_result",
     "data": {
      "text/plain": [
       "fraction   critical_fraction  fatality_fraction  fraction_asymptomatic  \\\n",
       "age_group                                                                \n",
       "0-9                    0.050               0.33                  0.456   \n",
       "10-19                  0.050               0.25                  0.412   \n",
       "20-29                  0.050               0.50                  0.370   \n",
       "30-39                  0.050               0.50                  0.332   \n",
       "40-49                  0.063               0.50                  0.296   \n",
       "50-59                  0.122               0.69                  0.265   \n",
       "60-69                  0.274               0.65                  0.238   \n",
       "70-79                  0.432               0.88                  0.214   \n",
       "80-100                 0.709               1.00                  0.192   \n",
       "\n",
       "fraction   hospitalised_fraction  \n",
       "age_group                         \n",
       "0-9                        0.001  \n",
       "10-19                      0.006  \n",
       "20-29                      0.015  \n",
       "30-39                      0.069  \n",
       "40-49                      0.219  \n",
       "50-59                      0.279  \n",
       "60-69                      0.370  \n",
       "70-79                      0.391  \n",
       "80-100                     0.379  "
      ],
      "text/html": "<div>\n<style scoped>\n    .dataframe tbody tr th:only-of-type {\n        vertical-align: middle;\n    }\n\n    .dataframe tbody tr th {\n        vertical-align: top;\n    }\n\n    .dataframe thead th {\n        text-align: right;\n    }\n</style>\n<table border=\"1\" class=\"dataframe\">\n  <thead>\n    <tr style=\"text-align: right;\">\n      <th>fraction</th>\n      <th>critical_fraction</th>\n      <th>fatality_fraction</th>\n      <th>fraction_asymptomatic</th>\n      <th>hospitalised_fraction</th>\n    </tr>\n    <tr>\n      <th>age_group</th>\n      <th></th>\n      <th></th>\n      <th></th>\n      <th></th>\n    </tr>\n  </thead>\n  <tbody>\n    <tr>\n      <th>0-9</th>\n      <td>0.050</td>\n      <td>0.33</td>\n      <td>0.456</td>\n      <td>0.001</td>\n    </tr>\n    <tr>\n      <th>10-19</th>\n      <td>0.050</td>\n      <td>0.25</td>\n      <td>0.412</td>\n      <td>0.006</td>\n    </tr>\n    <tr>\n      <th>20-29</th>\n      <td>0.050</td>\n      <td>0.50</td>\n      <td>0.370</td>\n      <td>0.015</td>\n    </tr>\n    <tr>\n      <th>30-39</th>\n      <td>0.050</td>\n      <td>0.50</td>\n      <td>0.332</td>\n      <td>0.069</td>\n    </tr>\n    <tr>\n      <th>40-49</th>\n      <td>0.063</td>\n      <td>0.50</td>\n      <td>0.296</td>\n      <td>0.219</td>\n    </tr>\n    <tr>\n      <th>50-59</th>\n      <td>0.122</td>\n      <td>0.69</td>\n      <td>0.265</td>\n      <td>0.279</td>\n    </tr>\n    <tr>\n      <th>60-69</th>\n      <td>0.274</td>\n      <td>0.65</td>\n      <td>0.238</td>\n      <td>0.370</td>\n    </tr>\n    <tr>\n      <th>70-79</th>\n      <td>0.432</td>\n      <td>0.88</td>\n      <td>0.214</td>\n      <td>0.391</td>\n    </tr>\n    <tr>\n      <th>80-100</th>\n      <td>0.709</td>\n      <td>1.00</td>\n      <td>0.192</td>\n      <td>0.379</td>\n    </tr>\n  </tbody>\n</table>\n</div>"
     },
     "metadata": {},
     "execution_count": 3
    }
   ],
   "source": [
    "params = pd.read_csv('openabm_params.csv')\n",
    "params = params.pivot(index=\"age_group\", columns=\"fraction\")\n",
    "params.columns = params.columns.droplevel(0)\n",
    "params"
   ]
  },
  {
   "cell_type": "code",
   "execution_count": 4,
   "metadata": {},
   "outputs": [],
   "source": [
    "params[\"frac_critical_among_symptomatic\"] = \\\n",
    "    params[\"critical_fraction\"] * params[\"hospitalised_fraction\"]"
   ]
  },
  {
   "cell_type": "code",
   "execution_count": 5,
   "metadata": {},
   "outputs": [
    {
     "output_type": "execute_result",
     "data": {
      "text/plain": [
       "age_group\n",
       "0-9       0.000050\n",
       "10-19     0.000300\n",
       "20-29     0.000750\n",
       "30-39     0.003450\n",
       "40-49     0.013797\n",
       "50-59     0.034038\n",
       "60-69     0.101380\n",
       "70-79     0.168912\n",
       "80-100    0.268711\n",
       "Name: frac_critical_among_symptomatic, dtype: float64"
      ]
     },
     "metadata": {},
     "execution_count": 5
    }
   ],
   "source": [
    "params[\"frac_critical_among_symptomatic\"]"
   ]
  },
  {
   "cell_type": "code",
   "execution_count": 6,
   "metadata": {},
   "outputs": [],
   "source": [
    "params[\"frac_survive\"] = 1 - params[\"fatality_fraction\"]"
   ]
  },
  {
   "cell_type": "code",
   "execution_count": 7,
   "metadata": {},
   "outputs": [
    {
     "output_type": "execute_result",
     "data": {
      "text/plain": [
       "age_group\n",
       "0-9       0.67\n",
       "10-19     0.75\n",
       "20-29     0.50\n",
       "30-39     0.50\n",
       "40-49     0.50\n",
       "50-59     0.31\n",
       "60-69     0.35\n",
       "70-79     0.12\n",
       "80-100    0.00\n",
       "Name: frac_survive, dtype: float64"
      ]
     },
     "metadata": {},
     "execution_count": 7
    }
   ],
   "source": [
    "params[\"frac_survive\"]"
   ]
  },
  {
   "cell_type": "code",
   "execution_count": null,
   "metadata": {},
   "outputs": [],
   "source": []
  },
  {
   "cell_type": "code",
   "execution_count": null,
   "metadata": {},
   "outputs": [],
   "source": []
  }
 ]
}
