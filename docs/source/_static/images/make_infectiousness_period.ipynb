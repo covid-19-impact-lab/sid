{
 "cells": [
  {
   "cell_type": "code",
   "execution_count": 1,
   "metadata": {},
   "outputs": [],
   "source": [
    "from functools import partial\n",
    "\n",
    "import matplotlib.pyplot as plt\n",
    "import numpy as np\n",
    "import seaborn as sns\n",
    "from scipy.stats import lognorm, norm"
   ]
  },
  {
   "cell_type": "markdown",
   "metadata": {},
   "source": [
    "Parameters are taken from https://github.com/BDI-pathogens/OpenABM-Covid19/blob/master/documentation/parameters/parameter_dictionary.md\n",
    "\n",
    "Mean length of the infectiousness period are 5.5 days with a standard deviation of 2.14"
   ]
  },
  {
   "cell_type": "code",
   "execution_count": 2,
   "metadata": {},
   "outputs": [],
   "source": [
    "mean = 5.5\n",
    "std = 2.14"
   ]
  },
  {
   "cell_type": "code",
   "execution_count": 3,
   "metadata": {},
   "outputs": [
    {
     "name": "stderr",
     "output_type": "stream",
     "text": [
      "/home/klara/anaconda3/lib/python3.8/site-packages/seaborn/_decorators.py:36: FutureWarning: Pass the following variables as keyword args: x, y. From version 0.12, the only valid positional argument will be `data`, and passing other arguments without an explicit keyword will result in an error or misinterpretation.\n",
      "  warnings.warn(\n"
     ]
    },
    {
     "data": {
      "text/plain": [
       "0.9999999999999999"
      ]
     },
     "execution_count": 3,
     "metadata": {},
     "output_type": "execute_result"
    },
    {
     "data": {
      "image/png": "[encoded data removed]",
      "text/plain": [
       "<Figure size 360x360 with 1 Axes>"
      ]
     },
     "metadata": {
      "needs_background": "light"
     },
     "output_type": "display_data"
    }
   ],
   "source": [
    "xs = np.linspace(-1, 15)\n",
    "cdf_func = partial(norm.cdf, loc=mean, scale=std)\n",
    "cdf_ys = cdf_func(x=xs)\n",
    "\n",
    "\n",
    "def midpoint_with_p_mass(upper, lower=None, color=\"blue\"):\n",
    "    old_cdf = 0 if lower is None else cdf_func(lower)\n",
    "    # do not move because cdf_func(5) could be > 0!\n",
    "    lower = 0 if lower is None else lower\n",
    "    prob_mass = round(cdf_func(upper) - old_cdf, 2)\n",
    "    midpoint = round(0.5 * (upper + lower))\n",
    "    label = f\"bin midpoint: {midpoint}, probability mass: {prob_mass}\"\n",
    "    plt.axvline(midpoint, label=label, color=color)\n",
    "    return prob_mass\n",
    "\n",
    "\n",
    "fig, ax = plt.subplots(figsize=(5, 5))\n",
    "sns.lineplot(\n",
    "    xs,\n",
    "    cdf_ys,\n",
    "    label=f\"normal cdf with mean {mean} and std {std}\",\n",
    "    color=\"#547482\",\n",
    "    linewidth=2.5,\n",
    ")\n",
    "p1 = midpoint_with_p_mass(3, None, color=\"#C87259\")\n",
    "p2 = midpoint_with_p_mass(5, 3, color=\"#C2D8C2\")\n",
    "p3 = midpoint_with_p_mass(8, 5, color=\"#F1B05D\")\n",
    "p4 = midpoint_with_p_mass(12, 8, color=\"#818662\")\n",
    "lgd = plt.legend(frameon=False, bbox_to_anchor=(0.8, -0.2))\n",
    "plt.title(\"COVID-19 Infectiousness Period\")\n",
    "sns.despine()\n",
    "plt.tight_layout()\n",
    "plt.savefig(\"infectiousness_period.png\", bbox_inches=\"tight\", bbox_extra_artists=(lgd,))\n",
    "\n",
    "p1 + p2 + p3 + p4"
   ]
  },
  {
   "cell_type": "code",
   "execution_count": 4,
   "metadata": {},
   "outputs": [
    {
     "data": {
      "text/plain": [
       "(5.42, 2.159536987411885)"
      ]
     },
     "execution_count": 4,
     "metadata": {},
     "output_type": "execute_result"
    }
   ],
   "source": [
    "dist_mean = 2 * 0.12 + 4 * 0.29 + 6 * 0.47 + 10 * 0.12\n",
    "dist_var = 2**2 * 0.12 + 4**2 * 0.29 + 6**2 * 0.47 + 10**2 * 0.12 - dist_mean**2\n",
    "dist_std = np.sqrt(dist_var)\n",
    "dist_mean, dist_std"
   ]
  },
  {
   "cell_type": "code",
   "execution_count": null,
   "metadata": {},
   "outputs": [],
   "source": []
  }
 ],
 "metadata": {
  "kernelspec": {
   "display_name": "Python 3.8.3 64-bit (conda)",
   "language": "python",
   "name": "python38364bitconda3a4ba74f1f034c57b5fc0285448d66cc"
  },
  "language_info": {
   "codemirror_mode": {
    "name": "ipython",
    "version": 3
   },
   "file_extension": ".py",
   "mimetype": "text/x-python",
   "name": "python",
   "nbconvert_exporter": "python",
   "pygments_lexer": "ipython3",
   "version": "3.8.5"
  }
 },
 "nbformat": 4,
 "nbformat_minor": 2
}
