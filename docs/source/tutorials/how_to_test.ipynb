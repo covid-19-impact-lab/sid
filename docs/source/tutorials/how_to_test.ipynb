{
 "cells": [
  {
   "cell_type": "markdown",
   "metadata": {},
   "source": [
    "# How to implement testing for Covid-19"
   ]
  },
  {
   "cell_type": "code",
   "execution_count": 1,
   "metadata": {},
   "outputs": [],
   "source": [
    "%matplotlib inline\n",
    "\n",
    "import matplotlib.pyplot as plt\n",
    "import numpy as np\n",
    "import pandas as pd\n",
    "\n",
    "from sid import simulate\n",
    "from sid.config import INDEX_NAMES"
   ]
  },
  {
   "cell_type": "markdown",
   "metadata": {},
   "source": [
    "## The stages\n",
    "\n",
    "### Demand models"
   ]
  },
  {
   "cell_type": "code",
   "execution_count": 2,
   "metadata": {},
   "outputs": [],
   "source": [
    "def demand_test_if_experience_symptoms(states, params):\n",
    "    \"\"\"Demand test if person experiences symptoms.\n",
    "\n",
    "    This demand model assumes that individuals request a test for a\n",
    "    Covid-19 infection if they experience symptoms, have not requested\n",
    "    a test before which is still pending and have not received a positive\n",
    "    test result with a probability of 1.\n",
    "\n",
    "    Args:\n",
    "        states (pandas.DataFrame): The states of the individuals.\n",
    "        params (pandas.DataFrame): A DataFrame with parameters.\n",
    "\n",
    "    Returns:\n",
    "        demand_probability (numpy.ndarray, pandas.Series): An array or a series\n",
    "            which contains the probability for each individual demanding a test.\n",
    "\n",
    "    \"\"\"\n",
    "    s = states.symptomatic & ~states.pending_test & ~states.knows_immune\n",
    "    return s"
   ]
  },
  {
   "cell_type": "code",
   "execution_count": 3,
   "metadata": {},
   "outputs": [],
   "source": [
    "testing_demand_models = {\"symptoms\": {\"model\": demand_test_if_experience_symptoms}}"
   ]
  },
  {
   "cell_type": "markdown",
   "metadata": {},
   "source": [
    "### Allocation models"
   ]
  },
  {
   "cell_type": "code",
   "execution_count": 4,
   "metadata": {},
   "outputs": [],
   "source": [
    "def allocate_tests(allocated_tests, demands_test, states, params):\n",
    "    \"\"\"Allocate tests to individuals who demand a test.\n",
    "\n",
    "    For simplicity, we assume that everyone has the same chance of\n",
    "    receiving a test to resolve excess demand.\n",
    "\n",
    "    Args:\n",
    "        demands_test (pandas.Series): A series with boolean entries\n",
    "            where ``True`` indicates individuals asking for a test.\n",
    "        states (pandas.DataFrame): The states of the individuals.\n",
    "        params (pandas.DataFrame): A DataFrame with parameters.\n",
    "\n",
    "    Returns:\n",
    "        received_test (numpy.ndarray, pandas.Series): An array or a\n",
    "            series which indicates which individuals received a test.\n",
    "\n",
    "    \"\"\"\n",
    "    n_available_tests = int(\n",
    "        params.loc[(\"testing\", \"allocation\", \"available_tests\"), \"value\"]\n",
    "    )\n",
    "    locs = states.loc[demands_test].sample(frac=1).index[:n_available_tests]\n",
    "\n",
    "    received_test = pd.Series(index=states.index, data=False)\n",
    "    received_test.loc[locs] = True\n",
    "\n",
    "    return received_test"
   ]
  },
  {
   "cell_type": "code",
   "execution_count": 5,
   "metadata": {},
   "outputs": [],
   "source": [
    "testing_allocation_models = {\"direct_allocation\": {\"model\": allocate_tests}}"
   ]
  },
  {
   "cell_type": "markdown",
   "metadata": {},
   "source": [
    "### Processing models"
   ]
  },
  {
   "cell_type": "code",
   "execution_count": 6,
   "metadata": {},
   "outputs": [],
   "source": [
    "def process_tests(to_be_processed_tests, states, params):\n",
    "    \"\"\"Process tests.\n",
    "\n",
    "    For simplicity, we assume that all tests are processed immediately, without\n",
    "    further delay.\n",
    "\n",
    "    Args:\n",
    "        to_be_processed_tests (pandas.Series): A series with boolean entries\n",
    "            indicating whether the test of an individual is still waiting\n",
    "            to be processed.\n",
    "        states (pandas.DataFrame): The states of the individuals.\n",
    "        params (pandas.DataFrame): A DataFrame with parameters.\n",
    "\n",
    "    Returns:\n",
    "        started_processing (numpy.ndarray, pandas.Series): An array or series\n",
    "            with boolean entries indicating which tests started to be processed.\n",
    "\n",
    "    \"\"\"\n",
    "    n_available_capacity = int(\n",
    "        params.loc[(\"testing\", \"processing\", \"available_capacity\"), \"value\"]\n",
    "    )\n",
    "    locs = states.loc[states.pending_test].sample(frac=1).index[:n_available_capacity]\n",
    "\n",
    "    to_be_processed_tests = pd.Series(index=states.index, data=False)\n",
    "    to_be_processed_tests.loc[locs] = True\n",
    "\n",
    "    return to_be_processed_tests"
   ]
  },
  {
   "cell_type": "code",
   "execution_count": 7,
   "metadata": {},
   "outputs": [],
   "source": [
    "testing_processing_models = {\"direct_processing\": {\"model\": process_tests}}"
   ]
  },
  {
   "cell_type": "markdown",
   "metadata": {},
   "source": [
    "## Prepare the rest\n",
    "\n",
    "### Initial states"
   ]
  },
  {
   "cell_type": "code",
   "execution_count": 8,
   "metadata": {},
   "outputs": [],
   "source": [
    "available_ages = [\n",
    "    \"0-9\",\n",
    "    \"10-19\",\n",
    "    \"20-29\",\n",
    "    \"30-39\",\n",
    "    \"40-49\",\n",
    "    \"50-59\",\n",
    "    \"60-69\",\n",
    "    \"70-79\",\n",
    "    \"80-100\",\n",
    "]\n",
    "\n",
    "ages = np.random.choice(available_ages, size=10_000)\n",
    "regions = np.random.choice([\"North\", \"South\"], size=10_000)\n",
    "households = np.random.choice(5_000, size=10_000)\n",
    "\n",
    "initial_states = pd.DataFrame(\n",
    "    {\"age_group\": ages, \"region\": regions, \"household\": households}\n",
    ")\n",
    "initial_states = initial_states.astype(\"category\")\n",
    "initial_states[\"id\"] = initial_states.index"
   ]
  },
  {
   "cell_type": "markdown",
   "metadata": {},
   "source": [
    "### Initial infections"
   ]
  },
  {
   "cell_type": "code",
   "execution_count": 9,
   "metadata": {},
   "outputs": [],
   "source": [
    "initial_infections = pd.Series(data=False, index=initial_states.index)\n",
    "\n",
    "infected_individuals = initial_infections.sample(100, random_state=0).index\n",
    "initial_infections.loc[infected_individuals] = True"
   ]
  },
  {
   "cell_type": "markdown",
   "metadata": {},
   "source": [
    "### Contact models"
   ]
  },
  {
   "cell_type": "code",
   "execution_count": 10,
   "metadata": {},
   "outputs": [],
   "source": [
    "def _if_hh_member_tested_positive_hh_stays_home(contacts, states):\n",
    "    # Everyone who received a positive test result will stay home for 14 days\n",
    "    # after the infection.\n",
    "    condition = states.knows_immune & (states.cd_ever_infected.ge(-13) | states.knows_infectious)\n",
    "\n",
    "    # Everyone who is in a household with someone who has been tested positive\n",
    "    # will stay at home.\n",
    "    household_level_condition = condition.groupby(states.household).transform(any)\n",
    "    \n",
    "    # TODO: Random people asking for tests.\n",
    "\n",
    "    contacts.loc[household_level_condition] = 0\n",
    "\n",
    "    return contacts\n",
    "\n",
    "\n",
    "def meet_distant(states, params):\n",
    "    possible_nr_contacts = np.arange(2)\n",
    "    contacts = np.random.choice(possible_nr_contacts, size=len(states))\n",
    "    contacts = pd.Series(contacts, index=states.index)\n",
    "\n",
    "    contacts = _if_hh_member_tested_positive_hh_stays_home(contacts, states)\n",
    "\n",
    "    return contacts\n",
    "\n",
    "\n",
    "def meet_close(states, params):\n",
    "    possible_nr_contacts = np.arange(3)\n",
    "    contacts = np.random.choice(possible_nr_contacts, size=len(states))\n",
    "    contacts = pd.Series(contacts, index=states.index)\n",
    "\n",
    "    contacts = _if_hh_member_tested_positive_hh_stays_home(contacts, states)\n",
    "\n",
    "    return contacts\n",
    "\n",
    "\n",
    "assort_by = [\"age_group\", \"region\"]\n",
    "\n",
    "contact_models = {\n",
    "    \"household\": {\"model\": lambda *x: np.ones(10_000), \"assort_by\": \"household\", \"is_recurrent\": True},\n",
    "    \"close\": {\"model\": meet_close, \"assort_by\": assort_by, \"is_recurrent\": False},\n",
    "    \"distant\": {\"model\": meet_distant, \"assort_by\": assort_by, \"is_recurrent\": False},\n",
    "}"
   ]
  },
  {
   "cell_type": "markdown",
   "metadata": {},
   "source": [
    "### Parameters"
   ]
  },
  {
   "cell_type": "code",
   "execution_count": 11,
   "metadata": {},
   "outputs": [],
   "source": [
    "inf_params = pd.read_csv(\"infection_probs.csv\", index_col=INDEX_NAMES)\n",
    "assort_probs = pd.read_csv(\"assort_by_params.csv\", index_col=INDEX_NAMES)\n",
    "disease_params = pd.read_csv(\n",
    "    \"../../../src/sid/covid_epi_params.csv\", index_col=INDEX_NAMES\n",
    ")\n",
    "params = pd.concat([disease_params, inf_params, assort_probs])"
   ]
  },
  {
   "cell_type": "code",
   "execution_count": 12,
   "metadata": {},
   "outputs": [
    {
     "name": "stderr",
     "output_type": "stream",
     "text": [
      "C:\\tools\\miniconda3\\envs\\sid\\lib\\site-packages\\IPython\\core\\interactiveshell.py:2876: PerformanceWarning: indexing past lexsort depth may impact performance.\n",
      "  result = self._run_cell(\n"
     ]
    }
   ],
   "source": [
    "params.loc[(\"testing\", \"allocation\", \"available_tests\"), \"value\"] = 30\n",
    "params.loc[(\"testing\", \"processing\", \"available_capacity\"), \"value\"] = 20"
   ]
  },
  {
   "cell_type": "markdown",
   "metadata": {},
   "source": [
    "## Run the simulation"
   ]
  },
  {
   "cell_type": "code",
   "execution_count": 13,
   "metadata": {},
   "outputs": [],
   "source": [
    "df_with_testing = simulate(\n",
    "    params=params,\n",
    "    initial_states=initial_states,\n",
    "    initial_infections=initial_infections,\n",
    "    contact_models=contact_models,\n",
    "    duration={\"start\": \"2020-02-27\", \"periods\": 500},\n",
    "    testing_demand_models=testing_demand_models,\n",
    "    testing_allocation_models=testing_allocation_models,\n",
    "    testing_processing_models=testing_processing_models,\n",
    "    seed=0,\n",
    "    path=\".sid_with_testing\",\n",
    ")"
   ]
  },
  {
   "cell_type": "code",
   "execution_count": 14,
   "metadata": {},
   "outputs": [
    {
     "ename": "NameError",
     "evalue": "name 'adsasdsa' is not defined",
     "output_type": "error",
     "traceback": [
      "\u001b[1;31m---------------------------------------------------------------------------\u001b[0m",
      "\u001b[1;31mNameError\u001b[0m                                 Traceback (most recent call last)",
      "\u001b[1;32m<ipython-input-14-67b4f375754a>\u001b[0m in \u001b[0;36m<module>\u001b[1;34m\u001b[0m\n\u001b[1;32m----> 1\u001b[1;33m \u001b[0madsasdsa\u001b[0m\u001b[1;33m\u001b[0m\u001b[1;33m\u001b[0m\u001b[0m\n\u001b[0m",
      "\u001b[1;31mNameError\u001b[0m: name 'adsasdsa' is not defined"
     ]
    }
   ],
   "source": [
    "adsasdsa"
   ]
  },
  {
   "cell_type": "code",
   "execution_count": null,
   "metadata": {},
   "outputs": [],
   "source": [
    "df_without_testing = simulate(\n",
    "    params=params,\n",
    "    initial_states=initial_states,\n",
    "    initial_infections=initial_infections,\n",
    "    contact_models=contact_models,\n",
    "    duration={\"start\": \"2020-02-27\", \"periods\": 500},\n",
    "    seed=0,\n",
    "    path=\".sid_without_testing\",\n",
    ")"
   ]
  },
  {
   "cell_type": "code",
   "execution_count": null,
   "metadata": {},
   "outputs": [],
   "source": [
    "df = df_without_testing.compute()"
   ]
  },
  {
   "cell_type": "code",
   "execution_count": null,
   "metadata": {},
   "outputs": [],
   "source": [
    "fig, axs = plt.subplots(2, 2, figsize=(12, 8))\n",
    "fig.subplots_adjust(bottom=0.15, wspace=0.2, hspace=0.4)\n",
    "\n",
    "axs = axs.flatten()\n",
    "\n",
    "df.resample(\"W\", on=\"date\")[\"ever_infected\"].mean().plot(ax=axs[0], color=\"#5c7f8e\")\n",
    "df.resample(\"W\", on=\"date\")[\"infectious\"].mean().plot(ax=axs[1], color=\"#5c7f8e\")\n",
    "df.resample(\"D\", on=\"date\")[\"dead\"].sum().plot(ax=axs[2], color=\"#5c7f8e\")\n",
    "infectious_last_seven_days = df.cd_infectious_false.between(-7, 0)\n",
    "df.loc[infectious_last_seven_days].resample(\"D\", on=\"date\")[\n",
    "    \"n_has_infected\"\n",
    "].mean().plot(ax=axs[3], color=\"#5c7f8e\")\n",
    "\n",
    "for ax in axs:\n",
    "    ax.set_xlabel(\"\")\n",
    "    ax.spines[\"right\"].set_visible(False)\n",
    "    ax.spines[\"top\"].set_visible(False)\n",
    "\n",
    "axs[0].set_title(\"Share of Infected People\")\n",
    "axs[1].set_title(\"Share of Infectious People in the Population\")\n",
    "axs[2].set_title(\"Total Number of Deaths\")\n",
    "axs[3].set_title(\"$R_t$ (Effective Reproduction Number)\")\n",
    "\n",
    "plt.show()"
   ]
  },
  {
   "cell_type": "code",
   "execution_count": null,
   "metadata": {},
   "outputs": [],
   "source": [
    "df = df_with_testing.compute()"
   ]
  },
  {
   "cell_type": "code",
   "execution_count": null,
   "metadata": {},
   "outputs": [],
   "source": [
    "fig, axs = plt.subplots(2, 2, figsize=(12, 8))\n",
    "fig.subplots_adjust(bottom=0.15, wspace=0.2, hspace=0.4)\n",
    "\n",
    "axs = axs.flatten()\n",
    "\n",
    "df.resample(\"W\", on=\"date\")[\"ever_infected\"].mean().plot(ax=axs[0], color=\"#5c7f8e\")\n",
    "df.resample(\"W\", on=\"date\")[\"infectious\"].mean().plot(ax=axs[1], color=\"#5c7f8e\")\n",
    "df.resample(\"D\", on=\"date\")[\"dead\"].sum().plot(ax=axs[2], color=\"#5c7f8e\")\n",
    "infectious_last_seven_days = df.cd_infectious_false.between(-7, 0)\n",
    "df.loc[infectious_last_seven_days].resample(\"D\", on=\"date\")[\n",
    "    \"n_has_infected\"\n",
    "].mean().plot(ax=axs[3], color=\"#5c7f8e\")\n",
    "\n",
    "for ax in axs:\n",
    "    ax.set_xlabel(\"\")\n",
    "    ax.spines[\"right\"].set_visible(False)\n",
    "    ax.spines[\"top\"].set_visible(False)\n",
    "\n",
    "axs[0].set_title(\"Share of Infected People\")\n",
    "axs[1].set_title(\"Share of Infectious People in the Population\")\n",
    "axs[2].set_title(\"Total Number of Deaths\")\n",
    "axs[3].set_title(\"$R_t$ (Effective Reproduction Number)\")\n",
    "\n",
    "plt.show()"
   ]
  }
 ],
 "metadata": {
  "kernelspec": {
   "display_name": "Python 3",
   "language": "python",
   "name": "python3"
  },
  "language_info": {
   "codemirror_mode": {
    "name": "ipython",
    "version": 3
   },
   "file_extension": ".py",
   "mimetype": "text/x-python",
   "name": "python",
   "nbconvert_exporter": "python",
   "pygments_lexer": "ipython3",
   "version": "3.8.6"
  }
 },
 "nbformat": 4,
 "nbformat_minor": 4
}
