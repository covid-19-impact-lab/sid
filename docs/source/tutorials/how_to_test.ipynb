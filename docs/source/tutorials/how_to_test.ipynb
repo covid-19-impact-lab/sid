{
 "cells": [
  {
   "cell_type": "markdown",
   "metadata": {},
   "source": [
    "# How to implement testing for Covid-19\n",
    "\n",
    "This notebook shows you how to implement testing in your model and demonstrates how the spread of the disease can change if people change their behavior due to the information.\n",
    "\n",
    "Testing has proven to be a key counter measure to the Covid-19 epidemy. It is necessary to gain information on people's health statuses and to change their behavior or the behavior of their recent contacts. The goal is to interrupt a chain of infections early on and prevent superspreaders or exponential increases in infection numbers.\n",
    "\n",
    "Testing also enables to study a multitude of new scenarios which can be helpful for policy makers to enact interventions to get the disease under control."
   ]
  },
  {
   "cell_type": "code",
   "execution_count": 1,
   "metadata": {},
   "outputs": [],
   "source": [
    "%matplotlib inline\n",
    "\n",
    "import matplotlib.pyplot as plt\n",
    "import numpy as np\n",
    "import pandas as pd\n",
    "\n",
    "from sid import get_simulate_func\n",
    "from sid.shared import get_epidemiological_parameters\n",
    "from sid.config import INDEX_NAMES"
   ]
  },
  {
   "cell_type": "markdown",
   "metadata": {},
   "source": [
    "## The stages\n",
    "\n",
    "Testing is implemented in three stages to offer full flexibility for researchers to implement different testing schemes. We will go through each stage in detail. To summarise, the three stages are\n",
    "\n",
    "- Calculating the demand for tests.\n",
    "- Allocating tests to individuals.\n",
    "- Processing tests in laboratories.\n",
    "\n",
    "### Demand models\n",
    "\n",
    "In the first stage, the demand for tests is calculated. The user can specify multiple demand models where each model represents a channel through which an individual can ask for a test. An individual can request a test if she is symptomatic, if she works with elderly people, or if she has the potential to be a superspreader (e.g. teachers).\n",
    "\n",
    "Each model is a dictionary similar to a contact model. It has the following keys:\n",
    "\n",
    "- A ``\"loc\"`` entry subsets the parameters passed to the function to facilitate access.\n",
    "- ``\"start\"`` and ``\"end\"`` are dates which can be parsed with :func:`pandas.Timestamp` and represent the period in which the testing model is active.\n",
    "- Under the ``\"model\"`` key is a function which assigns a probability to each individual which is the likelihood by which the person demands a test. Below, you find an example for an demand model where individuals ask for a test when they experience symptoms, have not already received a positive test result and when they are not waiting for a test result. The return of the demand model can be a :class:`pandas.Series` or :class:`numpy.ndarray`."
   ]
  },
  {
   "cell_type": "code",
   "execution_count": 2,
   "metadata": {},
   "outputs": [],
   "source": [
    "def demand_test_if_experience_symptoms(states, params):\n",
    "    \"\"\"Demand test if person experiences symptoms.\n",
    "\n",
    "    This demand model assumes that individuals request a test for a\n",
    "    Covid-19 infection if they experience symptoms, have not requested\n",
    "    a test before which is still pending and have not received a positive\n",
    "    test result with a probability of 1.\n",
    "\n",
    "    Args:\n",
    "        states (pandas.DataFrame): The states of the individuals.\n",
    "        params (pandas.DataFrame): A DataFrame with parameters.\n",
    "\n",
    "    Returns:\n",
    "        demand_probability (numpy.ndarray, pandas.Series): An array or a series\n",
    "            which contains the probability for each individual demanding a test.\n",
    "\n",
    "    \"\"\"\n",
    "    s = states.symptomatic & ~states.pending_test & ~states.knows_immune\n",
    "    return s"
   ]
  },
  {
   "cell_type": "code",
   "execution_count": 3,
   "metadata": {},
   "outputs": [],
   "source": [
    "testing_demand_models = {\"symptoms\":\n",
    "    {\n",
    "        \"model\": demand_test_if_experience_symptoms,\n",
    "        # \"loc\": ...,\n",
    "        # \"start\": \"2019-02-29\",\n",
    "        # \"end\": pd.Timestamp(\"2019-07-30\"),\n",
    "    }\n",
    "}"
   ]
  },
  {
   "cell_type": "markdown",
   "metadata": {},
   "source": [
    "### Allocation models\n",
    "\n",
    "In the second phase, available tests are distributed to individuals with allocation models. If an individual is assigned a test, the test will be administered and is ready to be processed by an laboratory in the next stage.\n",
    "\n",
    "Allocation models have to purposes: First, they allow to resolve instances in which the demand for tests exceeds the available number of tests which is given by\n",
    "\n",
    "```python\n",
    "params.loc[(\"testing\", \"allocation\", \"available_tests\"), \"value\"]\n",
    "```\n",
    "\n",
    "If allocation models assign more tests than are available, a warning is issued, but the simulation continues. A warning is also raised, if an individual receives multiple tests.\n",
    "\n",
    "Secondly, allocation models allow to give some groups preferred access to tests. For example, policy makers may decide that health care workers, teachers or other professions have a higher priority.\n",
    "\n",
    "Allocations models are similarly defined as demand models. Inside sid, we loop over all custom allocation models which can return a boolean series indicating individuals which received a test. When a model returns a series with allocated tests, ``demands_test`` is set to ``False`` for individuals who have received a test. The following allocation model receives the updated ``demands_test`` and a new count of all individuals already receiving a test in this period which can be used to limit the allocation.\n",
    "\n",
    "The second argument is ``demands_test`` which is a series indicating individuals who demand a test."
   ]
  },
  {
   "cell_type": "code",
   "execution_count": 4,
   "metadata": {},
   "outputs": [],
   "source": [
    "def allocate_tests(n_allocated_tests, demands_test, states, params):\n",
    "    \"\"\"Allocate tests to individuals who demand a test.\n",
    "\n",
    "    For simplicity, we assume that everyone has the same chance of\n",
    "    receiving a test to resolve excess demand.\n",
    "\n",
    "    Args:\n",
    "        n_allocated_tests (int): The number of individuals who already\n",
    "            received a test in this period from previous allocation models.\n",
    "        demands_test (pandas.Series): A series with boolean entries\n",
    "            where ``True`` indicates individuals asking for a test.\n",
    "        states (pandas.DataFrame): The states of the individuals.\n",
    "        params (pandas.DataFrame): A DataFrame with parameters.\n",
    "\n",
    "    Returns:\n",
    "        allocated_tests (numpy.ndarray, pandas.Series): An array or a\n",
    "            series which indicates which individuals received a test.\n",
    "\n",
    "    \"\"\"\n",
    "    n_available_tests = int(\n",
    "        params.loc[(\"testing\", \"allocation\", \"available_tests\"), \"value\"]\n",
    "    )\n",
    "    locs = states.loc[demands_test].sample(frac=1).index[:n_available_tests]\n",
    "\n",
    "    allocated_tests = pd.Series(index=states.index, data=False)\n",
    "    allocated_tests.loc[locs] = True\n",
    "\n",
    "    return allocated_tests"
   ]
  },
  {
   "cell_type": "code",
   "execution_count": 5,
   "metadata": {},
   "outputs": [],
   "source": [
    "testing_allocation_models = {\"direct_allocation\": {\"model\": allocate_tests}}"
   ]
  },
  {
   "cell_type": "markdown",
   "metadata": {},
   "source": [
    "### Processing models\n",
    "\n",
    "Now, we are in the third and final stage of the testing module. Here, all administered tests are collected and assigned to laboratories which will return the test result after some duration. With the test result, individuals are able to adjust their behavior or institutions can regulate behavior.\n",
    "\n",
    "The processing models have two purposes similar to allocation models. First, they allow to resolve instances in which the demand for tests exceeds the available number of tests which is given by\n",
    "\n",
    "```python\n",
    "params.loc[(\"testing\", \"processing\", \"available_capacity\"), \"value\"]\n",
    "```\n",
    "\n",
    "If processing models evaluate more test than they are capable of, a warning is issued, but the simulation continues.\n",
    "\n",
    "Secondly, processing models allow to assign a higher priority to some tests. For example, if laboratories are not able to handle the flood of administered tests anymore, policy makers may decide that laboratories should prioritize newly administered tests to give feedback more quickly (last-in first-out principle).\n",
    "\n",
    "Similarly, to the functions of allocation models, processing models receive a count called ``n_to_be_processed_tests`` which represents the number individuals whose test has already started to be processed. The individuals who administered a test which is waiting to be processed are indicated via ``states[\"pending_test\"]``. Whenever an processing model returned a boolean series indicating individuals whose test is processed, ``states[\"pending_test\"]`` is set to ``False`` for those individuals and ``n_to_be_processed_tests`` is updated."
   ]
  },
  {
   "cell_type": "code",
   "execution_count": 6,
   "metadata": {},
   "outputs": [],
   "source": [
    "def process_tests(n_to_be_processed_tests, states, params):\n",
    "    \"\"\"Process tests.\n",
    "\n",
    "    For simplicity, we assume that all tests are processed immediately, without\n",
    "    further delay.\n",
    "\n",
    "    Args:\n",
    "        n_to_be_processed_tests (int): Number of individuals whose test is\n",
    "            already set to be processed.\n",
    "        states (pandas.DataFrame): The states of the individuals.\n",
    "        params (pandas.DataFrame): A DataFrame with parameters.\n",
    "\n",
    "    Returns:\n",
    "        started_processing (numpy.ndarray, pandas.Series): An array or series\n",
    "            with boolean entries indicating which tests started to be processed.\n",
    "\n",
    "    \"\"\"\n",
    "    n_available_capacity = int(\n",
    "        params.loc[(\"testing\", \"processing\", \"available_capacity\"), \"value\"]\n",
    "    )\n",
    "    locs = states.loc[states.pending_test].sample(frac=1).index[:n_available_capacity]\n",
    "\n",
    "    to_be_processed_tests = pd.Series(index=states.index, data=False)\n",
    "    to_be_processed_tests.loc[locs] = True\n",
    "\n",
    "    return to_be_processed_tests"
   ]
  },
  {
   "cell_type": "code",
   "execution_count": 7,
   "metadata": {},
   "outputs": [],
   "source": [
    "testing_processing_models = {\"direct_processing\": {\"model\": process_tests}}"
   ]
  },
  {
   "cell_type": "markdown",
   "metadata": {},
   "source": [
    "## Parameters\n",
    "\n",
    "As seen before, sid requires two parameter values to set the number of available tests and the number of tests which can be processed by laboratories each day.\n",
    "\n",
    "```python\n",
    "params.loc[(\"testing\", \"allocation\", \"available_tests\"), \"value\"]\n",
    "params.loc[(\"testing\", \"processing\", \"available_capacity\"), \"value\"]\n",
    "```\n",
    "\n",
    "<div class=\"alert alert-info\">\n",
    "\n",
    "If you require a more flexible parametrisation, e.g., resources are changing daily, set the parameters very high (e.g., 999,999,999) to avoid getting any warnings. Then, implement your allocation models and processing models such that they have access to the data on resources. For example, use :func:`functools.partial` in contrast to side-effects.\n",
    "    \n",
    "</div>"
   ]
  },
  {
   "cell_type": "markdown",
   "metadata": {},
   "source": [
    "## Countdowns\n",
    "\n",
    "Testing requires some new countdowns which are explained here.\n",
    "\n",
    "- ``cd_received_test_result_true`` can be used to set the processing duration of the test.\n",
    "- ``cd_knows_immune_false`` and ``cd_knows_infectious_false`` are countdowns which are started when an individual receives a positive test result and at whose end the individual does not know about her health status anymore. The state variables ``knows_immune`` and ``knows_infectious`` can be used to change the behaviour of individuals in contact models."
   ]
  },
  {
   "cell_type": "markdown",
   "metadata": {},
   "source": [
    "## Prepare the rest\n",
    "\n",
    "To compare a model without testing with the same model with testing, we need to prepare some other objects.\n",
    "\n",
    "### Initial states"
   ]
  },
  {
   "cell_type": "code",
   "execution_count": 8,
   "metadata": {},
   "outputs": [],
   "source": [
    "available_ages = [\n",
    "    \"0-9\",\n",
    "    \"10-19\",\n",
    "    \"20-29\",\n",
    "    \"30-39\",\n",
    "    \"40-49\",\n",
    "    \"50-59\",\n",
    "    \"60-69\",\n",
    "    \"70-79\",\n",
    "    \"80-100\",\n",
    "]\n",
    "\n",
    "ages = np.random.choice(available_ages, size=10_000)\n",
    "regions = np.random.choice([\"North\", \"South\"], size=10_000)\n",
    "households = np.random.choice(5_000, size=10_000)\n",
    "\n",
    "initial_states = pd.DataFrame(\n",
    "    {\"age_group\": ages, \"region\": regions, \"household\": households}\n",
    ")\n",
    "initial_states = initial_states.astype(\"category\")\n",
    "initial_states[\"id\"] = initial_states.index"
   ]
  },
  {
   "cell_type": "markdown",
   "metadata": {},
   "source": [
    "### Initial infections"
   ]
  },
  {
   "cell_type": "code",
   "execution_count": 9,
   "metadata": {},
   "outputs": [],
   "source": [
    "initial_infections = pd.Series(data=False, index=initial_states.index)\n",
    "\n",
    "infected_individuals = initial_infections.sample(100, random_state=0).index\n",
    "initial_infections.loc[infected_individuals] = True"
   ]
  },
  {
   "cell_type": "markdown",
   "metadata": {},
   "source": [
    "### Contact models\n",
    "\n",
    "The model has three contact models for households (recurrent), close and distant contacts. We assume that a complete household will stay at home if any member of the household received a positive test result for at least 14 days or until the person is no longer infectious."
   ]
  },
  {
   "cell_type": "code",
   "execution_count": 10,
   "metadata": {},
   "outputs": [],
   "source": [
    "def _if_hh_member_tested_positive_hh_stays_home(contacts, states):\n",
    "    # Everyone who received a positive test result will stay home for 14 days\n",
    "    # after the infection.\n",
    "    condition = states.knows_immune & (\n",
    "        states.cd_ever_infected.ge(-13) | states.knows_infectious)\n",
    "\n",
    "    # Everyone who is in a household with someone \n",
    "    # who has been tested positive will stay at home.\n",
    "    household_level_condition = condition.groupby(\n",
    "        states.household).transform(any)\n",
    "    \n",
    "    # TODO: Random people asking for tests.\n",
    "\n",
    "    contacts.loc[household_level_condition] = 0\n",
    "\n",
    "    return contacts\n",
    "\n",
    "\n",
    "def meet_distant(states, params):\n",
    "    possible_nr_contacts = np.arange(2)\n",
    "    contacts = np.random.choice(possible_nr_contacts, size=len(states))\n",
    "    contacts = pd.Series(contacts, index=states.index)\n",
    "\n",
    "    contacts = _if_hh_member_tested_positive_hh_stays_home(contacts, states)\n",
    "\n",
    "    return contacts\n",
    "\n",
    "\n",
    "def meet_close(states, params):\n",
    "    possible_nr_contacts = np.arange(3)\n",
    "    contacts = np.random.choice(possible_nr_contacts, size=len(states))\n",
    "    contacts = pd.Series(contacts, index=states.index)\n",
    "\n",
    "    contacts = _if_hh_member_tested_positive_hh_stays_home(contacts, states)\n",
    "\n",
    "    return contacts\n",
    "\n",
    "\n",
    "def meet_household(states, params):\n",
    "    # everyone always meets their household members.\n",
    "    return pd.Series(1, states.index)\n",
    "\n",
    "\n",
    "assort_by = [\"age_group\", \"region\"]\n",
    "\n",
    "contact_models = {\n",
    "    \"household\": {\"model\": meet_household, \"assort_by\": \"household\", \"is_recurrent\": True},\n",
    "    \"close\": {\"model\": meet_close, \"assort_by\": assort_by, \"is_recurrent\": False},\n",
    "    \"distant\": {\"model\": meet_distant, \"assort_by\": assort_by, \"is_recurrent\": False},\n",
    "}"
   ]
  },
  {
   "cell_type": "markdown",
   "metadata": {},
   "source": [
    "### Parameters"
   ]
  },
  {
   "cell_type": "code",
   "execution_count": 11,
   "metadata": {},
   "outputs": [],
   "source": [
    "inf_params = pd.read_csv(\"infection_probs.csv\", index_col=INDEX_NAMES)\n",
    "assort_probs = pd.read_csv(\"assort_by_params.csv\", index_col=INDEX_NAMES)\n",
    "disease_params = get_epidemiological_parameters()\n",
    "params = pd.concat([disease_params, inf_params, assort_probs])"
   ]
  },
  {
   "cell_type": "code",
   "execution_count": 12,
   "metadata": {},
   "outputs": [
    {
     "name": "stderr",
     "output_type": "stream",
     "text": [
      "/home/klara/anaconda3/envs/sid/lib/python3.8/site-packages/IPython/core/interactiveshell.py:2876: PerformanceWarning: indexing past lexsort depth may impact performance.\n",
      "  result = self._run_cell(\n"
     ]
    }
   ],
   "source": [
    "params.loc[(\"testing\", \"allocation\", \"available_tests\"), \"value\"] = 30\n",
    "params.loc[(\"testing\", \"processing\", \"available_capacity\"), \"value\"] = 25"
   ]
  },
  {
   "cell_type": "markdown",
   "metadata": {},
   "source": [
    "## Run the simulation"
   ]
  },
  {
   "cell_type": "code",
   "execution_count": 13,
   "metadata": {
    "scrolled": false
   },
   "outputs": [],
   "source": [
    "run_simulation_with_testing = get_simulate_func(\n",
    "    params=params,\n",
    "    initial_states=initial_states,\n",
    "    initial_infections=initial_infections,\n",
    "    contact_models=contact_models,\n",
    "    duration={\"start\": \"2020-02-27\", \"periods\": 500},\n",
    "    testing_demand_models=testing_demand_models,\n",
    "    testing_allocation_models=testing_allocation_models,\n",
    "    testing_processing_models=testing_processing_models,\n",
    "    seed=0,\n",
    "    path=\".sid_with_testing\",\n",
    ")\n",
    "df_with_testing = run_simulation_with_testing(params=params)"
   ]
  },
  {
   "cell_type": "code",
   "execution_count": 14,
   "metadata": {},
   "outputs": [],
   "source": [
    "run_simulation_without_testing = get_simulate_func(\n",
    "    params=params,\n",
    "    initial_states=initial_states,\n",
    "    initial_infections=initial_infections,\n",
    "    contact_models=contact_models,\n",
    "    duration={\"start\": \"2020-02-27\", \"periods\": 500},\n",
    "    seed=0,\n",
    "    path=\".sid_without_testing\",\n",
    ")\n",
    "\n",
    "df_without_testing = run_simulation_without_testing(params=params)"
   ]
  },
  {
   "cell_type": "code",
   "execution_count": 15,
   "metadata": {},
   "outputs": [
    {
     "data": {
      "image/png": "[encoded data removed]",
      "text/plain": [
       "<Figure size 864x1296 with 16 Axes>"
      ]
     },
     "metadata": {
      "needs_background": "light"
     },
     "output_type": "display_data"
    }
   ],
   "source": [
    "fig, axs = plt.subplots(8, 2, figsize=(12, 18), sharey=\"row\", sharex=True)\n",
    "fig.subplots_adjust(bottom=0, wspace=0.2, hspace=0.2)\n",
    "fig.suptitle(\"Comparison of simulation without testing (left) and with testing (right).\")\n",
    "\n",
    "for i, df in enumerate([df_without_testing, df_with_testing]):\n",
    "    df = df.compute()\n",
    "\n",
    "    df.resample(\"D\", on=\"date\")[\"ever_infected\"].mean().plot(ax=axs[0, i], color=\"#5c7f8e\")\n",
    "    df.resample(\"D\", on=\"date\")[\"infectious\"].mean().plot(ax=axs[1, i], color=\"#5c7f8e\")\n",
    "    df.resample(\"D\", on=\"date\")[\"dead\"].sum().plot(ax=axs[2, i], color=\"#5c7f8e\")\n",
    "    infectious_last_seven_days = df.cd_infectious_false.between(-7, 0)\n",
    "    df.loc[infectious_last_seven_days].resample(\"D\", on=\"date\")[\n",
    "        \"n_has_infected\"\n",
    "    ].mean().plot(ax=axs[3, i], color=\"#5c7f8e\")\n",
    "    df.resample(\"D\", on=\"date\")[\"knows_infectious\"].sum().plot(ax=axs[4, i], color=\"#5c7f8e\")\n",
    "    df.resample(\"D\", on=\"date\")[\"knows_immune\"].sum().plot(ax=axs[5, i], color=\"#5c7f8e\")\n",
    "    df.resample(\"D\", on=\"date\")[\"pending_test\"].sum().plot(ax=axs[6, i], color=\"#5c7f8e\")\n",
    "    df.resample(\"D\", on=\"date\")[\"needs_icu\"].sum().plot(ax=axs[7, i], color=\"#5c7f8e\")\n",
    "\n",
    "for ax in axs.flatten():\n",
    "    ax.set_xlabel(\"\")\n",
    "    ax.spines[\"right\"].set_visible(False)\n",
    "    ax.spines[\"top\"].set_visible(False)\n",
    "\n",
    "for i in range(2):\n",
    "    axs[0, i].set_title(\"Share of Infected People\")\n",
    "    axs[1, i].set_title(\"Share of Infectious People in the Population\")\n",
    "    axs[2, i].set_title(\"Total Number of Deaths\")\n",
    "    axs[3, i].set_title(\"$R_t$ (Effective Reproduction Number)\")\n",
    "    axs[4, i].set_title(\"Number of People who know they are infectious\")\n",
    "    axs[5, i].set_title(\"Number of People who know they are immune\")\n",
    "    axs[6, i].set_title(\"Number of pending tests.\")\n",
    "    axs[7, i].set_title(\"Number of patients in ICU.\")\n",
    "\n",
    "plt.show()"
   ]
  },
  {
   "cell_type": "code",
   "execution_count": null,
   "metadata": {},
   "outputs": [],
   "source": []
  }
 ],
 "metadata": {
  "kernelspec": {
   "display_name": "Python 3",
   "language": "python",
   "name": "python3"
  },
  "language_info": {
   "codemirror_mode": {
    "name": "ipython",
    "version": 3
   },
   "file_extension": ".py",
   "mimetype": "text/x-python",
   "name": "python",
   "nbconvert_exporter": "python",
   "pygments_lexer": "ipython3",
   "version": "3.8.5"
  }
 },
 "nbformat": 4,
 "nbformat_minor": 4
}
