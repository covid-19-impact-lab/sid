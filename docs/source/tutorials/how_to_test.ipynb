{
 "cells": [
  {
   "cell_type": "markdown",
   "metadata": {},
   "source": [
    "# How to implement testing for Covid-19"
   ]
  },
  {
   "cell_type": "markdown",
   "metadata": {},
   "source": [
    "## The stages\n",
    "\n",
    "### Demand models"
   ]
  },
  {
   "cell_type": "code",
   "execution_count": null,
   "metadata": {},
   "outputs": [],
   "source": [
    "def demand_test_if_experience_symptoms(states, params):\n",
    "    \"\"\"Demand test if person experiences symptoms.\n",
    "    \n",
    "    This demand model assumes that individuals request a test for a\n",
    "    Covid-19 infection if they experience symptoms with a probability of 1.\n",
    "    \n",
    "    We select individuals who just got symptomatic by selecting the individuals where\n",
    "    the countdown for getting symptoms has reached 0, is exhausted.\n",
    "    \n",
    "    Args:\n",
    "        states (pandas.DataFrame): The states of the individuals.\n",
    "        params (pandas.DataFrame): A DataFrame with parameters.\n",
    "        \n",
    "    Returns:\n",
    "        demand_probability (numpy.ndarray, pandas.Series): An array or a series\n",
    "            which contains the probability for each individual demanding a test.\n",
    "    \n",
    "    \"\"\"\n",
    "    s = pd.Series(index=states.index, data=0)\n",
    "    s = s.where(states.cd_symptoms_true == 0, True)\n",
    "    return s"
   ]
  },
  {
   "cell_type": "code",
   "execution_count": null,
   "metadata": {},
   "outputs": [],
   "source": [
    "testing_demand_models = {\n",
    "    \"symptoms\": {\n",
    "        \"model\": demand_test_if_experience_symptoms,\n",
    "        # \"loc\": ...,\n",
    "    }\n",
    "}"
   ]
  },
  {
   "cell_type": "markdown",
   "metadata": {},
   "source": [
    "### Allocation models"
   ]
  },
  {
   "cell_type": "code",
   "execution_count": 1,
   "metadata": {},
   "outputs": [],
   "source": [
    "def allocate_tests(demands_test, states, params):\n",
    "    \"\"\"Allocate tests to individuals who demand a test.\n",
    "    \n",
    "    For simplicity, we assume that everyone who demands a test\n",
    "    receives one.\n",
    "    \n",
    "    Args:\n",
    "        demands_test (pandas.Series): A series with boolean entries\n",
    "            where ``True`` indicates individuals asking for a test.\n",
    "        states (pandas.DataFrame): The states of the individuals.\n",
    "        params (pandas.DataFrame): A DataFrame with parameters.\n",
    "    \n",
    "    Returns:\n",
    "        received_test (numpy.ndarray, pandas.Series): An array or a\n",
    "            series which indicates which individuals received a test.\n",
    "    \n",
    "    \"\"\"\n",
    "    received_test = demands_test.copy()\n",
    "    return received_test"
   ]
  },
  {
   "cell_type": "code",
   "execution_count": null,
   "metadata": {},
   "outputs": [],
   "source": [
    "testing_allocation_models = {\n",
    "    \"direct_allocation\": {\n",
    "        \"model\": allocate_tests,\n",
    "        # \"loc\": ...,\n",
    "    }\n",
    "}"
   ]
  },
  {
   "cell_type": "markdown",
   "metadata": {},
   "source": [
    "### Processing models"
   ]
  },
  {
   "cell_type": "code",
   "execution_count": 2,
   "metadata": {},
   "outputs": [],
   "source": [
    "def process_tests(pending_tests, states, params):\n",
    "    \"\"\"Process tests.\n",
    "    \n",
    "    For simplicity, we assume that all tests are processed immediately, without\n",
    "    further delay.\n",
    "    \n",
    "    Args:\n",
    "        pending_tests (pandas.Series): A series with boolean entries\n",
    "            indicating whether the test of an individual is still waiting\n",
    "            to be processed.\n",
    "        states (pandas.DataFrame): The states of the individuals.\n",
    "        params (pandas.DataFrame): A DataFrame with parameters.\n",
    "    \n",
    "    Returns:\n",
    "        started_processing (numpy.ndarray, pandas.Series): An array or series\n",
    "            with boolean entries indicating which tests started to be processed.    \n",
    "    \n",
    "    \"\"\"\n",
    "    started_processing = pending_tests.copy()\n",
    "    return started_processing"
   ]
  },
  {
   "cell_type": "code",
   "execution_count": null,
   "metadata": {},
   "outputs": [],
   "source": [
    "testing_processing_models = {\n",
    "    \"direct_processing\": {\n",
    "        \"model\": process_tests,\n",
    "        # \"loc\": ...,\n",
    "    }\n",
    "}"
   ]
  }
 ],
 "metadata": {
  "kernelspec": {
   "display_name": "Python 3",
   "language": "python",
   "name": "python3"
  },
  "language_info": {
   "codemirror_mode": {
    "name": "ipython",
    "version": 3
   },
   "file_extension": ".py",
   "mimetype": "text/x-python",
   "name": "python",
   "nbconvert_exporter": "python",
   "pygments_lexer": "ipython3",
   "version": "3.8.5"
  }
 },
 "nbformat": 4,
 "nbformat_minor": 4
}
