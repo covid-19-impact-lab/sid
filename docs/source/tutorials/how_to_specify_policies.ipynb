{
 "cells": [
  {
   "cell_type": "markdown",
   "metadata": {},
   "source": [
    "# How to specify policies\n",
    "\n",
    "In SID we can implement nearly any type of policy as a modification of the `contact models`.\n",
    "However, to keep things separable and modular, policies can also specified outside the\n",
    "contact models in a seperate, specialized ``contact_policies`` dictionary.\n",
    "\n",
    "Here we showcase some abilities of `contact_policies`, building from easier to more involved policies.\n",
    "\n",
    "Let's assume that we have three contact models, `school`, `work` and `other` and want to implement a lockdown from the 22nd of March to the 20th of April.\n",
    "\n",
    "Let's start with defining our `contact_model` functions and then define our `contact_models`.\n"
   ]
  },
  {
   "cell_type": "code",
   "execution_count": null,
   "metadata": {},
   "outputs": [],
   "source": [
    "def attends_school(states, params, seed):\n",
    "    \"\"\"All children with a school class go to school\"\"\"\n",
    "    date = get_date(states)\n",
    "    day = date.day_name()\n",
    "    if day in [\"Saturday\", \"Sunday\"]:\n",
    "        return pd.Series(data=0, index=states.index)\n",
    "    else:\n",
    "        return states[\"school_class_id\"] > 0\n",
    "\n",
    "\n",
    "def work_contacts(states, params, seed):\n",
    "    \"\"\"On weekdays every worker meets between 0 and 10 people.\"\"\"\n",
    "    contacts = pd.Series(data=0, index=states.index)\n",
    "    date = get_date(states)\n",
    "    day = date.day_name()\n",
    "    if day in [\"Saturday\", \"Sunday\"]:\n",
    "        return contacts\n",
    "    else:\n",
    "        workers = states[states[\"occupation\"] == \"working\"].index\n",
    "        contacts[workers] = np.random.randint(low=0, high=10, size=len(workers))\n",
    "        return contacts\n",
    "\n",
    "\n",
    "def n_strangers_to_meet(states, params, seed):\n",
    "    \"\"\"Every day everyone meets two strangers.\"\"\"\n",
    "    return pd.Series(2, index=states.index)"
   ]
  },
  {
   "cell_type": "code",
   "execution_count": null,
   "metadata": {},
   "outputs": [],
   "source": [
    "contact_models = {\n",
    "    \"school\": {\n",
    "        \"is_recurrent\": True,\n",
    "        \"model\": attends_school,\n",
    "        \"assort_by\": [\"school_class_id\"],\n",
    "    },\n",
    "    \"work\": {\n",
    "        \"is_recurrent\": False,\n",
    "        \"model\": work_contacts,\n",
    "    },\n",
    "    \"other\": {\n",
    "        \"is_recurrent\": False,\n",
    "        \"model\": n_strangers_to_meet,\n",
    "    },\n",
    "}"
   ]
  },
  {
   "cell_type": "markdown",
   "metadata": {},
   "source": [
    "To implement the most basic lockdown, let's close schools and businesses."
   ]
  },
  {
   "cell_type": "code",
   "execution_count": null,
   "metadata": {},
   "outputs": [],
   "source": [
    "def shut_down_model(states, contacts, seed):\n",
    "    \"\"\"Set all contacts to zero independent of incoming contacts.\"\"\"\n",
    "    return pd.Series(0, index=states.index)\n",
    "\n",
    "\n",
    "basic_lockdown = {\n",
    "    \"basic_lockdown_school\": {\n",
    "        \"affected_contact_model\": \"school\",\n",
    "        \"policy\": shut_down_model,\n",
    "        \"start\": \"2020-03-22\",\n",
    "        \"end\": \"2020-04-20\",\n",
    "    },\n",
    "    \"basic_lockdown_work\": {\n",
    "        \"affected_contact_model\": \"work\",\n",
    "        \"policy\": shut_down_model,\n",
    "        \"start\": \"2020-03-22\",\n",
    "        \"end\": \"2020-04-20\",\n",
    "    },\n",
    "}"
   ]
  },
  {
   "cell_type": "markdown",
   "metadata": {},
   "source": [
    "Let's say our states identify people working in systemically relevant\n",
    "occupations (grocery stores, hospitals ...) and we want to implement\n",
    "that they continue to work. We can do this by providing a policy function as the following:"
   ]
  },
  {
   "cell_type": "code",
   "execution_count": null,
   "metadata": {},
   "outputs": [],
   "source": [
    "def only_systemically_relevant_workers_work(states, contacts, seed):\n",
    "    essential = states[\"systemically_relevant\"]\n",
    "    return contacts.where(essential, 0)\n",
    "\n",
    "\n",
    "lockdown_for_non_essential_workers = {\n",
    "    \"basic_lockdown_school\": {\n",
    "        \"affected_contact_model\": \"school\",\n",
    "        \"policy\": shut_down_model,\n",
    "        \"start\": \"2020-03-22\",\n",
    "        \"end\": \"2020-04-20\",\n",
    "    },\n",
    "    \"only_essentials_work\": {\n",
    "        \"affected_contact_model\": \"work\",\n",
    "        \"policy\": only_systemically_relevant_workers_work,\n",
    "        \"start\": \"2020-03-22\",\n",
    "        \"end\": \"2020-04-20\",\n",
    "    },\n",
    "}"
   ]
  },
  {
   "cell_type": "markdown",
   "metadata": {},
   "source": [
    "In addition, we might place a state wide shelter in place order if the incidence surpasses 100 cases per 100 000 inhabitants. In that case we want to reduce the `other` contact model to have no one meet anyone. \n",
    "\n",
    "One way to specify this:"
   ]
  },
  {
   "cell_type": "code",
   "execution_count": null,
   "metadata": {},
   "outputs": [],
   "source": [
    "def shutdown_if_incidence_above_threshold(states, params, seed, threshold):\n",
    "    is_incidence_above_threshold = states[\"knows_infectious\"].mean() > threshold\n",
    "    return pd.Series(int(not is_incidence_above_threshold), index=states.index)\n",
    "\n",
    "\n",
    "lockdown_with_shelter_in_place = {\n",
    "    \"basic_lockdown_school\": {\n",
    "        \"affected_contact_model\": \"school\",\n",
    "        \"policy\": shut_down_model,\n",
    "        \"start\": \"2020-03-22\",\n",
    "        \"end\": \"2020-04-20\",\n",
    "    },\n",
    "    \"only_essentials_work\": {\n",
    "        \"affected_contact_model\": \"work\",\n",
    "        \"policy\": only_systemically_relevant_workers_work,\n",
    "        \"start\": \"2020-03-22\",\n",
    "        \"end\": \"2020-04-20\",\n",
    "    },\n",
    "    \"shelter_in_place\": {\n",
    "        \"affected_contact_model\": \"other\",\n",
    "        \"policy\": partial(\n",
    "            shutdown_if_incidence_above_threshold,\n",
    "            threshold=100 / 100000,\n",
    "        ),\n",
    "        \"start\": \"2020-03-22\",\n",
    "        \"end\": \"2020-04-20\",\n",
    "    },\n",
    "}"
   ]
  }
 ],
 "metadata": {
  "kernelspec": {
   "display_name": "Python 3",
   "language": "python",
   "name": "python3"
  },
  "language_info": {
   "codemirror_mode": {
    "name": "ipython",
    "version": 3
   },
   "file_extension": ".py",
   "mimetype": "text/x-python",
   "name": "python",
   "nbconvert_exporter": "python",
   "pygments_lexer": "ipython3",
   "version": "3.8.8"
  }
 },
 "nbformat": 4,
 "nbformat_minor": 4
}
