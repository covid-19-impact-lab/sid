{
 "cells": [
  {
   "cell_type": "markdown",
   "metadata": {},
   "source": [
    "# How to specify contact models\n",
    "\n",
    "This tutorial deepens your knowledge on contact models. Contact models were also discussed in the [first tutorial](how_to_simulate.ipynb), but crucial parts like recurrent contact models are missing."
   ]
  },
  {
   "cell_type": "code",
   "execution_count": 1,
   "metadata": {},
   "outputs": [],
   "source": [
    "%matplotlib inline\n",
    "\n",
    "import warnings\n",
    "\n",
    "import matplotlib.pyplot as plt\n",
    "import numpy as np\n",
    "import pandas as pd\n",
    "\n",
    "import sid\n",
    "from sid.config import INDEX_NAMES\n",
    "\n",
    "warnings.filterwarnings(\n",
    "    \"ignore\", message=\"indexing past lexsort depth may impact performance.\"\n",
    ")"
   ]
  },
  {
   "cell_type": "markdown",
   "metadata": {},
   "source": [
    "## Introduction\n",
    "\n",
    "To reiterate from the previous tutorial, there exist two flavors of contact models.\n",
    "\n",
    "- Recurrent contact models are used when people belong to a certain group and if they meet this group, they meet all participating members. You would use recurrent models to model school classes, households, and colleagues/work groups.\n",
    "\n",
    "- Random contact models are used when people do not always meet the same predefined groups, but contacts happen more randomly. Usually, people are more likely to meet a person from their own group, but there is also a lower probability of meeting someone from another group. Groups can be formed by combining any number of characteristics. If we would use age groups, we would say contacts are assortative by age. Each person also has a budget for the number of people she can meet. You would use random contact models, for example, to model meetings during freetime activities, infrequent contacts at work, or acquaintances.\n",
    "\n",
    "Here, we are going to have a closer look at each category and provide examples on how to implement them.\n",
    "\n",
    "First, we create states with age groups and geographic information, initialise the contact models and parameters, and the initial conditions."
   ]
  },
  {
   "cell_type": "code",
   "execution_count": 2,
   "metadata": {},
   "outputs": [
    {
     "data": {
      "text/html": [
       "<div>\n",
       "<style scoped>\n",
       "    .dataframe tbody tr th:only-of-type {\n",
       "        vertical-align: middle;\n",
       "    }\n",
       "\n",
       "    .dataframe tbody tr th {\n",
       "        vertical-align: top;\n",
       "    }\n",
       "\n",
       "    .dataframe thead th {\n",
       "        text-align: right;\n",
       "    }\n",
       "</style>\n",
       "<table border=\"1\" class=\"dataframe\">\n",
       "  <thead>\n",
       "    <tr style=\"text-align: right;\">\n",
       "      <th></th>\n",
       "      <th>age_group</th>\n",
       "      <th>region</th>\n",
       "    </tr>\n",
       "  </thead>\n",
       "  <tbody>\n",
       "    <tr>\n",
       "      <th>0</th>\n",
       "      <td>20-29</td>\n",
       "      <td>West</td>\n",
       "    </tr>\n",
       "    <tr>\n",
       "      <th>1</th>\n",
       "      <td>50-59</td>\n",
       "      <td>North</td>\n",
       "    </tr>\n",
       "    <tr>\n",
       "      <th>2</th>\n",
       "      <td>20-29</td>\n",
       "      <td>West</td>\n",
       "    </tr>\n",
       "    <tr>\n",
       "      <th>3</th>\n",
       "      <td>80-100</td>\n",
       "      <td>South</td>\n",
       "    </tr>\n",
       "    <tr>\n",
       "      <th>4</th>\n",
       "      <td>60-69</td>\n",
       "      <td>South</td>\n",
       "    </tr>\n",
       "  </tbody>\n",
       "</table>\n",
       "</div>"
      ],
      "text/plain": [
       "  age_group region\n",
       "0     20-29   West\n",
       "1     50-59  North\n",
       "2     20-29   West\n",
       "3    80-100  South\n",
       "4     60-69  South"
      ]
     },
     "execution_count": 2,
     "metadata": {},
     "output_type": "execute_result"
    }
   ],
   "source": [
    "n_individuals = 10_000\n",
    "available_ages = [\n",
    "    \"0-9\",\n",
    "    \"10-19\",\n",
    "    \"20-29\",\n",
    "    \"30-39\",\n",
    "    \"40-49\",\n",
    "    \"50-59\",\n",
    "    \"60-69\",\n",
    "    \"70-79\",\n",
    "    \"80-100\",\n",
    "]\n",
    "\n",
    "ages = np.random.choice(available_ages, size=n_individuals)\n",
    "regions = np.random.choice([\"North\", \"East\", \"South\", \"West\"], size=n_individuals)\n",
    "\n",
    "initial_states = pd.DataFrame({\"age_group\": ages, \"region\": regions}).astype(\"category\")\n",
    "initial_states.head(5)"
   ]
  },
  {
   "cell_type": "code",
   "execution_count": 3,
   "metadata": {},
   "outputs": [],
   "source": [
    "contact_models = {}"
   ]
  },
  {
   "cell_type": "code",
   "execution_count": 4,
   "metadata": {},
   "outputs": [
    {
     "data": {
      "text/html": [
       "<div>\n",
       "<style scoped>\n",
       "    .dataframe tbody tr th:only-of-type {\n",
       "        vertical-align: middle;\n",
       "    }\n",
       "\n",
       "    .dataframe tbody tr th {\n",
       "        vertical-align: top;\n",
       "    }\n",
       "\n",
       "    .dataframe thead th {\n",
       "        text-align: right;\n",
       "    }\n",
       "</style>\n",
       "<table border=\"1\" class=\"dataframe\">\n",
       "  <thead>\n",
       "    <tr style=\"text-align: right;\">\n",
       "      <th></th>\n",
       "      <th></th>\n",
       "      <th></th>\n",
       "      <th>value</th>\n",
       "    </tr>\n",
       "    <tr>\n",
       "      <th>category</th>\n",
       "      <th>subcategory</th>\n",
       "      <th>name</th>\n",
       "      <th></th>\n",
       "    </tr>\n",
       "  </thead>\n",
       "  <tbody>\n",
       "    <tr>\n",
       "      <th>health_system</th>\n",
       "      <th>icu_limit_relative</th>\n",
       "      <th>icu_limit_relative</th>\n",
       "      <td>50.00</td>\n",
       "    </tr>\n",
       "    <tr>\n",
       "      <th rowspan=\"4\" valign=\"top\">cd_infectious_true</th>\n",
       "      <th rowspan=\"4\" valign=\"top\">all</th>\n",
       "      <th>1</th>\n",
       "      <td>0.39</td>\n",
       "    </tr>\n",
       "    <tr>\n",
       "      <th>2</th>\n",
       "      <td>0.35</td>\n",
       "    </tr>\n",
       "    <tr>\n",
       "      <th>3</th>\n",
       "      <td>0.22</td>\n",
       "    </tr>\n",
       "    <tr>\n",
       "      <th>5</th>\n",
       "      <td>0.04</td>\n",
       "    </tr>\n",
       "  </tbody>\n",
       "</table>\n",
       "</div>"
      ],
      "text/plain": [
       "                                                          value\n",
       "category           subcategory        name                     \n",
       "health_system      icu_limit_relative icu_limit_relative  50.00\n",
       "cd_infectious_true all                1                    0.39\n",
       "                                      2                    0.35\n",
       "                                      3                    0.22\n",
       "                                      5                    0.04"
      ]
     },
     "execution_count": 4,
     "metadata": {},
     "output_type": "execute_result"
    }
   ],
   "source": [
    "params = sid.load_epidemiological_parameters()\n",
    "params.head(5)"
   ]
  },
  {
   "cell_type": "code",
   "execution_count": 5,
   "metadata": {},
   "outputs": [],
   "source": [
    "initial_conditions = {\"initial_infections\": 100, \"initial_immunity\": 50}"
   ]
  },
  {
   "cell_type": "markdown",
   "metadata": {},
   "source": [
    "We further have to specify the parameters governing the immunity level and waning. For a detailed explaination of these parameters see the tutorial notebook on how to model immunity."
   ]
  },
  {
   "cell_type": "code",
   "execution_count": 6,
   "metadata": {},
   "outputs": [],
   "source": [
    "immunity_params = pd.read_csv(\"immunity_params.csv\", index_col=INDEX_NAMES)\n",
    "\n",
    "params = pd.concat((params, immunity_params))"
   ]
  },
  {
   "cell_type": "markdown",
   "metadata": {},
   "source": [
    "## Random contact models\n",
    "\n",
    "We start with random contact models since they are more familiar from the [previous tutorial](how_to_simulate.ipynb). We will create a model called ``\"random_encounters\"`` and represents random daily encounters with just a few individuals. The contacts are weakly assortative with regards to age and region.\n",
    "\n",
    "First, we focus on the contact model function. The function has to provide the following arguments.\n",
    "\n",
    "- ``states`` which is a ``pandas.DataFrame`` with the information on all individuals.\n",
    "- ``params`` which is a ``pandas.DataFrame`` with a three-dimensional index containing the parameters.\n",
    "- ``seed`` is an integer which can be used to set up the random number generator and ensure reproducibility. The value is part of a seed sequence so that each seed is only used once.\n",
    "\n",
    "The return of the function is a ``pandas.Series`` with the same index as ``states``. The values are integer or floats which represent the number of contacts each person can have. Floats are also permitted and rounded such that the sum of contacts remains the same. If the value of individuals is zero, they will not have any contacts."
   ]
  },
  {
   "cell_type": "code",
   "execution_count": 7,
   "metadata": {},
   "outputs": [],
   "source": [
    "def random_encounters(states, params, seed):\n",
    "    np.random.seed(seed)\n",
    "    contacts = np.random.choice(np.arange(3), size=states.shape[0])\n",
    "    return pd.Series(index=states.index, data=contacts)"
   ]
  },
  {
   "cell_type": "markdown",
   "metadata": {},
   "source": [
    "To complete the contact model, we state that the contact model is not recurrent and add information on assortative variables which influence how people meet. For example, if you are having a random encounter in your neighborhood, it is likely that the person resides in the same area, but it is less clear that the person also belongs to your age group."
   ]
  },
  {
   "cell_type": "code",
   "execution_count": 8,
   "metadata": {},
   "outputs": [],
   "source": [
    "contact_models[\"random_encounters\"] = {\n",
    "    \"model\": random_encounters,\n",
    "    \"assort_by\": [\"age_group\", \"region\"],\n",
    "    \"is_recurrent\": False,\n",
    "}"
   ]
  },
  {
   "cell_type": "markdown",
   "metadata": {},
   "source": [
    "This probability distribution for the assortative matching can be set in ``params`` in a simplified way. You only need to specify how likely it is to meet someone from the same age group and the same region. The remaining probability mass will be split across all other groups. This forms two transition matrices, one for age, one for regions. The two transition matrices are then combined and control the sampling of random contacts for each individual."
   ]
  },
  {
   "cell_type": "code",
   "execution_count": 9,
   "metadata": {},
   "outputs": [],
   "source": [
    "params.loc[(\"assortative_matching\", \"random_encounters\", \"age_group\"), \"value\"] = 0.2\n",
    "params.loc[(\"assortative_matching\", \"random_encounters\", \"region\"), \"value\"] = 0.9"
   ]
  },
  {
   "cell_type": "raw",
   "metadata": {
    "raw_mimetype": "text/restructuredtext",
    "tags": []
   },
   "source": [
    ".. seealso::\n",
    "\n",
    "    If you want to learn more about how to define the transition matrices, see the :doc:`reference guide on contact models <../reference_guides/contact_models>`. It is also possible to define the diagonal of the matrix or the full transition matrix."
   ]
  },
  {
   "cell_type": "markdown",
   "metadata": {},
   "source": [
    "At last, add the infection probability of this contact model to the parameters."
   ]
  },
  {
   "cell_type": "code",
   "execution_count": 10,
   "metadata": {},
   "outputs": [],
   "source": [
    "params.loc[(\"infection_prob\", \"random_encounters\", \"random_encounters\"), \"value\"] = 0.1"
   ]
  },
  {
   "cell_type": "markdown",
   "metadata": {},
   "source": [
    "## Recurrent contact models\n",
    "\n",
    "As an example for recurrent contact models, this section will implement a contact model for artificial households.\n",
    "\n",
    "Since using census data or other ways to replicate the age-household structure of any country is out of the scope of this tutorial, we will simply assume that the average household size is two and sample household ids accordingly disregarding information on age."
   ]
  },
  {
   "cell_type": "code",
   "execution_count": 11,
   "metadata": {},
   "outputs": [],
   "source": [
    "np.random.seed(0)\n",
    "hh_id = pd.Series(np.random.choice(int(n_individuals / 1.6), size=n_individuals))\n",
    "initial_states[\"hh_id\"] = hh_id.astype(\"category\")"
   ]
  },
  {
   "cell_type": "markdown",
   "metadata": {},
   "source": [
    "In contrast to random contact models, recurrent contact models do not return a ``pandas.Series`` with integers or floats but bools. If the value is ``True``, individuals meet all other participating members of their groups. If the value is ``False``, individuals do not meet any members of their groups."
   ]
  },
  {
   "cell_type": "code",
   "execution_count": 12,
   "metadata": {},
   "outputs": [],
   "source": [
    "def meet_household(states, params, seed):\n",
    "    return pd.Series(index=states.index, data=True)"
   ]
  },
  {
   "cell_type": "markdown",
   "metadata": {},
   "source": [
    "For the final contact model, we add the column which defines the households as the assortative variable and declare it as recurrent."
   ]
  },
  {
   "cell_type": "code",
   "execution_count": 13,
   "metadata": {},
   "outputs": [],
   "source": [
    "contact_models[\"meet_household\"] = {\n",
    "    \"model\": meet_household,\n",
    "    \"assort_by\": \"hh_id\",\n",
    "    \"is_recurrent\": True,\n",
    "}"
   ]
  },
  {
   "cell_type": "markdown",
   "metadata": {},
   "source": [
    "At last, add the infection probability."
   ]
  },
  {
   "cell_type": "code",
   "execution_count": 14,
   "metadata": {},
   "outputs": [],
   "source": [
    "params.loc[(\"infection_prob\", \"meet_household\", \"meet_household\"), \"value\"] = 0.15"
   ]
  },
  {
   "cell_type": "markdown",
   "metadata": {},
   "source": [
    "## The simulation\n",
    "\n",
    "Now, we are going to simulate this population for 200 periods. For that, we define a duration which is a dictionary with a ``\"start\"`` and a ``\"periods\"`` key or a ``\"start\"`` and ``\"end\"`` keys."
   ]
  },
  {
   "cell_type": "code",
   "execution_count": 15,
   "metadata": {},
   "outputs": [],
   "source": [
    "duration = {\"start\": \"2020-02-27\", \"periods\": 200}"
   ]
  },
  {
   "cell_type": "code",
   "execution_count": 16,
   "metadata": {},
   "outputs": [],
   "source": [
    "simulate = sid.get_simulate_func(\n",
    "    initial_states=initial_states,\n",
    "    contact_models=contact_models,\n",
    "    params=params,\n",
    "    initial_conditions=initial_conditions,\n",
    "    duration=duration,\n",
    "    seed=0,\n",
    ")"
   ]
  },
  {
   "cell_type": "code",
   "execution_count": 17,
   "metadata": {},
   "outputs": [
    {
     "name": "stderr",
     "output_type": "stream",
     "text": [
      "Start the simulation...\n",
      "2020-09-13: 100%|██████████| 200/200 [00:28<00:00,  7.05it/s]\n"
     ]
    }
   ],
   "source": [
    "result = simulate(params=params)"
   ]
  },
  {
   "cell_type": "markdown",
   "metadata": {},
   "source": [
    "Let us take a look at various statistics of the sample."
   ]
  },
  {
   "cell_type": "code",
   "execution_count": 18,
   "metadata": {},
   "outputs": [],
   "source": [
    "df = result[\"time_series\"].compute()"
   ]
  },
  {
   "cell_type": "code",
   "execution_count": 19,
   "metadata": {},
   "outputs": [
    {
     "data": {
      "image/png": "[encoded data removed]",
      "text/plain": [
       "<Figure size 864x576 with 6 Axes>"
      ]
     },
     "metadata": {
      "needs_background": "light"
     },
     "output_type": "display_data"
    }
   ],
   "source": [
    "fig, axs = plt.subplots(3, 2, figsize=(12, 8))\n",
    "fig.subplots_adjust(bottom=0.15, wspace=0.2, hspace=0.4)\n",
    "\n",
    "axs = axs.flatten()\n",
    "\n",
    "df.resample(\"D\", on=\"date\")[\"ever_infected\"].mean().plot(ax=axs[0], color=\"#5c7f8e\")\n",
    "df.resample(\"D\", on=\"date\")[\"infectious\"].mean().plot(ax=axs[1], color=\"#5c7f8e\")\n",
    "df.resample(\"D\", on=\"date\")[\"dead\"].sum().plot(ax=axs[2], color=\"#5c7f8e\")\n",
    "\n",
    "r_zero = sid.statistics.calculate_r_zero(df, window_length=7)\n",
    "r_zero.plot(ax=axs[3], color=\"#5c7f8e\")\n",
    "\n",
    "r_effective = sid.statistics.calculate_r_effective(df, window_length=7)\n",
    "r_effective.plot(ax=axs[4], color=\"#5c7f8e\")\n",
    "\n",
    "for ax in axs:\n",
    "    ax.set_xlabel(\"\")\n",
    "    ax.spines[\"right\"].set_visible(False)\n",
    "    ax.spines[\"top\"].set_visible(False)\n",
    "\n",
    "axs[0].set_title(\"Share of Infected People\")\n",
    "axs[1].set_title(\"Share of Infectious People in the Population\")\n",
    "axs[2].set_title(\"Total Number of Deaths\")\n",
    "axs[3].set_title(\"$R_0$ (Basic Reproduction Number)\")\n",
    "axs[4].set_title(\"$R_t$ (Effective Reproduction Number)\")\n",
    "\n",
    "axs[5].set_visible(False)\n",
    "\n",
    "plt.show()"
   ]
  }
 ],
 "metadata": {
  "kernelspec": {
   "display_name": "Python 3",
   "language": "python",
   "name": "python3"
  },
  "language_info": {
   "codemirror_mode": {
    "name": "ipython",
    "version": 3
   },
   "file_extension": ".py",
   "mimetype": "text/x-python",
   "name": "python",
   "nbconvert_exporter": "python",
   "pygments_lexer": "ipython3",
   "version": "3.9.5"
  },
  "toc-autonumbering": false,
  "toc-showcode": true,
  "toc-showmarkdowntxt": true
 },
 "nbformat": 4,
 "nbformat_minor": 4
}
