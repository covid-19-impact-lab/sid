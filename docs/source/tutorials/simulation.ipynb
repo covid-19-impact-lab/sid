{
 "cells": [
  {
   "cell_type": "markdown",
   "metadata": {},
   "source": [
    "# Simulation\n",
    "\n",
    "In this tutorial, you are going to simulate the spread of COVID-19 for an artificial\n",
    "data set. First, some imports"
   ]
  },
  {
   "cell_type": "code",
   "execution_count": null,
   "metadata": {},
   "outputs": [],
   "source": [
    "%matplotlib inline\n",
    "\n",
    "import matplotlib.pyplot as plt\n",
    "import numpy as np\n",
    "import pandas as pd\n",
    "\n",
    "from sid import simulate\n",
    "\n",
    "\n",
    "N_INDIVIDUALS = 10_000\n",
    "N_INFECTIOUS = 100\n",
    "N_PERIODS = 200"
   ]
  },
  {
   "cell_type": "markdown",
   "metadata": {},
   "source": [
    "At first, we are loading some pre-defined parameters."
   ]
  },
  {
   "cell_type": "code",
   "execution_count": null,
   "metadata": {},
   "outputs": [],
   "source": [
    "params = pd.read_csv(\n",
    "    \"../../../sid/params.csv\", \n",
    "    index_col=[\"category\", \"subcategory\", \"name\"])"
   ]
  },
  {
   "cell_type": "markdown",
   "metadata": {},
   "source": [
    "Next, simulate some data on individuals which have two characteristics, an age group and\n",
    "a country they live in."
   ]
  },
  {
   "cell_type": "code",
   "execution_count": null,
   "metadata": {},
   "outputs": [],
   "source": [
    "age_group = np.random.choice(\n",
    "    [\n",
    "        \"0 - 9\",\n",
    "        \"10 - 19\",\n",
    "        \"20 - 29\",\n",
    "        \"30 - 39\",\n",
    "        \"40 - 49\",\n",
    "        \"50 - 59\",\n",
    "        \"60 - 69\",\n",
    "        \"70 - 79\",\n",
    "        \"80 - 100\",\n",
    "    ],\n",
    "    size=N_INDIVIDUALS,\n",
    ")\n",
    "region = np.random.choice([\"Drenthe\", \"Gelderland\", \"Overtjssel\"], size=N_INDIVIDUALS)\n",
    "\n",
    "initial_states = pd.DataFrame({\n",
    "    \"age_group\": age_group, \n",
    "    \"region\": region})\n",
    "initial_states.head(5)"
   ]
  },
  {
   "cell_type": "markdown",
   "metadata": {},
   "source": [
    "For the simulation, we need at least one individual which is infected."
   ]
  },
  {
   "cell_type": "code",
   "execution_count": null,
   "metadata": {},
   "outputs": [],
   "source": [
    "initial_infections = pd.Series(data=False, index=initial_states.index)\n",
    "\n",
    "infected_individuals = initial_infections.sample(\n",
    "    N_INFECTIOUS, random_state=0).index\n",
    "initial_infections.loc[infected_individuals] = True"
   ]
  },
  {
   "cell_type": "markdown",
   "metadata": {},
   "source": [
    "Furthermore, we need to define how many contacts people have. We assume people have two\n",
    "types of contacts, close and distant contacts. They also have fewer close than distant\n",
    "contacts."
   ]
  },
  {
   "cell_type": "code",
   "execution_count": null,
   "metadata": {},
   "outputs": [],
   "source": [
    "def meet_distant(states, params, period):\n",
    "    contacts = np.random.choice(10, size=len(states))\n",
    "    return pd.Series(contacts, index=states.index)\n",
    "\n",
    "\n",
    "def meet_close(states, params, period):\n",
    "    contacts = np.random.choice(5, size=len(states))\n",
    "    return pd.Series(contacts, index=states.index)\n",
    "\n",
    "assort_by=[\"age_group\", \"region\"]\n",
    "\n",
    "contact_models = {\n",
    "    \"meet_distant\": {\n",
    "        \"contact_type\": \"distant\", \n",
    "        \"model\": meet_distant, \n",
    "        \"assort_by\": assort_by,\n",
    "    },\n",
    "    \"meet_close\": {\n",
    "        \"contact_type\": \"close\",\n",
    "        \"model\": meet_close,\n",
    "        \"assort_by\": assort_by,\n",
    "    },\n",
    "}"
   ]
  },
  {
   "cell_type": "code",
   "execution_count": null,
   "metadata": {},
   "outputs": [],
   "source": [
    "params.tail()"
   ]
  },
  {
   "cell_type": "markdown",
   "metadata": {},
   "source": [
    "Sid allows to estimate one infection probability per contact type. In this example,\n",
    "close contacts are more infectious as distant contacts with 5% versus 3%. At last,\n",
    "drop a generic infection rate."
   ]
  },
  {
   "cell_type": "code",
   "execution_count": null,
   "metadata": {
    "scrolled": false
   },
   "outputs": [],
   "source": [
    "to_add = [\n",
    "    (\"infection_prob\", \"meet_close\", None), \n",
    "    (\"infection_prob\", \"meet_distant\", None)\n",
    "]\n",
    "\n",
    "infection_probs = pd.DataFrame(\n",
    "    columns=params.columns, \n",
    "    index=pd.MultiIndex.from_tuples(to_add),\n",
    ")\n",
    "infection_probs[\"value\"] = [0.05, 0.03]\n",
    "params = params.append(infection_probs)"
   ]
  },
  {
   "cell_type": "markdown",
   "metadata": {},
   "source": [
    "We also allow the government to react to the rising number of infections by enforcing a\n",
    "mild curfew which halves the contacts of all individuals if 10% of all individuals are\n",
    "infectious."
   ]
  },
  {
   "cell_type": "code",
   "execution_count": null,
   "metadata": {},
   "outputs": [],
   "source": [
    "def contact_policy_is_active(states):\n",
    "    return states[\"infectious\"].mean() > 0.1\n",
    "\n",
    "contact_policies = {\n",
    "    \"meet_close\": {\n",
    "        \"start\": \"2020-03-12\",\n",
    "        \"multiplier\": 0.5,\n",
    "        \"is_active\": contact_policy_is_active,\n",
    "    },\n",
    "    \"meet_distant\": {\n",
    "        \"start\": \"2020-03-12\",\n",
    "        \"multiplier\": 0.5,\n",
    "        \"is_active\": contact_policy_is_active,\n",
    "    },\n",
    "}"
   ]
  },
  {
   "cell_type": "markdown",
   "metadata": {},
   "source": [
    "We are going to simulate this population for 200 periods."
   ]
  },
  {
   "cell_type": "code",
   "execution_count": null,
   "metadata": {
    "scrolled": false
   },
   "outputs": [],
   "source": [
    "df = simulate(\n",
    "    params=params,\n",
    "    initial_states=initial_states,\n",
    "    initial_infections=initial_infections,\n",
    "    contact_models=contact_models,\n",
    "    duration={\"start\": \"2020-02-27\", \"periods\": N_PERIODS},\n",
    "    contact_policies=contact_policies,\n",
    "    seed=0,\n",
    ")\n",
    "df.head(5)"
   ]
  },
  {
   "cell_type": "markdown",
   "metadata": {},
   "source": [
    "Let us take a look at various statistics of the sample."
   ]
  },
  {
   "cell_type": "code",
   "execution_count": null,
   "metadata": {},
   "outputs": [],
   "source": [
    "fig, axs = plt.subplots(2, 2, figsize=(12, 8))\n",
    "\n",
    "axs = axs.flatten()\n",
    "\n",
    "df.groupby(\"date\").ever_infected.mean().plot(ax=axs[0])\n",
    "df.groupby(\"date\").infectious.mean().plot(ax=axs[1])\n",
    "df.groupby(\"date\").dead.mean().plot(ax=axs[2])\n",
    "\n",
    "infectious_last_seven_days = df.cd_infectious_false.between(-7, 0)\n",
    "df.loc[infectious_last_seven_days].groupby(\"date\").infection_counter.mean().plot(ax=axs[3])\n",
    "\n",
    "axs[0].set_title(\"Ever Infected\")\n",
    "axs[1].set_title(\"Infectious\")\n",
    "axs[2].set_title(\"Deaths\")\n",
    "axs[3].set_title(\"R0\")\n",
    "\n",
    "fig.tight_layout()"
   ]
  },
  {
   "cell_type": "code",
   "execution_count": null,
   "metadata": {},
   "outputs": [],
   "source": []
  },
  {
   "cell_type": "code",
   "execution_count": null,
   "metadata": {},
   "outputs": [],
   "source": []
  },
  {
   "cell_type": "code",
   "execution_count": null,
   "metadata": {},
   "outputs": [],
   "source": []
  }
 ],
 "metadata": {
  "kernelspec": {
   "display_name": "Python 3",
   "language": "python",
   "name": "python3"
  },
  "language_info": {
   "codemirror_mode": {
    "name": "ipython",
    "version": 3
   },
   "file_extension": ".py",
   "mimetype": "text/x-python",
   "name": "python",
   "nbconvert_exporter": "python",
   "pygments_lexer": "ipython3",
   "version": "3.7.6"
  }
 },
 "nbformat": 4,
 "nbformat_minor": 4
}
