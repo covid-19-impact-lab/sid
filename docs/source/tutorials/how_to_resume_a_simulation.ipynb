{
 "cells": [
  {
   "cell_type": "markdown",
   "metadata": {},
   "source": [
    "# How to resume a simulation\n",
    "\n",
    "This tutorial shows how to resume a simulation with the states coming from a previous simulation. It also speeds up the generation of results because after estimating parameters on some data, you can use the last day of the simulation results to run multiple counterfactual simulations.\n",
    "\n",
    "In the following we use the same model as in the [how to simulate](how_to_simulate.ipynb) tutorial.\n",
    "\n",
    "1. We will simulate data for some periods.\n",
    "2. Inspect the simulation results.\n",
    "3. Restart the simulation."
   ]
  },
  {
   "cell_type": "code",
   "execution_count": 1,
   "metadata": {},
   "outputs": [],
   "source": [
    "%matplotlib inline\n",
    "\n",
    "import matplotlib.pyplot as plt\n",
    "import numpy as np\n",
    "import pandas as pd\n",
    "import sid\n",
    "from sid.config import INDEX_NAMES"
   ]
  },
  {
   "cell_type": "markdown",
   "metadata": {},
   "source": [
    "## Simulate the data"
   ]
  },
  {
   "cell_type": "markdown",
   "metadata": {},
   "source": [
    "<div class=\"alert alert-info\">\n",
    "    If you are familiar with the tutorial, skip this step and\n",
    "    start immediately with the\n",
    "    [continuation of the simulation](#Resume-the-simulation).\n",
    "</div>\n",
    "\n",
    "Let's create an artificial population of 10 000 people. \n",
    "Every individual will be characterized by its region and age group.\n",
    "\n",
    "The age group will affect the progression of the disease.\n",
    "Both region and age group will have an influence on who our individuals are going to meet."
   ]
  },
  {
   "cell_type": "code",
   "execution_count": 2,
   "metadata": {},
   "outputs": [
    {
     "data": {
      "text/html": [
       "<div>\n",
       "<style scoped>\n",
       "    .dataframe tbody tr th:only-of-type {\n",
       "        vertical-align: middle;\n",
       "    }\n",
       "\n",
       "    .dataframe tbody tr th {\n",
       "        vertical-align: top;\n",
       "    }\n",
       "\n",
       "    .dataframe thead th {\n",
       "        text-align: right;\n",
       "    }\n",
       "</style>\n",
       "<table border=\"1\" class=\"dataframe\">\n",
       "  <thead>\n",
       "    <tr style=\"text-align: right;\">\n",
       "      <th></th>\n",
       "      <th>age_group</th>\n",
       "      <th>region</th>\n",
       "    </tr>\n",
       "  </thead>\n",
       "  <tbody>\n",
       "    <tr>\n",
       "      <th>0</th>\n",
       "      <td>30-39</td>\n",
       "      <td>North</td>\n",
       "    </tr>\n",
       "    <tr>\n",
       "      <th>1</th>\n",
       "      <td>30-39</td>\n",
       "      <td>South</td>\n",
       "    </tr>\n",
       "    <tr>\n",
       "      <th>2</th>\n",
       "      <td>30-39</td>\n",
       "      <td>South</td>\n",
       "    </tr>\n",
       "    <tr>\n",
       "      <th>3</th>\n",
       "      <td>40-49</td>\n",
       "      <td>North</td>\n",
       "    </tr>\n",
       "    <tr>\n",
       "      <th>4</th>\n",
       "      <td>0-9</td>\n",
       "      <td>South</td>\n",
       "    </tr>\n",
       "  </tbody>\n",
       "</table>\n",
       "</div>"
      ],
      "text/plain": [
       "  age_group region\n",
       "0     30-39  North\n",
       "1     30-39  South\n",
       "2     30-39  South\n",
       "3     40-49  North\n",
       "4       0-9  South"
      ]
     },
     "execution_count": 2,
     "metadata": {},
     "output_type": "execute_result"
    }
   ],
   "source": [
    "available_ages = [\n",
    "    \"0-9\",\n",
    "    \"10-19\",\n",
    "    \"20-29\",\n",
    "    \"30-39\",\n",
    "    \"40-49\",\n",
    "    \"50-59\",\n",
    "    \"60-69\",\n",
    "    \"70-79\",\n",
    "    \"80-100\",\n",
    "]\n",
    "\n",
    "ages = np.random.choice(available_ages, size=10_000)\n",
    "regions = np.random.choice([\"North\", \"South\"], size=10_000)\n",
    "\n",
    "initial_states = pd.DataFrame({\"age_group\": ages, \"region\": regions}).astype(\"category\")\n",
    "initial_states.head(5)"
   ]
  },
  {
   "cell_type": "markdown",
   "metadata": {},
   "source": [
    "### Specifying the Contact Models"
   ]
  },
  {
   "cell_type": "markdown",
   "metadata": {},
   "source": [
    "Next, let's define how many contacts people have every day. \n",
    "We assume people have two types of contacts, close and distant contacts. They also have fewer close than distant contacts."
   ]
  },
  {
   "cell_type": "code",
   "execution_count": 3,
   "metadata": {},
   "outputs": [],
   "source": [
    "def meet_distant(states, params):\n",
    "    possible_nr_contacts = np.arange(10)\n",
    "    contacts = np.random.choice(possible_nr_contacts, size=len(states))\n",
    "    return pd.Series(contacts, index=states.index)\n",
    "\n",
    "\n",
    "def meet_close(states, params):\n",
    "    possible_nr_contacts = np.arange(5)\n",
    "    contacts = np.random.choice(possible_nr_contacts, size=len(states))\n",
    "    return pd.Series(contacts, index=states.index)\n",
    "\n",
    "\n",
    "assort_by = [\"age_group\", \"region\"]\n",
    "\n",
    "contact_models = {\n",
    "    \"distant\": {\"model\": meet_distant, \"assort_by\": assort_by, \"is_recurrent\": False},\n",
    "    \"close\": {\"model\": meet_close, \"assort_by\": assort_by, \"is_recurrent\": False},\n",
    "}"
   ]
  },
  {
   "cell_type": "markdown",
   "metadata": {},
   "source": [
    "### Specifying the model parameters"
   ]
  },
  {
   "cell_type": "markdown",
   "metadata": {},
   "source": [
    "sid allows to estimate one infection probability per contact type. \n",
    "In this example, close contacts are more infectious than distant contacts with 5% versus 3%. "
   ]
  },
  {
   "cell_type": "code",
   "execution_count": 4,
   "metadata": {},
   "outputs": [
    {
     "data": {
      "text/html": [
       "<div>\n",
       "<style scoped>\n",
       "    .dataframe tbody tr th:only-of-type {\n",
       "        vertical-align: middle;\n",
       "    }\n",
       "\n",
       "    .dataframe tbody tr th {\n",
       "        vertical-align: top;\n",
       "    }\n",
       "\n",
       "    .dataframe thead th {\n",
       "        text-align: right;\n",
       "    }\n",
       "</style>\n",
       "<table border=\"1\" class=\"dataframe\">\n",
       "  <thead>\n",
       "    <tr style=\"text-align: right;\">\n",
       "      <th></th>\n",
       "      <th></th>\n",
       "      <th></th>\n",
       "      <th>value</th>\n",
       "      <th>note</th>\n",
       "      <th>source</th>\n",
       "    </tr>\n",
       "    <tr>\n",
       "      <th>category</th>\n",
       "      <th>subcategory</th>\n",
       "      <th>name</th>\n",
       "      <th></th>\n",
       "      <th></th>\n",
       "      <th></th>\n",
       "    </tr>\n",
       "  </thead>\n",
       "  <tbody>\n",
       "    <tr>\n",
       "      <th rowspan=\"3\" valign=\"top\">infection_prob</th>\n",
       "      <th>close</th>\n",
       "      <th>close</th>\n",
       "      <td>0.05</td>\n",
       "      <td>NaN</td>\n",
       "      <td>NaN</td>\n",
       "    </tr>\n",
       "    <tr>\n",
       "      <th>distant</th>\n",
       "      <th>distant</th>\n",
       "      <td>0.03</td>\n",
       "      <td>NaN</td>\n",
       "      <td>NaN</td>\n",
       "    </tr>\n",
       "    <tr>\n",
       "      <th>household</th>\n",
       "      <th>household</th>\n",
       "      <td>0.20</td>\n",
       "      <td>NaN</td>\n",
       "      <td>NaN</td>\n",
       "    </tr>\n",
       "  </tbody>\n",
       "</table>\n",
       "</div>"
      ],
      "text/plain": [
       "                                      value  note  source\n",
       "category       subcategory name                          \n",
       "infection_prob close       close       0.05   NaN     NaN\n",
       "               distant     distant     0.03   NaN     NaN\n",
       "               household   household   0.20   NaN     NaN"
      ]
     },
     "execution_count": 4,
     "metadata": {},
     "output_type": "execute_result"
    }
   ],
   "source": [
    "epidemiological_parameters = pd.read_csv(\"infection_probs.csv\", index_col=INDEX_NAMES)\n",
    "epidemiological_parameters"
   ]
  },
  {
   "cell_type": "markdown",
   "metadata": {},
   "source": [
    "Similarly, we specify for each contact model how assortatively\n",
    "people meet across their respective `assort_by` keys. \n",
    "\n",
    "We assume that 90% of contacts are with people from the same region and 50% with contacts of the same age group as oneself for both \"meet_close\" and \"meet_distant\". \n",
    "The rest of the probability mass is split evenly between the other regions and age groups."
   ]
  },
  {
   "cell_type": "code",
   "execution_count": 5,
   "metadata": {},
   "outputs": [
    {
     "data": {
      "text/html": [
       "<div>\n",
       "<style scoped>\n",
       "    .dataframe tbody tr th:only-of-type {\n",
       "        vertical-align: middle;\n",
       "    }\n",
       "\n",
       "    .dataframe tbody tr th {\n",
       "        vertical-align: top;\n",
       "    }\n",
       "\n",
       "    .dataframe thead th {\n",
       "        text-align: right;\n",
       "    }\n",
       "</style>\n",
       "<table border=\"1\" class=\"dataframe\">\n",
       "  <thead>\n",
       "    <tr style=\"text-align: right;\">\n",
       "      <th></th>\n",
       "      <th></th>\n",
       "      <th></th>\n",
       "      <th>value</th>\n",
       "      <th>note</th>\n",
       "      <th>source</th>\n",
       "    </tr>\n",
       "    <tr>\n",
       "      <th>category</th>\n",
       "      <th>subcategory</th>\n",
       "      <th>name</th>\n",
       "      <th></th>\n",
       "      <th></th>\n",
       "      <th></th>\n",
       "    </tr>\n",
       "  </thead>\n",
       "  <tbody>\n",
       "    <tr>\n",
       "      <th rowspan=\"4\" valign=\"top\">assortative_matching</th>\n",
       "      <th rowspan=\"2\" valign=\"top\">close</th>\n",
       "      <th>age_group</th>\n",
       "      <td>0.5</td>\n",
       "      <td>NaN</td>\n",
       "      <td>NaN</td>\n",
       "    </tr>\n",
       "    <tr>\n",
       "      <th>region</th>\n",
       "      <td>0.9</td>\n",
       "      <td>NaN</td>\n",
       "      <td>NaN</td>\n",
       "    </tr>\n",
       "    <tr>\n",
       "      <th rowspan=\"2\" valign=\"top\">distant</th>\n",
       "      <th>age_group</th>\n",
       "      <td>0.5</td>\n",
       "      <td>NaN</td>\n",
       "      <td>NaN</td>\n",
       "    </tr>\n",
       "    <tr>\n",
       "      <th>region</th>\n",
       "      <td>0.9</td>\n",
       "      <td>NaN</td>\n",
       "      <td>NaN</td>\n",
       "    </tr>\n",
       "  </tbody>\n",
       "</table>\n",
       "</div>"
      ],
      "text/plain": [
       "                                            value  note  source\n",
       "category             subcategory name                          \n",
       "assortative_matching close       age_group    0.5   NaN     NaN\n",
       "                                 region       0.9   NaN     NaN\n",
       "                     distant     age_group    0.5   NaN     NaN\n",
       "                                 region       0.9   NaN     NaN"
      ]
     },
     "execution_count": 5,
     "metadata": {},
     "output_type": "execute_result"
    }
   ],
   "source": [
    "assort_probs = pd.read_csv(\"assort_by_params.csv\", index_col=INDEX_NAMES)\n",
    "assort_probs"
   ]
  },
  {
   "cell_type": "markdown",
   "metadata": {},
   "source": [
    "Lastly, we load some parameters that specify how Covid-19 progresses. This includes asymptomatic cases and covers that sever cases are more common among the elderly.\n",
    "\n",
    "`cd_` stands for countdown. When a countdown is -1 the event never happens. So for example, 25% of infected people will never develop symptoms and the rest will develop symptoms 3 days after they start being infectious. "
   ]
  },
  {
   "cell_type": "code",
   "execution_count": 6,
   "metadata": {},
   "outputs": [
    {
     "data": {
      "text/html": [
       "<div>\n",
       "<style scoped>\n",
       "    .dataframe tbody tr th:only-of-type {\n",
       "        vertical-align: middle;\n",
       "    }\n",
       "\n",
       "    .dataframe tbody tr th {\n",
       "        vertical-align: top;\n",
       "    }\n",
       "\n",
       "    .dataframe thead th {\n",
       "        text-align: right;\n",
       "    }\n",
       "</style>\n",
       "<table border=\"1\" class=\"dataframe\">\n",
       "  <thead>\n",
       "    <tr style=\"text-align: right;\">\n",
       "      <th></th>\n",
       "      <th></th>\n",
       "      <th></th>\n",
       "      <th>value</th>\n",
       "    </tr>\n",
       "    <tr>\n",
       "      <th>category</th>\n",
       "      <th>subcategory</th>\n",
       "      <th>name</th>\n",
       "      <th></th>\n",
       "    </tr>\n",
       "  </thead>\n",
       "  <tbody>\n",
       "    <tr>\n",
       "      <th>health_system</th>\n",
       "      <th>icu_limit_relative</th>\n",
       "      <th>icu_limit_relative</th>\n",
       "      <td>50.00</td>\n",
       "    </tr>\n",
       "    <tr>\n",
       "      <th>cd_immune_false</th>\n",
       "      <th>all</th>\n",
       "      <th>1000</th>\n",
       "      <td>1.00</td>\n",
       "    </tr>\n",
       "    <tr>\n",
       "      <th rowspan=\"4\" valign=\"top\">cd_infectious_true</th>\n",
       "      <th rowspan=\"4\" valign=\"top\">all</th>\n",
       "      <th>1</th>\n",
       "      <td>0.39</td>\n",
       "    </tr>\n",
       "    <tr>\n",
       "      <th>2</th>\n",
       "      <td>0.35</td>\n",
       "    </tr>\n",
       "    <tr>\n",
       "      <th>3</th>\n",
       "      <td>0.22</td>\n",
       "    </tr>\n",
       "    <tr>\n",
       "      <th>5</th>\n",
       "      <td>0.04</td>\n",
       "    </tr>\n",
       "  </tbody>\n",
       "</table>\n",
       "</div>"
      ],
      "text/plain": [
       "                                                          value\n",
       "category           subcategory        name                     \n",
       "health_system      icu_limit_relative icu_limit_relative  50.00\n",
       "cd_immune_false    all                1000                 1.00\n",
       "cd_infectious_true all                1                    0.39\n",
       "                                      2                    0.35\n",
       "                                      3                    0.22\n",
       "                                      5                    0.04"
      ]
     },
     "execution_count": 6,
     "metadata": {},
     "output_type": "execute_result"
    }
   ],
   "source": [
    "disease_params = sid.get_epidemiological_parameters()\n",
    "disease_params.head(6).round(2)"
   ]
  },
  {
   "cell_type": "code",
   "execution_count": 7,
   "metadata": {},
   "outputs": [],
   "source": [
    "params = pd.concat([disease_params, epidemiological_parameters, assort_probs])"
   ]
  },
  {
   "cell_type": "markdown",
   "metadata": {},
   "source": [
    "### Contact Policies"
   ]
  },
  {
   "cell_type": "markdown",
   "metadata": {},
   "source": [
    "We also allow the government to react to the rising number of infections by enforcing a\n",
    "mild curfew which halves the contacts of all individuals if 10% of all individuals are\n",
    "infectious.\n",
    "\n",
    "You could also implement policies inside the contact models. This allows you more flexibility. For example, we could implement that sick individuals stay home, that vulnerable people react with stricter social distancing or implement the [locally adaptive lockdown policy in Germany](https://www.dw.com/en/merkel-cautiously-optimistic-as-she-announces-lockdown-rollback/a-53346427)."
   ]
  },
  {
   "cell_type": "code",
   "execution_count": 8,
   "metadata": {},
   "outputs": [],
   "source": [
    "def contact_policy_is_active(states):\n",
    "    return states[\"infectious\"].mean() > 0.1\n",
    "\n",
    "\n",
    "contact_policies = {\n",
    "    \"policy_close_contacts\": {\n",
    "        \"start\": \"2020-03-12\",\n",
    "        \"policy\": 0.5,\n",
    "        \"is_active\": contact_policy_is_active,\n",
    "        \"affected_contact_model\": \"close\",\n",
    "    },\n",
    "    \"policy_distant_contacts\": {\n",
    "        \"start\": \"2020-03-12\",\n",
    "        \"policy\": 0.5,\n",
    "        \"is_active\": contact_policy_is_active,\n",
    "        \"affected_contact_model\": \"distant\",\n",
    "    },\n",
    "}"
   ]
  },
  {
   "cell_type": "markdown",
   "metadata": {},
   "source": [
    "Finally, there must be some initial infections in our population. This is specified via the initial conditions which are thouroughly explained in the [how-to guide](../how_to_guides/how_to_use_initial_conditions.ipynb). For now, we assume that there are 100 infected individuals and 50 with pre-existing immunity."
   ]
  },
  {
   "cell_type": "code",
   "execution_count": 9,
   "metadata": {},
   "outputs": [],
   "source": [
    "initial_conditions = {\"initial_infections\": 100, \"initial_immunity\": 50}"
   ]
  },
  {
   "cell_type": "markdown",
   "metadata": {},
   "source": [
    "### Run the simulation"
   ]
  },
  {
   "cell_type": "markdown",
   "metadata": {},
   "source": [
    "We are going to simulate this population for 200 periods."
   ]
  },
  {
   "cell_type": "code",
   "execution_count": 10,
   "metadata": {},
   "outputs": [
    {
     "name": "stderr",
     "output_type": "stream",
     "text": [
      "Start the simulation...\n",
      "2020-06-05: 100%|█████████████████████████████████████████████████████████████████| 100/100 [00:17<00:00,  5.69it/s]\n"
     ]
    }
   ],
   "source": [
    "simulate = sid.get_simulate_func(\n",
    "    initial_states=initial_states,\n",
    "    contact_models=contact_models,\n",
    "    params=params,\n",
    "    contact_policies=contact_policies,\n",
    "    initial_conditions=initial_conditions,\n",
    "    duration={\"start\": \"2020-02-27\", \"periods\": 100},\n",
    "    path=\".sid-first\",\n",
    "    seed=0,\n",
    ")\n",
    "result_first = simulate(params=params)"
   ]
  },
  {
   "cell_type": "markdown",
   "metadata": {},
   "source": [
    "## Resume the simulation\n",
    "\n",
    "To indicate that you want to resume a simulation at the last date of the previous simulation, two conditions have to be met.\n",
    "\n",
    "1. The ``states`` need to have a ``\"date\"`` or a ``\"period\"`` column.\n",
    "2. You must not pass ``initial_conditions`` to `get_simulate_func`.\n",
    "\n",
    "After that, it is also ensured that the states include all necessary information to resume the simulation, for example, data on health statuses and countdowns. You also have to adjust the duration of the simulation which must start one day after the previous simulation ended."
   ]
  },
  {
   "cell_type": "code",
   "execution_count": 11,
   "metadata": {},
   "outputs": [],
   "source": [
    "duration = {\"start\": \"2020-06-06\", \"periods\": 100}"
   ]
  },
  {
   "cell_type": "code",
   "execution_count": 12,
   "metadata": {},
   "outputs": [],
   "source": [
    "last_states = result_first[\"last_states\"].compute()"
   ]
  },
  {
   "cell_type": "code",
   "execution_count": 13,
   "metadata": {},
   "outputs": [],
   "source": [
    "simulate = sid.get_simulate_func(\n",
    "    initial_states=last_states,\n",
    "    contact_models=contact_models,\n",
    "    params=params,\n",
    "    contact_policies=contact_policies,\n",
    "    duration=duration,\n",
    "    path=\".sid-second\",\n",
    "    seed=0,\n",
    ")"
   ]
  },
  {
   "cell_type": "code",
   "execution_count": 14,
   "metadata": {},
   "outputs": [
    {
     "name": "stderr",
     "output_type": "stream",
     "text": [
      "Resume the simulation...\n",
      "2020-09-13: 100%|█████████████████████████████████████████████████████████████████| 100/100 [00:13<00:00,  7.69it/s]\n"
     ]
    }
   ],
   "source": [
    "result_second = simulate(params)"
   ]
  },
  {
   "cell_type": "code",
   "execution_count": 15,
   "metadata": {},
   "outputs": [],
   "source": [
    "time_series = pd.concat(\n",
    "    [\n",
    "        result_first[\"time_series\"].compute().assign(period=\"Initial simulation\"),\n",
    "        result_second[\"time_series\"].compute().assign(period=\"Resumed simulation\"),\n",
    "    ]\n",
    ")"
   ]
  },
  {
   "cell_type": "code",
   "execution_count": 16,
   "metadata": {},
   "outputs": [
    {
     "data": {
      "image/png": "[encoded data removed]",
      "text/plain": [
       "<Figure size 432x288 with 1 Axes>"
      ]
     },
     "metadata": {
      "needs_background": "light"
     },
     "output_type": "display_data"
    }
   ],
   "source": [
    "for (period, df), color in zip(\n",
    "    time_series.groupby(\"period\"),\n",
    "    sid.get_colors(\"categorical\", 2),\n",
    "):\n",
    "    df.resample(\"D\", on=\"date\")[\"ever_infected\"].mean().plot(\n",
    "        color=color, label=period, legend=True\n",
    "    )"
   ]
  },
  {
   "cell_type": "code",
   "execution_count": 17,
   "metadata": {},
   "outputs": [
    {
     "data": {
      "image/png": "[encoded data removed]",
      "text/plain": [
       "<Figure size 432x288 with 1 Axes>"
      ]
     },
     "metadata": {
      "needs_background": "light"
     },
     "output_type": "display_data"
    }
   ],
   "source": [
    "for (period, df), color in zip(\n",
    "    time_series.groupby(\"period\"),\n",
    "    sid.get_colors(\"categorical\", 2),\n",
    "):\n",
    "    df.resample(\"D\", on=\"date\")[\"infectious\"].mean().plot(\n",
    "        color=color, label=period, legend=True\n",
    "    )"
   ]
  },
  {
   "cell_type": "code",
   "execution_count": 20,
   "metadata": {},
   "outputs": [
    {
     "data": {
      "image/png": "[encoded data removed]",
      "text/plain": [
       "<Figure size 432x288 with 1 Axes>"
      ]
     },
     "metadata": {
      "needs_background": "light"
     },
     "output_type": "display_data"
    }
   ],
   "source": [
    "for (period, df), color in zip(\n",
    "    time_series.groupby(\"period\"),\n",
    "    sid.get_colors(\"categorical\", 2),\n",
    "):\n",
    "    df.resample(\"D\", on=\"date\")[\"dead\"].sum().plot(\n",
    "        color=color, label=period, legend=True\n",
    "    )"
   ]
  },
  {
   "cell_type": "code",
   "execution_count": 22,
   "metadata": {},
   "outputs": [
    {
     "data": {
      "text/plain": [
       "date\n",
       "2020-06-06    289\n",
       "2020-06-07    289\n",
       "2020-06-08    289\n",
       "2020-06-09    289\n",
       "2020-06-10    289\n",
       "             ... \n",
       "2020-09-09    296\n",
       "2020-09-10    296\n",
       "2020-09-11    296\n",
       "2020-09-12    296\n",
       "2020-09-13    592\n",
       "Freq: D, Name: dead, Length: 100, dtype: int64"
      ]
     },
     "execution_count": 22,
     "metadata": {},
     "output_type": "execute_result"
    }
   ],
   "source": [
    "df.resample(\"D\", on=\"date\")[\"dead\"].sum()"
   ]
  },
  {
   "cell_type": "code",
   "execution_count": 25,
   "metadata": {},
   "outputs": [
    {
     "data": {
      "text/html": [
       "<div>\n",
       "<style scoped>\n",
       "    .dataframe tbody tr th:only-of-type {\n",
       "        vertical-align: middle;\n",
       "    }\n",
       "\n",
       "    .dataframe tbody tr th {\n",
       "        vertical-align: top;\n",
       "    }\n",
       "\n",
       "    .dataframe thead th {\n",
       "        text-align: right;\n",
       "    }\n",
       "</style>\n",
       "<table border=\"1\" class=\"dataframe\">\n",
       "  <thead>\n",
       "    <tr style=\"text-align: right;\">\n",
       "      <th></th>\n",
       "      <th>needs_icu</th>\n",
       "      <th>newly_deceased</th>\n",
       "      <th>immune</th>\n",
       "      <th>n_has_infected</th>\n",
       "      <th>dead</th>\n",
       "      <th>knows_infectious</th>\n",
       "      <th>newly_infected</th>\n",
       "      <th>new_known_case</th>\n",
       "      <th>ever_infected</th>\n",
       "      <th>age_group</th>\n",
       "      <th>...</th>\n",
       "      <th>cd_received_test_result_true_draws</th>\n",
       "      <th>cd_dead_true</th>\n",
       "      <th>cd_symptoms_true</th>\n",
       "      <th>cd_needs_icu_false_draws</th>\n",
       "      <th>cd_symptoms_true_draws</th>\n",
       "      <th>group_codes_distant</th>\n",
       "      <th>cd_immune_false_draws</th>\n",
       "      <th>pending_test</th>\n",
       "      <th>cd_ever_infected_draws</th>\n",
       "      <th>cd_knows_infectious_false_draws</th>\n",
       "    </tr>\n",
       "  </thead>\n",
       "  <tbody>\n",
       "    <tr>\n",
       "      <th>0</th>\n",
       "      <td>False</td>\n",
       "      <td>False</td>\n",
       "      <td>True</td>\n",
       "      <td>1</td>\n",
       "      <td>False</td>\n",
       "      <td>False</td>\n",
       "      <td>False</td>\n",
       "      <td>False</td>\n",
       "      <td>True</td>\n",
       "      <td>30-39</td>\n",
       "      <td>...</td>\n",
       "      <td>2.0</td>\n",
       "      <td>-202.0</td>\n",
       "      <td>-150.0</td>\n",
       "      <td>-1.0</td>\n",
       "      <td>-1.0</td>\n",
       "      <td>6.0</td>\n",
       "      <td>1000.0</td>\n",
       "      <td>False</td>\n",
       "      <td>-1.0</td>\n",
       "      <td>-1.0</td>\n",
       "    </tr>\n",
       "    <tr>\n",
       "      <th>1</th>\n",
       "      <td>False</td>\n",
       "      <td>False</td>\n",
       "      <td>True</td>\n",
       "      <td>0</td>\n",
       "      <td>False</td>\n",
       "      <td>False</td>\n",
       "      <td>False</td>\n",
       "      <td>False</td>\n",
       "      <td>True</td>\n",
       "      <td>30-39</td>\n",
       "      <td>...</td>\n",
       "      <td>2.0</td>\n",
       "      <td>-202.0</td>\n",
       "      <td>-138.0</td>\n",
       "      <td>-1.0</td>\n",
       "      <td>1.0</td>\n",
       "      <td>7.0</td>\n",
       "      <td>1000.0</td>\n",
       "      <td>False</td>\n",
       "      <td>-1.0</td>\n",
       "      <td>-1.0</td>\n",
       "    </tr>\n",
       "    <tr>\n",
       "      <th>2</th>\n",
       "      <td>False</td>\n",
       "      <td>False</td>\n",
       "      <td>False</td>\n",
       "      <td>0</td>\n",
       "      <td>False</td>\n",
       "      <td>False</td>\n",
       "      <td>False</td>\n",
       "      <td>False</td>\n",
       "      <td>False</td>\n",
       "      <td>30-39</td>\n",
       "      <td>...</td>\n",
       "      <td>2.0</td>\n",
       "      <td>-202.0</td>\n",
       "      <td>-202.0</td>\n",
       "      <td>-1.0</td>\n",
       "      <td>1.0</td>\n",
       "      <td>7.0</td>\n",
       "      <td>1000.0</td>\n",
       "      <td>False</td>\n",
       "      <td>-1.0</td>\n",
       "      <td>-1.0</td>\n",
       "    </tr>\n",
       "    <tr>\n",
       "      <th>3</th>\n",
       "      <td>False</td>\n",
       "      <td>False</td>\n",
       "      <td>True</td>\n",
       "      <td>1</td>\n",
       "      <td>False</td>\n",
       "      <td>False</td>\n",
       "      <td>False</td>\n",
       "      <td>False</td>\n",
       "      <td>True</td>\n",
       "      <td>40-49</td>\n",
       "      <td>...</td>\n",
       "      <td>2.0</td>\n",
       "      <td>-202.0</td>\n",
       "      <td>-154.0</td>\n",
       "      <td>-1.0</td>\n",
       "      <td>-1.0</td>\n",
       "      <td>8.0</td>\n",
       "      <td>1000.0</td>\n",
       "      <td>False</td>\n",
       "      <td>-1.0</td>\n",
       "      <td>-1.0</td>\n",
       "    </tr>\n",
       "    <tr>\n",
       "      <th>4</th>\n",
       "      <td>False</td>\n",
       "      <td>False</td>\n",
       "      <td>True</td>\n",
       "      <td>0</td>\n",
       "      <td>False</td>\n",
       "      <td>False</td>\n",
       "      <td>False</td>\n",
       "      <td>False</td>\n",
       "      <td>True</td>\n",
       "      <td>0-9</td>\n",
       "      <td>...</td>\n",
       "      <td>2.0</td>\n",
       "      <td>-202.0</td>\n",
       "      <td>-150.0</td>\n",
       "      <td>-1.0</td>\n",
       "      <td>2.0</td>\n",
       "      <td>1.0</td>\n",
       "      <td>1000.0</td>\n",
       "      <td>False</td>\n",
       "      <td>-1.0</td>\n",
       "      <td>-1.0</td>\n",
       "    </tr>\n",
       "    <tr>\n",
       "      <th>...</th>\n",
       "      <td>...</td>\n",
       "      <td>...</td>\n",
       "      <td>...</td>\n",
       "      <td>...</td>\n",
       "      <td>...</td>\n",
       "      <td>...</td>\n",
       "      <td>...</td>\n",
       "      <td>...</td>\n",
       "      <td>...</td>\n",
       "      <td>...</td>\n",
       "      <td>...</td>\n",
       "      <td>...</td>\n",
       "      <td>...</td>\n",
       "      <td>...</td>\n",
       "      <td>...</td>\n",
       "      <td>...</td>\n",
       "      <td>...</td>\n",
       "      <td>...</td>\n",
       "      <td>...</td>\n",
       "      <td>...</td>\n",
       "      <td>...</td>\n",
       "    </tr>\n",
       "    <tr>\n",
       "      <th>9995</th>\n",
       "      <td>False</td>\n",
       "      <td>False</td>\n",
       "      <td>True</td>\n",
       "      <td>1</td>\n",
       "      <td>False</td>\n",
       "      <td>False</td>\n",
       "      <td>False</td>\n",
       "      <td>False</td>\n",
       "      <td>True</td>\n",
       "      <td>10-19</td>\n",
       "      <td>...</td>\n",
       "      <td>2.0</td>\n",
       "      <td>-202.0</td>\n",
       "      <td>-154.0</td>\n",
       "      <td>1.0</td>\n",
       "      <td>1.0</td>\n",
       "      <td>2.0</td>\n",
       "      <td>1000.0</td>\n",
       "      <td>False</td>\n",
       "      <td>-1.0</td>\n",
       "      <td>-1.0</td>\n",
       "    </tr>\n",
       "    <tr>\n",
       "      <th>9996</th>\n",
       "      <td>False</td>\n",
       "      <td>False</td>\n",
       "      <td>False</td>\n",
       "      <td>0</td>\n",
       "      <td>False</td>\n",
       "      <td>False</td>\n",
       "      <td>False</td>\n",
       "      <td>False</td>\n",
       "      <td>False</td>\n",
       "      <td>20-29</td>\n",
       "      <td>...</td>\n",
       "      <td>2.0</td>\n",
       "      <td>-202.0</td>\n",
       "      <td>-202.0</td>\n",
       "      <td>-1.0</td>\n",
       "      <td>2.0</td>\n",
       "      <td>5.0</td>\n",
       "      <td>1000.0</td>\n",
       "      <td>False</td>\n",
       "      <td>-1.0</td>\n",
       "      <td>-1.0</td>\n",
       "    </tr>\n",
       "    <tr>\n",
       "      <th>9997</th>\n",
       "      <td>False</td>\n",
       "      <td>False</td>\n",
       "      <td>False</td>\n",
       "      <td>0</td>\n",
       "      <td>False</td>\n",
       "      <td>False</td>\n",
       "      <td>False</td>\n",
       "      <td>False</td>\n",
       "      <td>False</td>\n",
       "      <td>80-100</td>\n",
       "      <td>...</td>\n",
       "      <td>2.0</td>\n",
       "      <td>-202.0</td>\n",
       "      <td>-202.0</td>\n",
       "      <td>-1.0</td>\n",
       "      <td>-1.0</td>\n",
       "      <td>17.0</td>\n",
       "      <td>1000.0</td>\n",
       "      <td>False</td>\n",
       "      <td>-1.0</td>\n",
       "      <td>-1.0</td>\n",
       "    </tr>\n",
       "    <tr>\n",
       "      <th>9998</th>\n",
       "      <td>False</td>\n",
       "      <td>False</td>\n",
       "      <td>True</td>\n",
       "      <td>2</td>\n",
       "      <td>False</td>\n",
       "      <td>False</td>\n",
       "      <td>False</td>\n",
       "      <td>False</td>\n",
       "      <td>True</td>\n",
       "      <td>60-69</td>\n",
       "      <td>...</td>\n",
       "      <td>2.0</td>\n",
       "      <td>-202.0</td>\n",
       "      <td>-167.0</td>\n",
       "      <td>-1.0</td>\n",
       "      <td>2.0</td>\n",
       "      <td>12.0</td>\n",
       "      <td>1000.0</td>\n",
       "      <td>False</td>\n",
       "      <td>-1.0</td>\n",
       "      <td>-1.0</td>\n",
       "    </tr>\n",
       "    <tr>\n",
       "      <th>9999</th>\n",
       "      <td>False</td>\n",
       "      <td>False</td>\n",
       "      <td>False</td>\n",
       "      <td>0</td>\n",
       "      <td>False</td>\n",
       "      <td>False</td>\n",
       "      <td>False</td>\n",
       "      <td>False</td>\n",
       "      <td>False</td>\n",
       "      <td>70-79</td>\n",
       "      <td>...</td>\n",
       "      <td>2.0</td>\n",
       "      <td>-202.0</td>\n",
       "      <td>-202.0</td>\n",
       "      <td>-1.0</td>\n",
       "      <td>1.0</td>\n",
       "      <td>15.0</td>\n",
       "      <td>1000.0</td>\n",
       "      <td>False</td>\n",
       "      <td>-1.0</td>\n",
       "      <td>-1.0</td>\n",
       "    </tr>\n",
       "  </tbody>\n",
       "</table>\n",
       "<p>20000 rows × 51 columns</p>\n",
       "</div>"
      ],
      "text/plain": [
       "      needs_icu  newly_deceased  immune  n_has_infected   dead  \\\n",
       "0         False           False    True               1  False   \n",
       "1         False           False    True               0  False   \n",
       "2         False           False   False               0  False   \n",
       "3         False           False    True               1  False   \n",
       "4         False           False    True               0  False   \n",
       "...         ...             ...     ...             ...    ...   \n",
       "9995      False           False    True               1  False   \n",
       "9996      False           False   False               0  False   \n",
       "9997      False           False   False               0  False   \n",
       "9998      False           False    True               2  False   \n",
       "9999      False           False   False               0  False   \n",
       "\n",
       "      knows_infectious  newly_infected  new_known_case  ever_infected  \\\n",
       "0                False           False           False           True   \n",
       "1                False           False           False           True   \n",
       "2                False           False           False          False   \n",
       "3                False           False           False           True   \n",
       "4                False           False           False           True   \n",
       "...                ...             ...             ...            ...   \n",
       "9995             False           False           False           True   \n",
       "9996             False           False           False          False   \n",
       "9997             False           False           False          False   \n",
       "9998             False           False           False           True   \n",
       "9999             False           False           False          False   \n",
       "\n",
       "     age_group  ...  cd_received_test_result_true_draws cd_dead_true  \\\n",
       "0        30-39  ...                                 2.0       -202.0   \n",
       "1        30-39  ...                                 2.0       -202.0   \n",
       "2        30-39  ...                                 2.0       -202.0   \n",
       "3        40-49  ...                                 2.0       -202.0   \n",
       "4          0-9  ...                                 2.0       -202.0   \n",
       "...        ...  ...                                 ...          ...   \n",
       "9995     10-19  ...                                 2.0       -202.0   \n",
       "9996     20-29  ...                                 2.0       -202.0   \n",
       "9997    80-100  ...                                 2.0       -202.0   \n",
       "9998     60-69  ...                                 2.0       -202.0   \n",
       "9999     70-79  ...                                 2.0       -202.0   \n",
       "\n",
       "      cd_symptoms_true cd_needs_icu_false_draws  cd_symptoms_true_draws  \\\n",
       "0               -150.0                     -1.0                    -1.0   \n",
       "1               -138.0                     -1.0                     1.0   \n",
       "2               -202.0                     -1.0                     1.0   \n",
       "3               -154.0                     -1.0                    -1.0   \n",
       "4               -150.0                     -1.0                     2.0   \n",
       "...                ...                      ...                     ...   \n",
       "9995            -154.0                      1.0                     1.0   \n",
       "9996            -202.0                     -1.0                     2.0   \n",
       "9997            -202.0                     -1.0                    -1.0   \n",
       "9998            -167.0                     -1.0                     2.0   \n",
       "9999            -202.0                     -1.0                     1.0   \n",
       "\n",
       "      group_codes_distant cd_immune_false_draws  pending_test  \\\n",
       "0                     6.0                1000.0         False   \n",
       "1                     7.0                1000.0         False   \n",
       "2                     7.0                1000.0         False   \n",
       "3                     8.0                1000.0         False   \n",
       "4                     1.0                1000.0         False   \n",
       "...                   ...                   ...           ...   \n",
       "9995                  2.0                1000.0         False   \n",
       "9996                  5.0                1000.0         False   \n",
       "9997                 17.0                1000.0         False   \n",
       "9998                 12.0                1000.0         False   \n",
       "9999                 15.0                1000.0         False   \n",
       "\n",
       "      cd_ever_infected_draws cd_knows_infectious_false_draws  \n",
       "0                       -1.0                            -1.0  \n",
       "1                       -1.0                            -1.0  \n",
       "2                       -1.0                            -1.0  \n",
       "3                       -1.0                            -1.0  \n",
       "4                       -1.0                            -1.0  \n",
       "...                      ...                             ...  \n",
       "9995                    -1.0                            -1.0  \n",
       "9996                    -1.0                            -1.0  \n",
       "9997                    -1.0                            -1.0  \n",
       "9998                    -1.0                            -1.0  \n",
       "9999                    -1.0                            -1.0  \n",
       "\n",
       "[20000 rows x 51 columns]"
      ]
     },
     "execution_count": 25,
     "metadata": {},
     "output_type": "execute_result"
    }
   ],
   "source": [
    "df.query(\"date == '2020-09-13'\")"
   ]
  },
  {
   "cell_type": "code",
   "execution_count": 19,
   "metadata": {},
   "outputs": [
    {
     "data": {
      "image/png": "[encoded data removed]",
      "text/plain": [
       "<Figure size 432x288 with 1 Axes>"
      ]
     },
     "metadata": {
      "needs_background": "light"
     },
     "output_type": "display_data"
    }
   ],
   "source": [
    "for (period, df), color in zip(\n",
    "    time_series.groupby(\"period\"),\n",
    "    sid.get_colors(\"categorical\", 2),\n",
    "):\n",
    "    infectious_last_seven_days = df.cd_infectious_false.between(-7, 0)\n",
    "    df.loc[infectious_last_seven_days].resample(\"D\", on=\"date\")[\n",
    "        \"n_has_infected\"\n",
    "    ].mean().plot(color=color, label=period, legend=True)"
   ]
  }
 ],
 "metadata": {
  "kernelspec": {
   "display_name": "Python 3",
   "language": "python",
   "name": "python3"
  },
  "language_info": {
   "codemirror_mode": {
    "name": "ipython",
    "version": 3
   },
   "file_extension": ".py",
   "mimetype": "text/x-python",
   "name": "python",
   "nbconvert_exporter": "python",
   "pygments_lexer": "ipython3",
   "version": "3.8.6"
  }
 },
 "nbformat": 4,
 "nbformat_minor": 4
}
