{
 "cells": [
  {
   "cell_type": "markdown",
   "metadata": {},
   "source": [
    "# How to resume a simulation\n",
    "\n",
    "This tutorial shows how to resume a simulation with the states coming from a previous simulation. It also speeds up the generation of results because after estimating parameters on some data, you can use the last day of the simulation results to run multiple counterfactual simulations.\n",
    "\n",
    "In the following we use the same model as in the [how to simulate](how_to_simulate.ipynb) tutorial.\n",
    "\n",
    "1. We will simulate data for some periods.\n",
    "2. Inspect the simulation results.\n",
    "3. Restart the simulation."
   ]
  },
  {
   "cell_type": "code",
   "execution_count": 1,
   "metadata": {},
   "outputs": [],
   "source": [
    "%matplotlib inline\n",
    "\n",
    "import warnings\n",
    "\n",
    "import matplotlib.pyplot as plt\n",
    "import numpy as np\n",
    "import pandas as pd\n",
    "\n",
    "import sid\n",
    "from sid.config import INDEX_NAMES\n",
    "\n",
    "warnings.filterwarnings(action=\"ignore\")"
   ]
  },
  {
   "cell_type": "markdown",
   "metadata": {},
   "source": [
    "## Simulate the data"
   ]
  },
  {
   "cell_type": "raw",
   "metadata": {
    "raw_mimetype": "text/restructuredtext",
    "tags": []
   },
   "source": [
    ".. note::\n",
    "\n",
    "    If you are familiar with the `first tutorial <how_to_simulate.ipynb>`_, skip this step and start immediately with the `continuation of the simulation <how_to_resume_a_simulation.ipynb#Resume-the-simulation>`_."
   ]
  },
  {
   "cell_type": "markdown",
   "metadata": {},
   "source": [
    "Let's create an artificial population of 10,000 people. \n",
    "Every individual will be characterized by its region and age group.\n",
    "\n",
    "The age group will affect the progression of the disease.\n",
    "Both region and age group will have an influence on who our individuals are going to meet."
   ]
  },
  {
   "cell_type": "code",
   "execution_count": 2,
   "metadata": {},
   "outputs": [
    {
     "data": {
      "text/html": [
       "<div>\n",
       "<style scoped>\n",
       "    .dataframe tbody tr th:only-of-type {\n",
       "        vertical-align: middle;\n",
       "    }\n",
       "\n",
       "    .dataframe tbody tr th {\n",
       "        vertical-align: top;\n",
       "    }\n",
       "\n",
       "    .dataframe thead th {\n",
       "        text-align: right;\n",
       "    }\n",
       "</style>\n",
       "<table border=\"1\" class=\"dataframe\">\n",
       "  <thead>\n",
       "    <tr style=\"text-align: right;\">\n",
       "      <th></th>\n",
       "      <th>age_group</th>\n",
       "      <th>region</th>\n",
       "    </tr>\n",
       "  </thead>\n",
       "  <tbody>\n",
       "    <tr>\n",
       "      <th>0</th>\n",
       "      <td>10-19</td>\n",
       "      <td>North</td>\n",
       "    </tr>\n",
       "    <tr>\n",
       "      <th>1</th>\n",
       "      <td>10-19</td>\n",
       "      <td>North</td>\n",
       "    </tr>\n",
       "    <tr>\n",
       "      <th>2</th>\n",
       "      <td>10-19</td>\n",
       "      <td>North</td>\n",
       "    </tr>\n",
       "    <tr>\n",
       "      <th>3</th>\n",
       "      <td>20-29</td>\n",
       "      <td>South</td>\n",
       "    </tr>\n",
       "    <tr>\n",
       "      <th>4</th>\n",
       "      <td>0-9</td>\n",
       "      <td>South</td>\n",
       "    </tr>\n",
       "  </tbody>\n",
       "</table>\n",
       "</div>"
      ],
      "text/plain": [
       "  age_group region\n",
       "0     10-19  North\n",
       "1     10-19  North\n",
       "2     10-19  North\n",
       "3     20-29  South\n",
       "4       0-9  South"
      ]
     },
     "execution_count": 2,
     "metadata": {},
     "output_type": "execute_result"
    }
   ],
   "source": [
    "available_ages = [\n",
    "    \"0-9\",\n",
    "    \"10-19\",\n",
    "    \"20-29\",\n",
    "    \"30-39\",\n",
    "    \"40-49\",\n",
    "    \"50-59\",\n",
    "    \"60-69\",\n",
    "    \"70-79\",\n",
    "    \"80-100\",\n",
    "]\n",
    "\n",
    "ages = np.random.choice(available_ages, size=10_000)\n",
    "regions = np.random.choice([\"North\", \"South\"], size=10_000)\n",
    "\n",
    "initial_states = pd.DataFrame({\"age_group\": ages, \"region\": regions}).astype(\"category\")\n",
    "initial_states.head(5)"
   ]
  },
  {
   "cell_type": "markdown",
   "metadata": {},
   "source": [
    "### Specifying the contact models\n",
    "\n",
    "Next, let's define how many contacts people have every day. \n",
    "We assume people have two types of contacts, close and distant contacts. They also have fewer close than distant contacts."
   ]
  },
  {
   "cell_type": "code",
   "execution_count": 3,
   "metadata": {},
   "outputs": [],
   "source": [
    "def meet_distant(states, params, seed):\n",
    "    np.random.seed(seed)\n",
    "    possible_n_contacts = np.arange(10)\n",
    "    contacts = np.random.choice(possible_n_contacts, size=len(states))\n",
    "    return pd.Series(contacts, index=states.index)\n",
    "\n",
    "\n",
    "def meet_close(states, params, seed):\n",
    "    np.random.seed(seed)\n",
    "    possible_n_contacts = np.arange(5)\n",
    "    contacts = np.random.choice(possible_n_contacts, size=len(states))\n",
    "    return pd.Series(contacts, index=states.index)\n",
    "\n",
    "\n",
    "assort_by = [\"age_group\", \"region\"]\n",
    "\n",
    "contact_models = {\n",
    "    \"distant\": {\"model\": meet_distant, \"assort_by\": assort_by, \"is_recurrent\": False},\n",
    "    \"close\": {\"model\": meet_close, \"assort_by\": assort_by, \"is_recurrent\": False},\n",
    "}"
   ]
  },
  {
   "cell_type": "markdown",
   "metadata": {},
   "source": [
    "### Specifying the model parameters\n",
    "\n",
    "sid allows to estimate one infection probability per contact type. \n",
    "In this example, close contacts are more infectious than distant contacts with 5% versus 3%. "
   ]
  },
  {
   "cell_type": "code",
   "execution_count": 4,
   "metadata": {},
   "outputs": [
    {
     "data": {
      "text/html": [
       "<div>\n",
       "<style scoped>\n",
       "    .dataframe tbody tr th:only-of-type {\n",
       "        vertical-align: middle;\n",
       "    }\n",
       "\n",
       "    .dataframe tbody tr th {\n",
       "        vertical-align: top;\n",
       "    }\n",
       "\n",
       "    .dataframe thead th {\n",
       "        text-align: right;\n",
       "    }\n",
       "</style>\n",
       "<table border=\"1\" class=\"dataframe\">\n",
       "  <thead>\n",
       "    <tr style=\"text-align: right;\">\n",
       "      <th></th>\n",
       "      <th></th>\n",
       "      <th></th>\n",
       "      <th>value</th>\n",
       "      <th>note</th>\n",
       "      <th>source</th>\n",
       "    </tr>\n",
       "    <tr>\n",
       "      <th>category</th>\n",
       "      <th>subcategory</th>\n",
       "      <th>name</th>\n",
       "      <th></th>\n",
       "      <th></th>\n",
       "      <th></th>\n",
       "    </tr>\n",
       "  </thead>\n",
       "  <tbody>\n",
       "    <tr>\n",
       "      <th rowspan=\"3\" valign=\"top\">infection_prob</th>\n",
       "      <th>close</th>\n",
       "      <th>close</th>\n",
       "      <td>0.05</td>\n",
       "      <td>NaN</td>\n",
       "      <td>NaN</td>\n",
       "    </tr>\n",
       "    <tr>\n",
       "      <th>distant</th>\n",
       "      <th>distant</th>\n",
       "      <td>0.03</td>\n",
       "      <td>NaN</td>\n",
       "      <td>NaN</td>\n",
       "    </tr>\n",
       "    <tr>\n",
       "      <th>household</th>\n",
       "      <th>household</th>\n",
       "      <td>0.20</td>\n",
       "      <td>NaN</td>\n",
       "      <td>NaN</td>\n",
       "    </tr>\n",
       "  </tbody>\n",
       "</table>\n",
       "</div>"
      ],
      "text/plain": [
       "                                      value  note  source\n",
       "category       subcategory name                          \n",
       "infection_prob close       close       0.05   NaN     NaN\n",
       "               distant     distant     0.03   NaN     NaN\n",
       "               household   household   0.20   NaN     NaN"
      ]
     },
     "execution_count": 4,
     "metadata": {},
     "output_type": "execute_result"
    }
   ],
   "source": [
    "epidemiological_parameters = pd.read_csv(\"infection_probs.csv\", index_col=INDEX_NAMES)\n",
    "epidemiological_parameters"
   ]
  },
  {
   "cell_type": "markdown",
   "metadata": {},
   "source": [
    "Similarly, we specify for each contact model how assortatively\n",
    "people meet across their respective `assort_by` keys. \n",
    "\n",
    "We assume that 90% of contacts are with people from the same region and 50% with contacts of the same age group as oneself for both \"meet_close\" and \"meet_distant\". \n",
    "The rest of the probability mass is split evenly between the other regions and age groups."
   ]
  },
  {
   "cell_type": "code",
   "execution_count": 5,
   "metadata": {},
   "outputs": [
    {
     "data": {
      "text/html": [
       "<div>\n",
       "<style scoped>\n",
       "    .dataframe tbody tr th:only-of-type {\n",
       "        vertical-align: middle;\n",
       "    }\n",
       "\n",
       "    .dataframe tbody tr th {\n",
       "        vertical-align: top;\n",
       "    }\n",
       "\n",
       "    .dataframe thead th {\n",
       "        text-align: right;\n",
       "    }\n",
       "</style>\n",
       "<table border=\"1\" class=\"dataframe\">\n",
       "  <thead>\n",
       "    <tr style=\"text-align: right;\">\n",
       "      <th></th>\n",
       "      <th></th>\n",
       "      <th></th>\n",
       "      <th>value</th>\n",
       "      <th>note</th>\n",
       "      <th>source</th>\n",
       "    </tr>\n",
       "    <tr>\n",
       "      <th>category</th>\n",
       "      <th>subcategory</th>\n",
       "      <th>name</th>\n",
       "      <th></th>\n",
       "      <th></th>\n",
       "      <th></th>\n",
       "    </tr>\n",
       "  </thead>\n",
       "  <tbody>\n",
       "    <tr>\n",
       "      <th rowspan=\"4\" valign=\"top\">assortative_matching</th>\n",
       "      <th rowspan=\"2\" valign=\"top\">close</th>\n",
       "      <th>age_group</th>\n",
       "      <td>0.5</td>\n",
       "      <td>NaN</td>\n",
       "      <td>NaN</td>\n",
       "    </tr>\n",
       "    <tr>\n",
       "      <th>region</th>\n",
       "      <td>0.9</td>\n",
       "      <td>NaN</td>\n",
       "      <td>NaN</td>\n",
       "    </tr>\n",
       "    <tr>\n",
       "      <th rowspan=\"2\" valign=\"top\">distant</th>\n",
       "      <th>age_group</th>\n",
       "      <td>0.5</td>\n",
       "      <td>NaN</td>\n",
       "      <td>NaN</td>\n",
       "    </tr>\n",
       "    <tr>\n",
       "      <th>region</th>\n",
       "      <td>0.9</td>\n",
       "      <td>NaN</td>\n",
       "      <td>NaN</td>\n",
       "    </tr>\n",
       "  </tbody>\n",
       "</table>\n",
       "</div>"
      ],
      "text/plain": [
       "                                            value  note  source\n",
       "category             subcategory name                          \n",
       "assortative_matching close       age_group    0.5   NaN     NaN\n",
       "                                 region       0.9   NaN     NaN\n",
       "                     distant     age_group    0.5   NaN     NaN\n",
       "                                 region       0.9   NaN     NaN"
      ]
     },
     "execution_count": 5,
     "metadata": {},
     "output_type": "execute_result"
    }
   ],
   "source": [
    "assort_probs = pd.read_csv(\"assort_by_params.csv\", index_col=INDEX_NAMES)\n",
    "assort_probs"
   ]
  },
  {
   "cell_type": "markdown",
   "metadata": {},
   "source": [
    "Now, we load some parameters that specify how Covid-19 progresses. This includes asymptomatic cases and covers that sever cases are more common among the elderly.\n",
    "\n",
    "`cd_` stands for countdown. When a countdown is -1 the event never happens. So for example, 25% of infected people will never develop symptoms and the rest will develop symptoms 3 days after they start being infectious. "
   ]
  },
  {
   "cell_type": "code",
   "execution_count": 6,
   "metadata": {},
   "outputs": [
    {
     "data": {
      "text/html": [
       "<div>\n",
       "<style scoped>\n",
       "    .dataframe tbody tr th:only-of-type {\n",
       "        vertical-align: middle;\n",
       "    }\n",
       "\n",
       "    .dataframe tbody tr th {\n",
       "        vertical-align: top;\n",
       "    }\n",
       "\n",
       "    .dataframe thead th {\n",
       "        text-align: right;\n",
       "    }\n",
       "</style>\n",
       "<table border=\"1\" class=\"dataframe\">\n",
       "  <thead>\n",
       "    <tr style=\"text-align: right;\">\n",
       "      <th></th>\n",
       "      <th></th>\n",
       "      <th></th>\n",
       "      <th>value</th>\n",
       "    </tr>\n",
       "    <tr>\n",
       "      <th>category</th>\n",
       "      <th>subcategory</th>\n",
       "      <th>name</th>\n",
       "      <th></th>\n",
       "    </tr>\n",
       "  </thead>\n",
       "  <tbody>\n",
       "    <tr>\n",
       "      <th>health_system</th>\n",
       "      <th>icu_limit_relative</th>\n",
       "      <th>icu_limit_relative</th>\n",
       "      <td>50.00</td>\n",
       "    </tr>\n",
       "    <tr>\n",
       "      <th rowspan=\"4\" valign=\"top\">cd_infectious_true</th>\n",
       "      <th rowspan=\"4\" valign=\"top\">all</th>\n",
       "      <th>1</th>\n",
       "      <td>0.39</td>\n",
       "    </tr>\n",
       "    <tr>\n",
       "      <th>2</th>\n",
       "      <td>0.35</td>\n",
       "    </tr>\n",
       "    <tr>\n",
       "      <th>3</th>\n",
       "      <td>0.22</td>\n",
       "    </tr>\n",
       "    <tr>\n",
       "      <th>5</th>\n",
       "      <td>0.04</td>\n",
       "    </tr>\n",
       "    <tr>\n",
       "      <th>cd_infectious_false</th>\n",
       "      <th>all</th>\n",
       "      <th>3</th>\n",
       "      <td>0.10</td>\n",
       "    </tr>\n",
       "  </tbody>\n",
       "</table>\n",
       "</div>"
      ],
      "text/plain": [
       "                                                           value\n",
       "category            subcategory        name                     \n",
       "health_system       icu_limit_relative icu_limit_relative  50.00\n",
       "cd_infectious_true  all                1                    0.39\n",
       "                                       2                    0.35\n",
       "                                       3                    0.22\n",
       "                                       5                    0.04\n",
       "cd_infectious_false all                3                    0.10"
      ]
     },
     "execution_count": 6,
     "metadata": {},
     "output_type": "execute_result"
    }
   ],
   "source": [
    "disease_params = sid.load_epidemiological_parameters()\n",
    "disease_params.head(6).round(2)"
   ]
  },
  {
   "cell_type": "markdown",
   "metadata": {},
   "source": [
    "Lastly, we load parameters that govern the immunity level and waning. For a detailed descrption see the notebook on how to model immunity."
   ]
  },
  {
   "cell_type": "code",
   "execution_count": 7,
   "metadata": {},
   "outputs": [
    {
     "data": {
      "text/html": [
       "<div>\n",
       "<style scoped>\n",
       "    .dataframe tbody tr th:only-of-type {\n",
       "        vertical-align: middle;\n",
       "    }\n",
       "\n",
       "    .dataframe tbody tr th {\n",
       "        vertical-align: top;\n",
       "    }\n",
       "\n",
       "    .dataframe thead th {\n",
       "        text-align: right;\n",
       "    }\n",
       "</style>\n",
       "<table border=\"1\" class=\"dataframe\">\n",
       "  <thead>\n",
       "    <tr style=\"text-align: right;\">\n",
       "      <th></th>\n",
       "      <th></th>\n",
       "      <th></th>\n",
       "      <th>value</th>\n",
       "      <th>note</th>\n",
       "      <th>source</th>\n",
       "    </tr>\n",
       "    <tr>\n",
       "      <th>category</th>\n",
       "      <th>subcategory</th>\n",
       "      <th>name</th>\n",
       "      <th></th>\n",
       "      <th></th>\n",
       "      <th></th>\n",
       "    </tr>\n",
       "  </thead>\n",
       "  <tbody>\n",
       "    <tr>\n",
       "      <th rowspan=\"6\" valign=\"top\">immunity</th>\n",
       "      <th rowspan=\"2\" valign=\"top\">immunity_level</th>\n",
       "      <th>from_infection</th>\n",
       "      <td>0.9900</td>\n",
       "      <td>NaN</td>\n",
       "      <td>NaN</td>\n",
       "    </tr>\n",
       "    <tr>\n",
       "      <th>from_vaccination</th>\n",
       "      <td>0.8000</td>\n",
       "      <td>NaN</td>\n",
       "      <td>NaN</td>\n",
       "    </tr>\n",
       "    <tr>\n",
       "      <th rowspan=\"4\" valign=\"top\">immunity_waning</th>\n",
       "      <th>time_to_reach_maximum_infection</th>\n",
       "      <td>7.0000</td>\n",
       "      <td>NaN</td>\n",
       "      <td>NaN</td>\n",
       "    </tr>\n",
       "    <tr>\n",
       "      <th>time_to_reach_maximum_vaccination</th>\n",
       "      <td>28.0000</td>\n",
       "      <td>NaN</td>\n",
       "      <td>NaN</td>\n",
       "    </tr>\n",
       "    <tr>\n",
       "      <th>slope_after_maximum_infection</th>\n",
       "      <td>-0.0001</td>\n",
       "      <td>NaN</td>\n",
       "      <td>NaN</td>\n",
       "    </tr>\n",
       "    <tr>\n",
       "      <th>slope_after_maximum_vaccination</th>\n",
       "      <td>-0.0002</td>\n",
       "      <td>NaN</td>\n",
       "      <td>NaN</td>\n",
       "    </tr>\n",
       "  </tbody>\n",
       "</table>\n",
       "</div>"
      ],
      "text/plain": [
       "                                                              value  note  \\\n",
       "category subcategory     name                                               \n",
       "immunity immunity_level  from_infection                      0.9900   NaN   \n",
       "                         from_vaccination                    0.8000   NaN   \n",
       "         immunity_waning time_to_reach_maximum_infection     7.0000   NaN   \n",
       "                         time_to_reach_maximum_vaccination  28.0000   NaN   \n",
       "                         slope_after_maximum_infection      -0.0001   NaN   \n",
       "                         slope_after_maximum_vaccination    -0.0002   NaN   \n",
       "\n",
       "                                                            source  \n",
       "category subcategory     name                                       \n",
       "immunity immunity_level  from_infection                        NaN  \n",
       "                         from_vaccination                      NaN  \n",
       "         immunity_waning time_to_reach_maximum_infection       NaN  \n",
       "                         time_to_reach_maximum_vaccination     NaN  \n",
       "                         slope_after_maximum_infection         NaN  \n",
       "                         slope_after_maximum_vaccination       NaN  "
      ]
     },
     "execution_count": 7,
     "metadata": {},
     "output_type": "execute_result"
    }
   ],
   "source": [
    "immunity_params = pd.read_csv(\"immunity_params.csv\", index_col=INDEX_NAMES)\n",
    "immunity_params"
   ]
  },
  {
   "cell_type": "code",
   "execution_count": 8,
   "metadata": {},
   "outputs": [],
   "source": [
    "params = pd.concat(\n",
    "    [disease_params, epidemiological_parameters, assort_probs, immunity_params]\n",
    ")"
   ]
  },
  {
   "cell_type": "markdown",
   "metadata": {},
   "source": [
    "### Specifying the initial conditions\n",
    "\n",
    "Finally, there must be some initial infections in our population. This is specified via the initial conditions which are thouroughly explained in the [how-to guide](../how_to_guides/how_to_use_initial_conditions.ipynb). For now, we assume that there are 100 infected individuals and 50 with pre-existing immunity."
   ]
  },
  {
   "cell_type": "code",
   "execution_count": 9,
   "metadata": {},
   "outputs": [],
   "source": [
    "initial_conditions = {\"initial_infections\": 100, \"initial_immunity\": 50}"
   ]
  },
  {
   "cell_type": "markdown",
   "metadata": {},
   "source": [
    "### Run the simulation"
   ]
  },
  {
   "cell_type": "markdown",
   "metadata": {},
   "source": [
    "We are going to simulate this population for 200 periods."
   ]
  },
  {
   "cell_type": "code",
   "execution_count": 10,
   "metadata": {},
   "outputs": [
    {
     "name": "stderr",
     "output_type": "stream",
     "text": [
      "Start the simulation...\n",
      "2020-06-05: 100%|██████████| 100/100 [00:20<00:00,  4.79it/s]\n"
     ]
    }
   ],
   "source": [
    "simulate = sid.get_simulate_func(\n",
    "    initial_states=initial_states,\n",
    "    contact_models=contact_models,\n",
    "    params=params,\n",
    "    initial_conditions=initial_conditions,\n",
    "    duration={\"start\": \"2020-02-27\", \"periods\": 100},\n",
    "    path=\".sid-first\",\n",
    "    seed=0,\n",
    ")\n",
    "result_first = simulate(params=params)"
   ]
  },
  {
   "cell_type": "markdown",
   "metadata": {},
   "source": [
    "## Resume the simulation\n",
    "\n",
    "To indicate that you want to resume a simulation at the last date of the previous simulation, two conditions have to be met.\n",
    "\n",
    "1. The ``states`` need to have a ``\"date\"`` or a ``\"period\"`` column.\n",
    "2. You must not pass ``initial_conditions`` to `get_simulate_func`.\n",
    "\n",
    "After that, it is also ensured that the states include all necessary information to resume the simulation, for example, data on health statuses and countdowns. You also have to adjust the duration of the simulation which must start one day after the previous simulation ended."
   ]
  },
  {
   "cell_type": "code",
   "execution_count": 11,
   "metadata": {},
   "outputs": [],
   "source": [
    "duration = {\"start\": \"2020-06-06\", \"periods\": 100}"
   ]
  },
  {
   "cell_type": "code",
   "execution_count": 12,
   "metadata": {},
   "outputs": [],
   "source": [
    "last_states = result_first[\"last_states\"]"
   ]
  },
  {
   "cell_type": "code",
   "execution_count": 13,
   "metadata": {},
   "outputs": [],
   "source": [
    "simulate = sid.get_simulate_func(\n",
    "    initial_states=last_states,\n",
    "    contact_models=contact_models,\n",
    "    params=params,\n",
    "    duration=duration,\n",
    "    path=\".sid-second\",\n",
    "    seed=0,\n",
    ")"
   ]
  },
  {
   "cell_type": "code",
   "execution_count": 14,
   "metadata": {},
   "outputs": [
    {
     "name": "stderr",
     "output_type": "stream",
     "text": [
      "Resume the simulation...\n",
      "2020-09-13: 100%|██████████| 100/100 [00:40<00:00,  2.49it/s]\n"
     ]
    }
   ],
   "source": [
    "result_second = simulate(params)"
   ]
  },
  {
   "cell_type": "code",
   "execution_count": 15,
   "metadata": {},
   "outputs": [],
   "source": [
    "time_series = pd.concat(\n",
    "    [\n",
    "        result_first[\"time_series\"].compute().assign(period=\"Initial simulation\"),\n",
    "        result_second[\"time_series\"].compute().assign(period=\"Resumed simulation\"),\n",
    "    ]\n",
    ")"
   ]
  },
  {
   "cell_type": "code",
   "execution_count": 16,
   "metadata": {},
   "outputs": [
    {
     "data": {
      "image/png": "[encoded data removed]",
      "text/plain": [
       "<Figure size 864x576 with 6 Axes>"
      ]
     },
     "metadata": {
      "needs_background": "light"
     },
     "output_type": "display_data"
    }
   ],
   "source": [
    "fig, axs = plt.subplots(3, 2, figsize=(12, 8))\n",
    "fig.subplots_adjust(bottom=0.15, wspace=0.2, hspace=0.4)\n",
    "\n",
    "axs = axs.flatten()\n",
    "\n",
    "time_series.groupby([pd.Grouper(key=\"date\", freq=\"D\"), \"period\"])[\n",
    "    \"ever_infected\"\n",
    "].mean().unstack().plot(ax=axs[0], legend=False)\n",
    "time_series.groupby([pd.Grouper(key=\"date\", freq=\"D\"), \"period\"])[\n",
    "    \"infectious\"\n",
    "].mean().unstack().plot(ax=axs[1], legend=False)\n",
    "time_series.groupby([pd.Grouper(key=\"date\", freq=\"D\"), \"period\"])[\n",
    "    \"dead\"\n",
    "].mean().unstack().plot(ax=axs[2], legend=False)\n",
    "\n",
    "r_zero = sid.statistics.calculate_r_zero(\n",
    "    time_series.loc[time_series[\"period\"].eq(\"Initial simulation\")], window_length=7\n",
    ")\n",
    "r_zero.plot(ax=axs[3], color=\"C0\")\n",
    "r_zero = sid.statistics.calculate_r_zero(\n",
    "    time_series.loc[time_series[\"period\"].eq(\"Resumed simulation\")], window_length=7\n",
    ")\n",
    "r_zero.plot(ax=axs[3], color=\"C1\")\n",
    "\n",
    "r_effective = sid.statistics.calculate_r_effective(\n",
    "    time_series.loc[time_series[\"period\"].eq(\"Initial simulation\")], window_length=7\n",
    ")\n",
    "r_effective.plot(ax=axs[4], color=\"C0\")\n",
    "r_effective = sid.statistics.calculate_r_effective(\n",
    "    time_series.loc[time_series[\"period\"].eq(\"Resumed simulation\")], window_length=7\n",
    ")\n",
    "r_effective.plot(ax=axs[4], color=\"C1\")\n",
    "\n",
    "for ax in axs:\n",
    "    ax.set_xlabel(\"\")\n",
    "    ax.spines[\"right\"].set_visible(False)\n",
    "    ax.spines[\"top\"].set_visible(False)\n",
    "\n",
    "axs[0].set_title(\"Share of Infected People\")\n",
    "axs[1].set_title(\"Share of Infectious People in the Population\")\n",
    "axs[2].set_title(\"Total Number of Deaths\")\n",
    "axs[3].set_title(\"$R_0$ (Basic Reproduction Number)\")\n",
    "axs[4].set_title(\"$R_t$ (Effective Reproduction Number)\")\n",
    "\n",
    "axs[5].set_visible(False)\n",
    "\n",
    "plt.show()"
   ]
  }
 ],
 "metadata": {
  "kernelspec": {
   "display_name": "Python 3",
   "language": "python",
   "name": "python3"
  },
  "language_info": {
   "codemirror_mode": {
    "name": "ipython",
    "version": 3
   },
   "file_extension": ".py",
   "mimetype": "text/x-python",
   "name": "python",
   "nbconvert_exporter": "python",
   "pygments_lexer": "ipython3",
   "version": "3.9.5"
  }
 },
 "nbformat": 4,
 "nbformat_minor": 4
}
