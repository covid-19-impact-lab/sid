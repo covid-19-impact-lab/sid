{
 "cells": [
  {
   "cell_type": "markdown",
   "metadata": {},
   "source": [
    "# How to resume a simulation\n",
    "\n",
    "This tutorial shows how to resume a simulation with the states coming from a previous simulation. It also speeds up the generation of results because after estimating parameters on some data, you can use the last day of the simulation results to run multiple counterfactual simulations.\n",
    "\n",
    "In the following we use the same model as in the [how to simulate](how_to_simulate.ipynb) tutorial.\n",
    "\n",
    "1. We will simulate data for some periods.\n",
    "2. Inspect the simulation results.\n",
    "3. Restart the simulation."
   ]
  },
  {
   "cell_type": "code",
   "execution_count": 1,
   "metadata": {},
   "outputs": [],
   "source": [
    "%matplotlib inline\n",
    "\n",
    "import matplotlib.pyplot as plt\n",
    "import numpy as np\n",
    "import pandas as pd\n",
    "import sid\n",
    "from sid.config import INDEX_NAMES"
   ]
  },
  {
   "cell_type": "markdown",
   "metadata": {},
   "source": [
    "## Simulate the data"
   ]
  },
  {
   "cell_type": "markdown",
   "metadata": {},
   "source": [
    "Let's create an artificial population of 10 000 people. \n",
    "Every individual will be characterized by its region and age group.\n",
    "\n",
    "The age group will affect the progression of the disease.\n",
    "Both region and age group will have an influence on who our individuals are going to meet."
   ]
  },
  {
   "cell_type": "code",
   "execution_count": 2,
   "metadata": {},
   "outputs": [
    {
     "data": {
      "text/html": [
       "<div>\n",
       "<style scoped>\n",
       "    .dataframe tbody tr th:only-of-type {\n",
       "        vertical-align: middle;\n",
       "    }\n",
       "\n",
       "    .dataframe tbody tr th {\n",
       "        vertical-align: top;\n",
       "    }\n",
       "\n",
       "    .dataframe thead th {\n",
       "        text-align: right;\n",
       "    }\n",
       "</style>\n",
       "<table border=\"1\" class=\"dataframe\">\n",
       "  <thead>\n",
       "    <tr style=\"text-align: right;\">\n",
       "      <th></th>\n",
       "      <th>age_group</th>\n",
       "      <th>region</th>\n",
       "    </tr>\n",
       "  </thead>\n",
       "  <tbody>\n",
       "    <tr>\n",
       "      <th>0</th>\n",
       "      <td>70-79</td>\n",
       "      <td>South</td>\n",
       "    </tr>\n",
       "    <tr>\n",
       "      <th>1</th>\n",
       "      <td>50-59</td>\n",
       "      <td>South</td>\n",
       "    </tr>\n",
       "    <tr>\n",
       "      <th>2</th>\n",
       "      <td>50-59</td>\n",
       "      <td>South</td>\n",
       "    </tr>\n",
       "    <tr>\n",
       "      <th>3</th>\n",
       "      <td>60-69</td>\n",
       "      <td>South</td>\n",
       "    </tr>\n",
       "    <tr>\n",
       "      <th>4</th>\n",
       "      <td>20-29</td>\n",
       "      <td>North</td>\n",
       "    </tr>\n",
       "  </tbody>\n",
       "</table>\n",
       "</div>"
      ],
      "text/plain": [
       "  age_group region\n",
       "0     70-79  South\n",
       "1     50-59  South\n",
       "2     50-59  South\n",
       "3     60-69  South\n",
       "4     20-29  North"
      ]
     },
     "execution_count": 2,
     "metadata": {},
     "output_type": "execute_result"
    }
   ],
   "source": [
    "available_ages = [\n",
    "    \"0-9\",\n",
    "    \"10-19\",\n",
    "    \"20-29\",\n",
    "    \"30-39\",\n",
    "    \"40-49\",\n",
    "    \"50-59\",\n",
    "    \"60-69\",\n",
    "    \"70-79\",\n",
    "    \"80-100\",\n",
    "]\n",
    "\n",
    "ages = np.random.choice(available_ages, size=10_000)\n",
    "regions = np.random.choice([\"North\", \"South\"], size=10_000)\n",
    "\n",
    "initial_states = pd.DataFrame({\"age_group\": ages, \"region\": regions}).astype(\"category\")\n",
    "initial_states.head(5)"
   ]
  },
  {
   "cell_type": "markdown",
   "metadata": {},
   "source": [
    "### Specifying the Contact Models"
   ]
  },
  {
   "cell_type": "markdown",
   "metadata": {},
   "source": [
    "Next, let's define how many contacts people have every day. \n",
    "We assume people have two types of contacts, close and distant contacts. They also have fewer close than distant contacts."
   ]
  },
  {
   "cell_type": "code",
   "execution_count": 3,
   "metadata": {},
   "outputs": [],
   "source": [
    "def meet_distant(states, params):\n",
    "    possible_nr_contacts = np.arange(10)\n",
    "    contacts = np.random.choice(possible_nr_contacts, size=len(states))\n",
    "    return pd.Series(contacts, index=states.index)\n",
    "\n",
    "\n",
    "def meet_close(states, params):\n",
    "    possible_nr_contacts = np.arange(5)\n",
    "    contacts = np.random.choice(possible_nr_contacts, size=len(states))\n",
    "    return pd.Series(contacts, index=states.index)\n",
    "\n",
    "\n",
    "assort_by = [\"age_group\", \"region\"]\n",
    "\n",
    "contact_models = {\n",
    "    \"distant\": {\"model\": meet_distant, \"assort_by\": assort_by, \"is_recurrent\": False},\n",
    "    \"close\": {\"model\": meet_close, \"assort_by\": assort_by, \"is_recurrent\": False},\n",
    "}"
   ]
  },
  {
   "cell_type": "markdown",
   "metadata": {},
   "source": [
    "### Specifying the model parameters"
   ]
  },
  {
   "cell_type": "markdown",
   "metadata": {},
   "source": [
    "sid allows to estimate one infection probability per contact type. \n",
    "In this example, close contacts are more infectious than distant contacts with 5% versus 3%. "
   ]
  },
  {
   "cell_type": "code",
   "execution_count": 4,
   "metadata": {},
   "outputs": [
    {
     "data": {
      "text/html": [
       "<div>\n",
       "<style scoped>\n",
       "    .dataframe tbody tr th:only-of-type {\n",
       "        vertical-align: middle;\n",
       "    }\n",
       "\n",
       "    .dataframe tbody tr th {\n",
       "        vertical-align: top;\n",
       "    }\n",
       "\n",
       "    .dataframe thead th {\n",
       "        text-align: right;\n",
       "    }\n",
       "</style>\n",
       "<table border=\"1\" class=\"dataframe\">\n",
       "  <thead>\n",
       "    <tr style=\"text-align: right;\">\n",
       "      <th></th>\n",
       "      <th></th>\n",
       "      <th></th>\n",
       "      <th>value</th>\n",
       "      <th>note</th>\n",
       "      <th>source</th>\n",
       "    </tr>\n",
       "    <tr>\n",
       "      <th>category</th>\n",
       "      <th>subcategory</th>\n",
       "      <th>name</th>\n",
       "      <th></th>\n",
       "      <th></th>\n",
       "      <th></th>\n",
       "    </tr>\n",
       "  </thead>\n",
       "  <tbody>\n",
       "    <tr>\n",
       "      <th rowspan=\"3\" valign=\"top\">infection_prob</th>\n",
       "      <th>close</th>\n",
       "      <th>close</th>\n",
       "      <td>0.05</td>\n",
       "      <td>NaN</td>\n",
       "      <td>NaN</td>\n",
       "    </tr>\n",
       "    <tr>\n",
       "      <th>distant</th>\n",
       "      <th>distant</th>\n",
       "      <td>0.03</td>\n",
       "      <td>NaN</td>\n",
       "      <td>NaN</td>\n",
       "    </tr>\n",
       "    <tr>\n",
       "      <th>household</th>\n",
       "      <th>household</th>\n",
       "      <td>0.20</td>\n",
       "      <td>NaN</td>\n",
       "      <td>NaN</td>\n",
       "    </tr>\n",
       "  </tbody>\n",
       "</table>\n",
       "</div>"
      ],
      "text/plain": [
       "                                      value  note  source\n",
       "category       subcategory name                          \n",
       "infection_prob close       close       0.05   NaN     NaN\n",
       "               distant     distant     0.03   NaN     NaN\n",
       "               household   household   0.20   NaN     NaN"
      ]
     },
     "execution_count": 4,
     "metadata": {},
     "output_type": "execute_result"
    }
   ],
   "source": [
    "epidemiological_parameters = pd.read_csv(\"infection_probs.csv\", index_col=INDEX_NAMES)\n",
    "epidemiological_parameters"
   ]
  },
  {
   "cell_type": "markdown",
   "metadata": {},
   "source": [
    "Similarly, we specify for each contact model how assortatively\n",
    "people meet across their respective `assort_by` keys. \n",
    "\n",
    "We assume that 90% of contacts are with people from the same region and 50% with contacts of the same age group as oneself for both \"meet_close\" and \"meet_distant\". \n",
    "The rest of the probability mass is split evenly between the other regions and age groups."
   ]
  },
  {
   "cell_type": "code",
   "execution_count": 5,
   "metadata": {},
   "outputs": [
    {
     "data": {
      "text/html": [
       "<div>\n",
       "<style scoped>\n",
       "    .dataframe tbody tr th:only-of-type {\n",
       "        vertical-align: middle;\n",
       "    }\n",
       "\n",
       "    .dataframe tbody tr th {\n",
       "        vertical-align: top;\n",
       "    }\n",
       "\n",
       "    .dataframe thead th {\n",
       "        text-align: right;\n",
       "    }\n",
       "</style>\n",
       "<table border=\"1\" class=\"dataframe\">\n",
       "  <thead>\n",
       "    <tr style=\"text-align: right;\">\n",
       "      <th></th>\n",
       "      <th></th>\n",
       "      <th></th>\n",
       "      <th>value</th>\n",
       "      <th>note</th>\n",
       "      <th>source</th>\n",
       "    </tr>\n",
       "    <tr>\n",
       "      <th>category</th>\n",
       "      <th>subcategory</th>\n",
       "      <th>name</th>\n",
       "      <th></th>\n",
       "      <th></th>\n",
       "      <th></th>\n",
       "    </tr>\n",
       "  </thead>\n",
       "  <tbody>\n",
       "    <tr>\n",
       "      <th rowspan=\"4\" valign=\"top\">assortative_matching</th>\n",
       "      <th rowspan=\"2\" valign=\"top\">close</th>\n",
       "      <th>age_group</th>\n",
       "      <td>0.5</td>\n",
       "      <td>NaN</td>\n",
       "      <td>NaN</td>\n",
       "    </tr>\n",
       "    <tr>\n",
       "      <th>region</th>\n",
       "      <td>0.9</td>\n",
       "      <td>NaN</td>\n",
       "      <td>NaN</td>\n",
       "    </tr>\n",
       "    <tr>\n",
       "      <th rowspan=\"2\" valign=\"top\">distant</th>\n",
       "      <th>age_group</th>\n",
       "      <td>0.5</td>\n",
       "      <td>NaN</td>\n",
       "      <td>NaN</td>\n",
       "    </tr>\n",
       "    <tr>\n",
       "      <th>region</th>\n",
       "      <td>0.9</td>\n",
       "      <td>NaN</td>\n",
       "      <td>NaN</td>\n",
       "    </tr>\n",
       "  </tbody>\n",
       "</table>\n",
       "</div>"
      ],
      "text/plain": [
       "                                            value  note  source\n",
       "category             subcategory name                          \n",
       "assortative_matching close       age_group    0.5   NaN     NaN\n",
       "                                 region       0.9   NaN     NaN\n",
       "                     distant     age_group    0.5   NaN     NaN\n",
       "                                 region       0.9   NaN     NaN"
      ]
     },
     "execution_count": 5,
     "metadata": {},
     "output_type": "execute_result"
    }
   ],
   "source": [
    "assort_probs = pd.read_csv(\"assort_by_params.csv\", index_col=INDEX_NAMES)\n",
    "assort_probs"
   ]
  },
  {
   "cell_type": "markdown",
   "metadata": {},
   "source": [
    "Lastly, we load some parameters that specify how Covid-19 progresses. This includes asymptomatic cases and covers that sever cases are more common among the elderly.\n",
    "\n",
    "`cd_` stands for countdown. When a countdown is -1 the event never happens. So for example, 25% of infected people will never develop symptoms and the rest will develop symptoms 3 days after they start being infectious. "
   ]
  },
  {
   "cell_type": "code",
   "execution_count": 6,
   "metadata": {},
   "outputs": [
    {
     "data": {
      "text/html": [
       "<div>\n",
       "<style scoped>\n",
       "    .dataframe tbody tr th:only-of-type {\n",
       "        vertical-align: middle;\n",
       "    }\n",
       "\n",
       "    .dataframe tbody tr th {\n",
       "        vertical-align: top;\n",
       "    }\n",
       "\n",
       "    .dataframe thead th {\n",
       "        text-align: right;\n",
       "    }\n",
       "</style>\n",
       "<table border=\"1\" class=\"dataframe\">\n",
       "  <thead>\n",
       "    <tr style=\"text-align: right;\">\n",
       "      <th></th>\n",
       "      <th></th>\n",
       "      <th></th>\n",
       "      <th>value</th>\n",
       "    </tr>\n",
       "    <tr>\n",
       "      <th>category</th>\n",
       "      <th>subcategory</th>\n",
       "      <th>name</th>\n",
       "      <th></th>\n",
       "    </tr>\n",
       "  </thead>\n",
       "  <tbody>\n",
       "    <tr>\n",
       "      <th>health_system</th>\n",
       "      <th>icu_limit_relative</th>\n",
       "      <th>icu_limit_relative</th>\n",
       "      <td>50.00</td>\n",
       "    </tr>\n",
       "    <tr>\n",
       "      <th>cd_immune_false</th>\n",
       "      <th>all</th>\n",
       "      <th>1000</th>\n",
       "      <td>1.00</td>\n",
       "    </tr>\n",
       "    <tr>\n",
       "      <th rowspan=\"4\" valign=\"top\">cd_infectious_true</th>\n",
       "      <th rowspan=\"4\" valign=\"top\">all</th>\n",
       "      <th>1</th>\n",
       "      <td>0.39</td>\n",
       "    </tr>\n",
       "    <tr>\n",
       "      <th>2</th>\n",
       "      <td>0.35</td>\n",
       "    </tr>\n",
       "    <tr>\n",
       "      <th>3</th>\n",
       "      <td>0.22</td>\n",
       "    </tr>\n",
       "    <tr>\n",
       "      <th>5</th>\n",
       "      <td>0.04</td>\n",
       "    </tr>\n",
       "  </tbody>\n",
       "</table>\n",
       "</div>"
      ],
      "text/plain": [
       "                                                          value\n",
       "category           subcategory        name                     \n",
       "health_system      icu_limit_relative icu_limit_relative  50.00\n",
       "cd_immune_false    all                1000                 1.00\n",
       "cd_infectious_true all                1                    0.39\n",
       "                                      2                    0.35\n",
       "                                      3                    0.22\n",
       "                                      5                    0.04"
      ]
     },
     "execution_count": 6,
     "metadata": {},
     "output_type": "execute_result"
    }
   ],
   "source": [
    "disease_params = sid.get_epidemiological_parameters()\n",
    "disease_params.head(6).round(2)"
   ]
  },
  {
   "cell_type": "code",
   "execution_count": 7,
   "metadata": {},
   "outputs": [],
   "source": [
    "params = pd.concat([disease_params, epidemiological_parameters, assort_probs])"
   ]
  },
  {
   "cell_type": "markdown",
   "metadata": {},
   "source": [
    "### Contact Policies"
   ]
  },
  {
   "cell_type": "markdown",
   "metadata": {},
   "source": [
    "We also allow the government to react to the rising number of infections by enforcing a\n",
    "mild curfew which halves the contacts of all individuals if 10% of all individuals are\n",
    "infectious.\n",
    "\n",
    "You could also implement policies inside the contact models. This allows you more flexibility. For example, we could implement that sick individuals stay home, that vulnerable people react with stricter social distancing or implement the [locally adaptive lockdown policy in Germany](https://www.dw.com/en/merkel-cautiously-optimistic-as-she-announces-lockdown-rollback/a-53346427)."
   ]
  },
  {
   "cell_type": "code",
   "execution_count": 8,
   "metadata": {},
   "outputs": [],
   "source": [
    "def contact_policy_is_active(states):\n",
    "    return states[\"infectious\"].mean() > 0.1\n",
    "\n",
    "\n",
    "contact_policies = {\n",
    "    \"policy_close_contacts\": {\n",
    "        \"start\": \"2020-03-12\",\n",
    "        \"policy\": 0.5,\n",
    "        \"is_active\": contact_policy_is_active,\n",
    "        \"affected_contact_model\": \"close\",\n",
    "    },\n",
    "    \"policy_distant_contacts\": {\n",
    "        \"start\": \"2020-03-12\",\n",
    "        \"policy\": 0.5,\n",
    "        \"is_active\": contact_policy_is_active,\n",
    "        \"affected_contact_model\": \"distant\",\n",
    "    },\n",
    "}"
   ]
  },
  {
   "cell_type": "markdown",
   "metadata": {},
   "source": [
    "Finally, there must be some initial infections in our population. This is specified via the initial conditions which are thouroughly explained in the [how-to guide](../how_to_guides/how_to_use_initial_conditions.ipynb). For now, we assume that there are 100 infected individuals and 50 with pre-existing immunity."
   ]
  },
  {
   "cell_type": "code",
   "execution_count": 9,
   "metadata": {},
   "outputs": [],
   "source": [
    "initial_conditions = {\"initial_infections\": 100, \"initial_immunity\": 50}"
   ]
  },
  {
   "cell_type": "markdown",
   "metadata": {},
   "source": [
    "### Run the simulation"
   ]
  },
  {
   "cell_type": "markdown",
   "metadata": {},
   "source": [
    "We are going to simulate this population for 200 periods."
   ]
  },
  {
   "cell_type": "code",
   "execution_count": 10,
   "metadata": {},
   "outputs": [],
   "source": [
    "simulate = sid.get_simulate_func(\n",
    "    initial_states=initial_states,\n",
    "    contact_models=contact_models,\n",
    "    params=params,\n",
    "    contact_policies=contact_policies,\n",
    "    initial_conditions=initial_conditions,\n",
    "    duration={\"start\": \"2020-02-27\", \"periods\": 50},\n",
    "    saved_columns={\"time\": \"date\"},\n",
    "    seed=0,\n",
    ")\n",
    "df = simulate(params=params)"
   ]
  },
  {
   "cell_type": "code",
   "execution_count": 12,
   "metadata": {},
   "outputs": [
    {
     "ename": "NameError",
     "evalue": "name 'asdsad' is not defined",
     "output_type": "error",
     "traceback": [
      "\u001b[1;31m---------------------------------------------------------------------------\u001b[0m",
      "\u001b[1;31mNameError\u001b[0m                                 Traceback (most recent call last)",
      "\u001b[1;32m<ipython-input-12-0abae7b24eea>\u001b[0m in \u001b[0;36m<module>\u001b[1;34m\u001b[0m\n\u001b[1;32m----> 1\u001b[1;33m \u001b[0masdsad\u001b[0m\u001b[1;33m\u001b[0m\u001b[1;33m\u001b[0m\u001b[0m\n\u001b[0m",
      "\u001b[1;31mNameError\u001b[0m: name 'asdsad' is not defined"
     ]
    }
   ],
   "source": [
    "df = df.time_series.to_dataframe()"
   ]
  },
  {
   "cell_type": "markdown",
   "metadata": {},
   "source": [
    "The return of `simulate` is a [Dask DataFrame](https://docs.dask.org/en/latest/dataframe.html) which lazily loads the data. If your data fits your working memory, do the following to convert it to a pandas DataFrame."
   ]
  },
  {
   "cell_type": "markdown",
   "metadata": {},
   "source": [
    "Let us take a look at various statistics of the sample."
   ]
  },
  {
   "cell_type": "code",
   "execution_count": null,
   "metadata": {},
   "outputs": [],
   "source": [
    "fig, axs = plt.subplots(2, 2, figsize=(12, 8))\n",
    "fig.subplots_adjust(bottom=0.15, wspace=0.2, hspace=0.4)\n",
    "\n",
    "axs = axs.flatten()\n",
    "\n",
    "df.resample(\"D\", on=\"date\")[\"ever_infected\"].mean().plot(ax=axs[0], color=\"#5c7f8e\")\n",
    "df.resample(\"D\", on=\"date\")[\"infectious\"].mean().plot(ax=axs[1], color=\"#5c7f8e\")\n",
    "df.resample(\"D\", on=\"date\")[\"dead\"].sum().plot(ax=axs[2], color=\"#5c7f8e\")\n",
    "infectious_last_seven_days = df.cd_infectious_false.between(-7, 0)\n",
    "df.loc[infectious_last_seven_days].resample(\"D\", on=\"date\")[\n",
    "    \"n_has_infected\"\n",
    "].mean().plot(ax=axs[3], color=\"#5c7f8e\")\n",
    "\n",
    "for ax in axs:\n",
    "    ax.set_xlabel(\"\")\n",
    "    ax.spines[\"right\"].set_visible(False)\n",
    "    ax.spines[\"top\"].set_visible(False)\n",
    "\n",
    "axs[0].set_title(\"Share of Infected People\")\n",
    "axs[1].set_title(\"Share of Infectious People in the Population\")\n",
    "axs[2].set_title(\"Total Number of Deaths\")\n",
    "axs[3].set_title(\"$R_t$ (Effective Reproduction Number)\")\n",
    "\n",
    "plt.show()"
   ]
  }
 ],
 "metadata": {
  "kernelspec": {
   "display_name": "Python 3",
   "language": "python",
   "name": "python3"
  },
  "language_info": {
   "codemirror_mode": {
    "name": "ipython",
    "version": 3
   },
   "file_extension": ".py",
   "mimetype": "text/x-python",
   "name": "python",
   "nbconvert_exporter": "python",
   "pygments_lexer": "ipython3",
   "version": "3.8.6"
  }
 },
 "nbformat": 4,
 "nbformat_minor": 4
}
