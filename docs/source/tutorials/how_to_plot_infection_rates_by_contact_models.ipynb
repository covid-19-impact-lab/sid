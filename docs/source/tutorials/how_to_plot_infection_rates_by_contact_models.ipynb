{
 "cells": [
  {
   "cell_type": "markdown",
   "id": "9d290f99-aaf9-4c6e-8562-82a8b778528e",
   "metadata": {},
   "source": [
    "# How to plot infection rates by contact models\n",
    "\n",
    "The following simulation is identical to the simulation in the [tutorial on contact models](how_to_specify_contact_models.ipynb). The heatmap shows the contribution of contact models to new infections for each day in the simulation. The values are shares in relation to the whole population."
   ]
  },
  {
   "cell_type": "code",
   "execution_count": 1,
   "id": "ab853532-9712-4ed1-b8fc-faefcad1949e",
   "metadata": {},
   "outputs": [],
   "source": [
    "import warnings\n",
    "\n",
    "import holoviews as hv\n",
    "import numpy as np\n",
    "import pandas as pd\n",
    "\n",
    "import sid\n",
    "from sid.plotting import plot_infection_rates_by_contact_models\n",
    "\n",
    "warnings.filterwarnings(\n",
    "    \"ignore\", message=\"indexing past lexsort depth may impact performance.\"\n",
    ")"
   ]
  },
  {
   "cell_type": "code",
   "execution_count": 2,
   "id": "4fd44e99-5f9f-4f56-aeac-014ab02a0bcd",
   "metadata": {},
   "outputs": [
    {
     "data": {
      "text/html": [
       "<div>\n",
       "<style scoped>\n",
       "    .dataframe tbody tr th:only-of-type {\n",
       "        vertical-align: middle;\n",
       "    }\n",
       "\n",
       "    .dataframe tbody tr th {\n",
       "        vertical-align: top;\n",
       "    }\n",
       "\n",
       "    .dataframe thead th {\n",
       "        text-align: right;\n",
       "    }\n",
       "</style>\n",
       "<table border=\"1\" class=\"dataframe\">\n",
       "  <thead>\n",
       "    <tr style=\"text-align: right;\">\n",
       "      <th></th>\n",
       "      <th>age_group</th>\n",
       "      <th>region</th>\n",
       "      <th>hh_id</th>\n",
       "    </tr>\n",
       "  </thead>\n",
       "  <tbody>\n",
       "    <tr>\n",
       "      <th>0</th>\n",
       "      <td>0-9</td>\n",
       "      <td>East</td>\n",
       "      <td>52</td>\n",
       "    </tr>\n",
       "    <tr>\n",
       "      <th>1</th>\n",
       "      <td>30-39</td>\n",
       "      <td>East</td>\n",
       "      <td>2227</td>\n",
       "    </tr>\n",
       "    <tr>\n",
       "      <th>2</th>\n",
       "      <td>10-19</td>\n",
       "      <td>North</td>\n",
       "      <td>1197</td>\n",
       "    </tr>\n",
       "    <tr>\n",
       "      <th>3</th>\n",
       "      <td>0-9</td>\n",
       "      <td>East</td>\n",
       "      <td>254</td>\n",
       "    </tr>\n",
       "    <tr>\n",
       "      <th>4</th>\n",
       "      <td>60-69</td>\n",
       "      <td>North</td>\n",
       "      <td>3830</td>\n",
       "    </tr>\n",
       "  </tbody>\n",
       "</table>\n",
       "</div>"
      ],
      "text/plain": [
       "  age_group region hh_id\n",
       "0       0-9   East    52\n",
       "1     30-39   East  2227\n",
       "2     10-19  North  1197\n",
       "3       0-9   East   254\n",
       "4     60-69  North  3830"
      ]
     },
     "execution_count": 2,
     "metadata": {},
     "output_type": "execute_result"
    }
   ],
   "source": [
    "n_individuals = 10_000\n",
    "available_ages = [\n",
    "    \"0-9\",\n",
    "    \"10-19\",\n",
    "    \"20-29\",\n",
    "    \"30-39\",\n",
    "    \"40-49\",\n",
    "    \"50-59\",\n",
    "    \"60-69\",\n",
    "    \"70-79\",\n",
    "    \"80-100\",\n",
    "]\n",
    "\n",
    "ages = np.random.choice(available_ages, size=n_individuals)\n",
    "regions = np.random.choice([\"North\", \"East\", \"South\", \"West\"], size=n_individuals)\n",
    "hh_id = pd.Series(np.random.choice(int(n_individuals / 1.6), size=n_individuals))\n",
    "\n",
    "initial_states = pd.DataFrame(\n",
    "    {\"age_group\": ages, \"region\": regions, \"hh_id\": hh_id}\n",
    ").astype(\"category\")\n",
    "initial_states.head(5)"
   ]
  },
  {
   "cell_type": "code",
   "execution_count": 3,
   "id": "9af86dbc-f784-4979-b9d5-f9a3ca286b35",
   "metadata": {},
   "outputs": [],
   "source": [
    "contact_models = {}\n",
    "\n",
    "\n",
    "def random_encounters(states, params, seed):\n",
    "    np.random.seed(seed)\n",
    "    contacts = np.random.choice(np.arange(3), size=states.shape[0])\n",
    "    return pd.Series(index=states.index, data=contacts)\n",
    "\n",
    "\n",
    "contact_models[\"random_encounters\"] = {\n",
    "    \"model\": random_encounters,\n",
    "    \"assort_by\": [\"age_group\", \"region\"],\n",
    "    \"is_recurrent\": False,\n",
    "}\n",
    "\n",
    "\n",
    "def meet_household(states, params, seed):\n",
    "    return pd.Series(index=states.index, data=True)\n",
    "\n",
    "\n",
    "contact_models[\"meet_household\"] = {\n",
    "    \"model\": meet_household,\n",
    "    \"assort_by\": \"hh_id\",\n",
    "    \"is_recurrent\": True,\n",
    "}"
   ]
  },
  {
   "cell_type": "code",
   "execution_count": 4,
   "id": "893f580b-5492-468d-9a38-ae33d0a040d4",
   "metadata": {},
   "outputs": [],
   "source": [
    "params = sid.load_epidemiological_parameters()\n",
    "params.loc[(\"assortative_matching\", \"random_encounters\", \"age_group\"), \"value\"] = 0.2\n",
    "params.loc[(\"assortative_matching\", \"random_encounters\", \"region\"), \"value\"] = 0.9\n",
    "params.loc[(\"infection_prob\", \"random_encounters\", \"random_encounters\"), \"value\"] = 0.1\n",
    "params.loc[(\"infection_prob\", \"meet_household\", \"meet_household\"), \"value\"] = 0.15"
   ]
  },
  {
   "cell_type": "code",
   "execution_count": null,
   "id": "43203479-d674-4af7-a5a1-2cb9973a7007",
   "metadata": {},
   "outputs": [
    {
     "name": "stderr",
     "output_type": "stream",
     "text": [
      "Start the simulation...\n",
      "2020-04-01: 100%|██████████████████████████████████████████████████████████████████████| 32/32 [00:05<00:00,  6.06it/s]\n"
     ]
    }
   ],
   "source": [
    "simulate = sid.get_simulate_func(\n",
    "    params=params,\n",
    "    initial_states=initial_states,\n",
    "    contact_models=contact_models,\n",
    "    duration={\"start\": \"2020-03-01\", \"end\": \"2020-04-01\"},\n",
    "    saved_columns={\"other\": [\"channel_infected_by_contact\"]},\n",
    "    seed=144,\n",
    ")\n",
    "\n",
    "result = simulate(params)"
   ]
  },
  {
   "cell_type": "code",
   "execution_count": null,
   "id": "dcd2748e-8a06-4c78-b8e0-b95c32352c80",
   "metadata": {},
   "outputs": [],
   "source": [
    "heatmap = plot_infection_rates_by_contact_models(\n",
    "    result[\"time_series\"], numbers=\"shares\"\n",
    ")\n",
    "heatmap"
   ]
  },
  {
   "cell_type": "code",
   "execution_count": 39,
   "id": "25684d78-afca-4748-afce-87d8edf20ca4",
   "metadata": {},
   "outputs": [],
   "source": [
    "df = result[\"time_series\"]"
   ]
  },
  {
   "cell_type": "code",
   "execution_count": 41,
   "id": "b146bfd9-48cd-4022-aeed-a1d7868209ec",
   "metadata": {},
   "outputs": [
    {
     "data": {
      "text/plain": [
       "array([False])"
      ]
     },
     "execution_count": 41,
     "metadata": {},
     "output_type": "execute_result"
    }
   ],
   "source": [
    "df[\"new_known_case\"].compute().unique()"
   ]
  },
  {
   "cell_type": "code",
   "execution_count": null,
   "id": "4ec40e1f-ec75-4f98-b69c-cdd8f3d1daf0",
   "metadata": {},
   "outputs": [],
   "source": []
  }
 ],
 "metadata": {
  "kernelspec": {
   "display_name": "Python 3",
   "language": "python",
   "name": "python3"
  },
  "language_info": {
   "codemirror_mode": {
    "name": "ipython",
    "version": 3
   },
   "file_extension": ".py",
   "mimetype": "text/x-python",
   "name": "python",
   "nbconvert_exporter": "python",
   "pygments_lexer": "ipython3",
   "version": "3.9.2"
  }
 },
 "nbformat": 4,
 "nbformat_minor": 5
}
