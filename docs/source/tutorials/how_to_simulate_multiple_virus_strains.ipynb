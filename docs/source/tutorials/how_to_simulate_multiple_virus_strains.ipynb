{
 "cells": [
  {
   "cell_type": "markdown",
   "metadata": {},
   "source": [
    "# How to simulate multiple virus strains\n",
    "\n",
    "In this tutorial, we are going to simulate the spread of Covid-19 with two virus strains."
   ]
  },
  {
   "cell_type": "code",
   "execution_count": 1,
   "metadata": {},
   "outputs": [],
   "source": [
    "%matplotlib inline\n",
    "\n",
    "import matplotlib.pyplot as plt\n",
    "import numpy as np\n",
    "import pandas as pd\n",
    "import sid\n",
    "from sid.config import INDEX_NAMES"
   ]
  },
  {
   "cell_type": "markdown",
   "metadata": {},
   "source": [
    "## Preparation\n",
    "\n",
    "For the simulation we need to prepare several objects which are identical to the ones from the general tutorial on the [simulation](how_to_simulate.ipynb)."
   ]
  },
  {
   "cell_type": "code",
   "execution_count": 2,
   "metadata": {},
   "outputs": [
    {
     "data": {
      "text/html": [
       "<div>\n",
       "<style scoped>\n",
       "    .dataframe tbody tr th:only-of-type {\n",
       "        vertical-align: middle;\n",
       "    }\n",
       "\n",
       "    .dataframe tbody tr th {\n",
       "        vertical-align: top;\n",
       "    }\n",
       "\n",
       "    .dataframe thead th {\n",
       "        text-align: right;\n",
       "    }\n",
       "</style>\n",
       "<table border=\"1\" class=\"dataframe\">\n",
       "  <thead>\n",
       "    <tr style=\"text-align: right;\">\n",
       "      <th></th>\n",
       "      <th>age_group</th>\n",
       "      <th>region</th>\n",
       "    </tr>\n",
       "  </thead>\n",
       "  <tbody>\n",
       "    <tr>\n",
       "      <th>0</th>\n",
       "      <td>60-69</td>\n",
       "      <td>South</td>\n",
       "    </tr>\n",
       "    <tr>\n",
       "      <th>1</th>\n",
       "      <td>30-39</td>\n",
       "      <td>South</td>\n",
       "    </tr>\n",
       "    <tr>\n",
       "      <th>2</th>\n",
       "      <td>0-9</td>\n",
       "      <td>South</td>\n",
       "    </tr>\n",
       "    <tr>\n",
       "      <th>3</th>\n",
       "      <td>50-59</td>\n",
       "      <td>South</td>\n",
       "    </tr>\n",
       "    <tr>\n",
       "      <th>4</th>\n",
       "      <td>40-49</td>\n",
       "      <td>South</td>\n",
       "    </tr>\n",
       "  </tbody>\n",
       "</table>\n",
       "</div>"
      ],
      "text/plain": [
       "  age_group region\n",
       "0     60-69  South\n",
       "1     30-39  South\n",
       "2       0-9  South\n",
       "3     50-59  South\n",
       "4     40-49  South"
      ]
     },
     "execution_count": 2,
     "metadata": {},
     "output_type": "execute_result"
    }
   ],
   "source": [
    "available_ages = [\n",
    "    \"0-9\",\n",
    "    \"10-19\",\n",
    "    \"20-29\",\n",
    "    \"30-39\",\n",
    "    \"40-49\",\n",
    "    \"50-59\",\n",
    "    \"60-69\",\n",
    "    \"70-79\",\n",
    "    \"80-100\",\n",
    "]\n",
    "\n",
    "ages = np.random.choice(available_ages, size=10_000)\n",
    "regions = np.random.choice([\"North\", \"South\"], size=10_000)\n",
    "\n",
    "initial_states = pd.DataFrame({\"age_group\": ages, \"region\": regions}).astype(\"category\")\n",
    "initial_states.head(5)"
   ]
  },
  {
   "cell_type": "code",
   "execution_count": 3,
   "metadata": {},
   "outputs": [],
   "source": [
    "def meet_distant(states, params, seed):\n",
    "    possible_nr_contacts = np.arange(10)\n",
    "    contacts = np.random.choice(possible_nr_contacts, size=len(states))\n",
    "    return pd.Series(contacts, index=states.index)\n",
    "\n",
    "\n",
    "def meet_close(states, params, seed):\n",
    "    possible_nr_contacts = np.arange(5)\n",
    "    contacts = np.random.choice(possible_nr_contacts, size=len(states))\n",
    "    return pd.Series(contacts, index=states.index)\n",
    "\n",
    "\n",
    "assort_by = [\"age_group\", \"region\"]\n",
    "\n",
    "contact_models = {\n",
    "    \"distant\": {\"model\": meet_distant, \"assort_by\": assort_by, \"is_recurrent\": False},\n",
    "    \"close\": {\"model\": meet_close, \"assort_by\": assort_by, \"is_recurrent\": False},\n",
    "}"
   ]
  },
  {
   "cell_type": "code",
   "execution_count": 4,
   "metadata": {},
   "outputs": [
    {
     "data": {
      "text/html": [
       "<div>\n",
       "<style scoped>\n",
       "    .dataframe tbody tr th:only-of-type {\n",
       "        vertical-align: middle;\n",
       "    }\n",
       "\n",
       "    .dataframe tbody tr th {\n",
       "        vertical-align: top;\n",
       "    }\n",
       "\n",
       "    .dataframe thead th {\n",
       "        text-align: right;\n",
       "    }\n",
       "</style>\n",
       "<table border=\"1\" class=\"dataframe\">\n",
       "  <thead>\n",
       "    <tr style=\"text-align: right;\">\n",
       "      <th></th>\n",
       "      <th></th>\n",
       "      <th></th>\n",
       "      <th>value</th>\n",
       "      <th>note</th>\n",
       "      <th>source</th>\n",
       "    </tr>\n",
       "    <tr>\n",
       "      <th>category</th>\n",
       "      <th>subcategory</th>\n",
       "      <th>name</th>\n",
       "      <th></th>\n",
       "      <th></th>\n",
       "      <th></th>\n",
       "    </tr>\n",
       "  </thead>\n",
       "  <tbody>\n",
       "    <tr>\n",
       "      <th rowspan=\"3\" valign=\"top\">infection_prob</th>\n",
       "      <th>close</th>\n",
       "      <th>close</th>\n",
       "      <td>0.05</td>\n",
       "      <td>NaN</td>\n",
       "      <td>NaN</td>\n",
       "    </tr>\n",
       "    <tr>\n",
       "      <th>distant</th>\n",
       "      <th>distant</th>\n",
       "      <td>0.03</td>\n",
       "      <td>NaN</td>\n",
       "      <td>NaN</td>\n",
       "    </tr>\n",
       "    <tr>\n",
       "      <th>household</th>\n",
       "      <th>household</th>\n",
       "      <td>0.20</td>\n",
       "      <td>NaN</td>\n",
       "      <td>NaN</td>\n",
       "    </tr>\n",
       "  </tbody>\n",
       "</table>\n",
       "</div>"
      ],
      "text/plain": [
       "                                      value  note  source\n",
       "category       subcategory name                          \n",
       "infection_prob close       close       0.05   NaN     NaN\n",
       "               distant     distant     0.03   NaN     NaN\n",
       "               household   household   0.20   NaN     NaN"
      ]
     },
     "execution_count": 4,
     "metadata": {},
     "output_type": "execute_result"
    }
   ],
   "source": [
    "epidemiological_parameters = pd.read_csv(\"infection_probs.csv\", index_col=INDEX_NAMES)\n",
    "epidemiological_parameters"
   ]
  },
  {
   "cell_type": "code",
   "execution_count": 5,
   "metadata": {},
   "outputs": [
    {
     "data": {
      "text/html": [
       "<div>\n",
       "<style scoped>\n",
       "    .dataframe tbody tr th:only-of-type {\n",
       "        vertical-align: middle;\n",
       "    }\n",
       "\n",
       "    .dataframe tbody tr th {\n",
       "        vertical-align: top;\n",
       "    }\n",
       "\n",
       "    .dataframe thead th {\n",
       "        text-align: right;\n",
       "    }\n",
       "</style>\n",
       "<table border=\"1\" class=\"dataframe\">\n",
       "  <thead>\n",
       "    <tr style=\"text-align: right;\">\n",
       "      <th></th>\n",
       "      <th></th>\n",
       "      <th></th>\n",
       "      <th>value</th>\n",
       "      <th>note</th>\n",
       "      <th>source</th>\n",
       "    </tr>\n",
       "    <tr>\n",
       "      <th>category</th>\n",
       "      <th>subcategory</th>\n",
       "      <th>name</th>\n",
       "      <th></th>\n",
       "      <th></th>\n",
       "      <th></th>\n",
       "    </tr>\n",
       "  </thead>\n",
       "  <tbody>\n",
       "    <tr>\n",
       "      <th rowspan=\"4\" valign=\"top\">assortative_matching</th>\n",
       "      <th rowspan=\"2\" valign=\"top\">close</th>\n",
       "      <th>age_group</th>\n",
       "      <td>0.5</td>\n",
       "      <td>NaN</td>\n",
       "      <td>NaN</td>\n",
       "    </tr>\n",
       "    <tr>\n",
       "      <th>region</th>\n",
       "      <td>0.9</td>\n",
       "      <td>NaN</td>\n",
       "      <td>NaN</td>\n",
       "    </tr>\n",
       "    <tr>\n",
       "      <th rowspan=\"2\" valign=\"top\">distant</th>\n",
       "      <th>age_group</th>\n",
       "      <td>0.5</td>\n",
       "      <td>NaN</td>\n",
       "      <td>NaN</td>\n",
       "    </tr>\n",
       "    <tr>\n",
       "      <th>region</th>\n",
       "      <td>0.9</td>\n",
       "      <td>NaN</td>\n",
       "      <td>NaN</td>\n",
       "    </tr>\n",
       "  </tbody>\n",
       "</table>\n",
       "</div>"
      ],
      "text/plain": [
       "                                            value  note  source\n",
       "category             subcategory name                          \n",
       "assortative_matching close       age_group    0.5   NaN     NaN\n",
       "                                 region       0.9   NaN     NaN\n",
       "                     distant     age_group    0.5   NaN     NaN\n",
       "                                 region       0.9   NaN     NaN"
      ]
     },
     "execution_count": 5,
     "metadata": {},
     "output_type": "execute_result"
    }
   ],
   "source": [
    "assort_probs = pd.read_csv(\"assort_by_params.csv\", index_col=INDEX_NAMES)\n",
    "assort_probs"
   ]
  },
  {
   "cell_type": "code",
   "execution_count": 6,
   "metadata": {},
   "outputs": [
    {
     "data": {
      "text/html": [
       "<div>\n",
       "<style scoped>\n",
       "    .dataframe tbody tr th:only-of-type {\n",
       "        vertical-align: middle;\n",
       "    }\n",
       "\n",
       "    .dataframe tbody tr th {\n",
       "        vertical-align: top;\n",
       "    }\n",
       "\n",
       "    .dataframe thead th {\n",
       "        text-align: right;\n",
       "    }\n",
       "</style>\n",
       "<table border=\"1\" class=\"dataframe\">\n",
       "  <thead>\n",
       "    <tr style=\"text-align: right;\">\n",
       "      <th></th>\n",
       "      <th></th>\n",
       "      <th></th>\n",
       "      <th>value</th>\n",
       "    </tr>\n",
       "    <tr>\n",
       "      <th>category</th>\n",
       "      <th>subcategory</th>\n",
       "      <th>name</th>\n",
       "      <th></th>\n",
       "    </tr>\n",
       "  </thead>\n",
       "  <tbody>\n",
       "    <tr>\n",
       "      <th>health_system</th>\n",
       "      <th>icu_limit_relative</th>\n",
       "      <th>icu_limit_relative</th>\n",
       "      <td>50.00</td>\n",
       "    </tr>\n",
       "    <tr>\n",
       "      <th>cd_immune_false</th>\n",
       "      <th>all</th>\n",
       "      <th>1000</th>\n",
       "      <td>1.00</td>\n",
       "    </tr>\n",
       "    <tr>\n",
       "      <th rowspan=\"4\" valign=\"top\">cd_infectious_true</th>\n",
       "      <th rowspan=\"4\" valign=\"top\">all</th>\n",
       "      <th>1</th>\n",
       "      <td>0.39</td>\n",
       "    </tr>\n",
       "    <tr>\n",
       "      <th>2</th>\n",
       "      <td>0.35</td>\n",
       "    </tr>\n",
       "    <tr>\n",
       "      <th>3</th>\n",
       "      <td>0.22</td>\n",
       "    </tr>\n",
       "    <tr>\n",
       "      <th>5</th>\n",
       "      <td>0.04</td>\n",
       "    </tr>\n",
       "  </tbody>\n",
       "</table>\n",
       "</div>"
      ],
      "text/plain": [
       "                                                          value\n",
       "category           subcategory        name                     \n",
       "health_system      icu_limit_relative icu_limit_relative  50.00\n",
       "cd_immune_false    all                1000                 1.00\n",
       "cd_infectious_true all                1                    0.39\n",
       "                                      2                    0.35\n",
       "                                      3                    0.22\n",
       "                                      5                    0.04"
      ]
     },
     "execution_count": 6,
     "metadata": {},
     "output_type": "execute_result"
    }
   ],
   "source": [
    "disease_params = sid.load_epidemiological_parameters()\n",
    "disease_params.head(6).round(2)"
   ]
  },
  {
   "cell_type": "code",
   "execution_count": 7,
   "metadata": {},
   "outputs": [],
   "source": [
    "params = pd.concat([disease_params, epidemiological_parameters, assort_probs])"
   ]
  },
  {
   "cell_type": "code",
   "execution_count": 8,
   "metadata": {},
   "outputs": [],
   "source": [
    "def contact_policy_is_active(states):\n",
    "    return states[\"infectious\"].mean() > 0.1\n",
    "\n",
    "\n",
    "contact_policies = {\n",
    "    \"policy_close_contacts\": {\n",
    "        \"start\": \"2020-03-12\",\n",
    "        \"policy\": 0.5,\n",
    "        \"is_active\": contact_policy_is_active,\n",
    "        \"affected_contact_model\": \"close\",\n",
    "    },\n",
    "    \"policy_distant_contacts\": {\n",
    "        \"start\": \"2020-03-12\",\n",
    "        \"policy\": 0.5,\n",
    "        \"is_active\": contact_policy_is_active,\n",
    "        \"affected_contact_model\": \"distant\",\n",
    "    },\n",
    "}"
   ]
  },
  {
   "cell_type": "markdown",
   "metadata": {},
   "source": [
    "## Additional objects to simulate multiple virus strains\n",
    "\n",
    "To implement multiple virus strains, we have to make the following extensions to the model.\n",
    "\n",
    "1. Add a multiplier for the contagiousness of each virus to the parameters.\n",
    "2. Prepare a DataFrame for the initial conditions."
   ]
  },
  {
   "cell_type": "code",
   "execution_count": 9,
   "metadata": {},
   "outputs": [
    {
     "name": "stderr",
     "output_type": "stream",
     "text": [
      "C:\\tools\\miniconda3\\envs\\sid\\lib\\site-packages\\IPython\\core\\interactiveshell.py:2894: PerformanceWarning: indexing past lexsort depth may impact performance.\n",
      "  result = self._run_cell(\n"
     ]
    }
   ],
   "source": [
    "for virus, multiplier in [(\"base\", 1), (\"b117\", 1.3)]:\n",
    "    params.loc[(\"virus_strain\", virus, \"multiplier\"), \"value\"] = multiplier"
   ]
  },
  {
   "cell_type": "markdown",
   "metadata": {},
   "source": [
    "For the initial conditions, we assume a two-day burn-in period. On the first day, 50 people are infected with the base virus, on the second day one halve of 50 people has the old and the other halve the new variant.\n",
    "\n",
    "Each column in the DataFrame is a categorical. Infected individuals have a code for the variant, all others have NaNs."
   ]
  },
  {
   "cell_type": "code",
   "execution_count": 10,
   "metadata": {},
   "outputs": [],
   "source": [
    "infected_first_day = set(np.random.choice(10_000, size=50, replace=False))\n",
    "first_day = pd.Series([pd.NA] * 10_000)\n",
    "first_day.iloc[list(infected_first_day)] = \"base\""
   ]
  },
  {
   "cell_type": "code",
   "execution_count": 11,
   "metadata": {},
   "outputs": [],
   "source": [
    "infected_second_day_old_variant = set(\n",
    "    np.random.choice(\n",
    "        list(set(range(10_000)) - infected_first_day), size=25, replace=False\n",
    "    )\n",
    ")\n",
    "infected_second_day_new_variant = set(\n",
    "    np.random.choice(\n",
    "        list(set(range(10_000)) - infected_first_day - infected_second_day_old_variant),\n",
    "        size=25,\n",
    "        replace=False,\n",
    "    )\n",
    ")\n",
    "\n",
    "second_day = pd.Series([pd.NA] * 10_000)\n",
    "second_day.iloc[list(infected_second_day_old_variant)] = \"base\"\n",
    "second_day.iloc[list(infected_second_day_new_variant)] = \"b117\""
   ]
  },
  {
   "cell_type": "code",
   "execution_count": 12,
   "metadata": {},
   "outputs": [],
   "source": [
    "initial_infections = pd.DataFrame(\n",
    "    {\n",
    "        pd.Timestamp(\"2020-02-25\"): pd.Categorical(\n",
    "            first_day, categories=[\"base\", \"b117\"]\n",
    "        ),\n",
    "        pd.Timestamp(\"2020-02-26\"): pd.Categorical(\n",
    "            second_day, categories=[\"base\", \"b117\"]\n",
    "        ),\n",
    "    }\n",
    ")"
   ]
  },
  {
   "cell_type": "code",
   "execution_count": 13,
   "metadata": {},
   "outputs": [],
   "source": [
    "initial_conditions = {\"initial_infections\": initial_infections, \"initial_immunity\": 50}"
   ]
  },
  {
   "cell_type": "markdown",
   "metadata": {},
   "source": [
    "## Run the simulation\n",
    "\n",
    "We are going to simulate this population for 200 periods."
   ]
  },
  {
   "cell_type": "code",
   "execution_count": null,
   "metadata": {},
   "outputs": [],
   "source": [
    "simulate = sid.get_simulate_func(\n",
    "    initial_states=initial_states,\n",
    "    contact_models=contact_models,\n",
    "    params=params,\n",
    "    contact_policies=contact_policies,\n",
    "    initial_conditions=initial_conditions,\n",
    "    duration={\"start\": \"2020-02-27\", \"periods\": 365},\n",
    "    seed=0,\n",
    ")\n",
    "result = simulate(params=params)"
   ]
  },
  {
   "cell_type": "code",
   "execution_count": null,
   "metadata": {},
   "outputs": [],
   "source": [
    "pd.Series([1, 2, np.nan, np.nan]).astype(\"category\").fillna(\n",
    "    pd.Series([np.nan, 1, 1, np.nan])\n",
    ")"
   ]
  },
  {
   "cell_type": "code",
   "execution_count": null,
   "metadata": {},
   "outputs": [],
   "source": [
    "result[\"time_series\"].head()"
   ]
  },
  {
   "cell_type": "code",
   "execution_count": null,
   "metadata": {},
   "outputs": [],
   "source": [
    "result[\"last_states\"].head()"
   ]
  },
  {
   "cell_type": "markdown",
   "metadata": {},
   "source": [
    "The return of `simulate` is a dictionary with containing the time series data and the last states as a [Dask DataFrame](https://docs.dask.org/en/latest/dataframe.html). This allows to load the data lazily.\n",
    "\n",
    "The ``last_states`` can be used to resume the simulation. We will inspect the ``time_series`` data. If data data fits your working memory, do the following to convert it to a pandas DataFrame."
   ]
  },
  {
   "cell_type": "code",
   "execution_count": null,
   "metadata": {},
   "outputs": [],
   "source": [
    "df = result[\"time_series\"].compute()"
   ]
  },
  {
   "cell_type": "markdown",
   "metadata": {},
   "source": [
    "Let us take a look at various statistics of the sample."
   ]
  },
  {
   "cell_type": "code",
   "execution_count": null,
   "metadata": {},
   "outputs": [],
   "source": [
    "fig, axs = plt.subplots(2, 2, figsize=(12, 8))\n",
    "fig.subplots_adjust(bottom=0.15, wspace=0.2, hspace=0.4)\n",
    "\n",
    "axs = axs.flatten()\n",
    "\n",
    "df.resample(\"D\", on=\"date\")[\"ever_infected\"].mean().plot(ax=axs[0], color=\"#5c7f8e\")\n",
    "df.resample(\"D\", on=\"date\")[\"infectious\"].mean().plot(ax=axs[1], color=\"#5c7f8e\")\n",
    "df.resample(\"D\", on=\"date\")[\"dead\"].sum().plot(ax=axs[2], color=\"#5c7f8e\")\n",
    "infectious_last_seven_days = df.cd_infectious_false.between(-7, 0)\n",
    "df.loc[infectious_last_seven_days].resample(\"D\", on=\"date\")[\n",
    "    \"n_has_infected\"\n",
    "].mean().plot(ax=axs[3], color=\"#5c7f8e\")\n",
    "\n",
    "for ax in axs:\n",
    "    ax.set_xlabel(\"\")\n",
    "    ax.spines[\"right\"].set_visible(False)\n",
    "    ax.spines[\"top\"].set_visible(False)\n",
    "\n",
    "axs[0].set_title(\"Share of Infected People\")\n",
    "axs[1].set_title(\"Share of Infectious People in the Population\")\n",
    "axs[2].set_title(\"Total Number of Deaths\")\n",
    "axs[3].set_title(\"$R_t$ (Effective Reproduction Number)\")\n",
    "\n",
    "plt.show()"
   ]
  }
 ],
 "metadata": {
  "kernelspec": {
   "display_name": "Python 3",
   "language": "python",
   "name": "python3"
  },
  "language_info": {
   "codemirror_mode": {
    "name": "ipython",
    "version": 3
   },
   "file_extension": ".py",
   "mimetype": "text/x-python",
   "name": "python",
   "nbconvert_exporter": "python",
   "pygments_lexer": "ipython3",
   "version": "3.8.8"
  }
 },
 "nbformat": 4,
 "nbformat_minor": 4
}
