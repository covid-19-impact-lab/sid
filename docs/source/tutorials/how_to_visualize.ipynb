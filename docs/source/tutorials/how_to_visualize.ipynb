{
 "cells": [
  {
   "cell_type": "markdown",
   "id": "5f1e1d38-7c8f-4ab2-bae3-cdb18bde476d",
   "metadata": {},
   "source": [
    "# How to visualize"
   ]
  },
  {
   "cell_type": "code",
   "execution_count": null,
   "id": "49d4dac5-32b2-45da-bc62-f9e801c066af",
   "metadata": {},
   "outputs": [],
   "source": [
    "import sid"
   ]
  },
  {
   "cell_type": "markdown",
   "id": "c7a90f2a-3f30-41b4-897c-ec5854c1b132",
   "metadata": {},
   "source": [
    "## Gantt chart of policies"
   ]
  },
  {
   "cell_type": "code",
   "execution_count": null,
   "id": "ecd98784-69b5-454b-96c2-cd03ca15d318",
   "metadata": {},
   "outputs": [],
   "source": [
    "policies = {\n",
    "    \"closed_schools\": {\n",
    "        \"affected_contact_model\": \"school\",\n",
    "        \"start\": \"2020-03-09\",\n",
    "        \"end\": \"2020-05-31\",\n",
    "        \"policy\": 0,\n",
    "    },\n",
    "    \"partially_closed_schools\": {\n",
    "        \"affected_contact_model\": \"school\",\n",
    "        \"start\": \"2020-06-01\",\n",
    "        \"end\": \"2020-09-30\",\n",
    "        \"policy\": 0.5,\n",
    "    },\n",
    "    \"partially_closed_kindergarden\": {\n",
    "        \"affected_contact_model\": \"school\",\n",
    "        \"start\": \"2020-05-20\",\n",
    "        \"end\": \"2020-06-30\",\n",
    "        \"policy\": 0.5,\n",
    "    },\n",
    "    \"work_closed\": {\n",
    "        \"affected_contact_model\": \"work\",\n",
    "        \"start\": \"2020-03-09\",\n",
    "        \"end\": \"2020-06-15\",\n",
    "        \"policy\": 0.4,\n",
    "    },\n",
    "    \"work_partially_opened\": {\n",
    "        \"affected_contact_model\": \"work\",\n",
    "        \"start\": \"2020-05-01\",\n",
    "        \"end\": \"2020-08-15\",\n",
    "        \"policy\": 0.7,\n",
    "    },\n",
    "    \"closed_leisure_activities\": {\n",
    "        \"affected_contact_model\": \"leisure\",\n",
    "        \"start\": \"2020-03-09\",\n",
    "        \"policy\": 0,\n",
    "    },\n",
    "}"
   ]
  },
  {
   "cell_type": "code",
   "execution_count": null,
   "id": "7651e5fe-916c-4f16-9a18-1c01fea247e6",
   "metadata": {},
   "outputs": [],
   "source": [
    "sid.plotting.plot_policy_gantt_chart(policies, effects=True)"
   ]
  }
 ],
 "metadata": {
  "kernelspec": {
   "display_name": "Python 3",
   "language": "python",
   "name": "python3"
  },
  "language_info": {
   "codemirror_mode": {
    "name": "ipython",
    "version": 3
   },
   "file_extension": ".py",
   "mimetype": "text/x-python",
   "name": "python",
   "nbconvert_exporter": "python",
   "pygments_lexer": "ipython3",
   "version": "3.9.2"
  }
 },
 "nbformat": 4,
 "nbformat_minor": 5
}
