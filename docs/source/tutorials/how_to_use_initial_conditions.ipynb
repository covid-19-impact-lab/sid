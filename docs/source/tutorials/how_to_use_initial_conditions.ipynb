{
 "cells": [
  {
   "cell_type": "markdown",
   "metadata": {},
   "source": [
    "# How to use the initial conditions\n",
    "\n",
    "The initial conditions can be used to start a simulation with a more realistic distribution of the course of the disease in the population.\n",
    "\n",
    "The argument ``initial_infections`` of the ``get_simulate_func`` function allows you to indicate individuals who are infected at the start of the simulation. They have randomly drawn courses of the disease, but they all start from the same state, being infected and becoming infectious.\n",
    "\n",
    "In scenarios where many individuals have already been infected and the disease has spread across the population for a longer time, courses of the diseases are more heterogenous. Thus, you should not start a simulation with some kind of \"warm-start\".\n",
    "\n",
    "This is what the initial conditions are for. The ``initial_conditions`` argument of ``get_simulate_func``."
   ]
  },
  {
   "cell_type": "code",
   "execution_count": null,
   "metadata": {},
   "outputs": [],
   "source": []
  }
 ],
 "metadata": {
  "kernelspec": {
   "display_name": "Python 3",
   "language": "python",
   "name": "python3"
  },
  "language_info": {
   "codemirror_mode": {
    "name": "ipython",
    "version": 3
   },
   "file_extension": ".py",
   "mimetype": "text/x-python",
   "name": "python",
   "nbconvert_exporter": "python",
   "pygments_lexer": "ipython3",
   "version": "3.8.6"
  }
 },
 "nbformat": 4,
 "nbformat_minor": 4
}
