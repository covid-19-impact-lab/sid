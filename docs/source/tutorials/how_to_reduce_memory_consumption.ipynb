{
 "cells": [
  {
   "cell_type": "markdown",
   "metadata": {},
   "source": [
    "# How to reduce memory consumption\n",
    "\n",
    "sid allows to simulate and estimate complex epidemiological models which accumulate a lot of data. This notebook lists some approaches to reduce memory consumption."
   ]
  },
  {
   "cell_type": "code",
   "execution_count": 1,
   "metadata": {},
   "outputs": [],
   "source": [
    "import sid"
   ]
  },
  {
   "cell_type": "markdown",
   "metadata": {},
   "source": [
    "## In-memory consumption\n",
    "\n",
    "One step to reduce in-memory consumption which sid does by default is to store each simulated day on disk which can then be loaded with Dask to perform computations which do not fit into the memory.\n",
    "\n",
    "If you are unable to simulate the model even for a day, you must reduce the complexity of the model.\n",
    "\n",
    "- Reduce the number of simulated individuals.\n",
    "- Reduce the number of contact models.\n",
    "\n",
    "\n",
    "## On-disk memory consumption\n",
    "\n",
    "Reducing the amount of memory on disk occupied by sid is far easier than decreasing in-memory demands.\n",
    "\n",
    "sid already uses efficient data types internally and will not store a lot of internal information on disk by default.\n",
    "\n",
    "For more fine-grained control over what is stored on disk, consult the documentation for the function argument ``saved_columns`` of the `get_simulate_func`.\n",
    "\n",
    "### The date information\n",
    "\n",
    "The date is by default stored as a ``np.datetime64`` type and pandas offers many helpful functions to deal with datetimes. For bigger models, the 64-bit type can be costly and, thus, sid allows to switch to a 16-bit period integer.\n",
    "\n",
    "By default, the ``period`` column is dropped and only the ``date`` column is shown. To store the ``period`` column along with the ``date`` column, use the ``saved_colums`` argument of ``sid.get_simulate_func`` with\n",
    "\n",
    "```python\n",
    "saved_columns = {\"time\": [\"date\", \"period\"]}\n",
    "# or\n",
    "saved_columns = {\"time\": True}\n",
    "```\n",
    "\n",
    "or use only the ``period`` column with\n",
    "\n",
    "```python\n",
    "saved_columns = {\"time\": [\"period\"]}\n",
    "```\n",
    "\n",
    "The period is similar to Unix time and enumerates the days since 2019-01-01. Negative values will pick days before the date.\n",
    "\n",
    "Functions to convert timestamps to periods and vice versa can be found in the main name space."
   ]
  },
  {
   "cell_type": "code",
   "execution_count": 2,
   "metadata": {},
   "outputs": [
    {
     "data": {
      "text/plain": [
       "0"
      ]
     },
     "execution_count": 2,
     "metadata": {},
     "output_type": "execute_result"
    }
   ],
   "source": [
    "sid.timestamp_to_sid_period(\"2019-01-01\")"
   ]
  },
  {
   "cell_type": "code",
   "execution_count": 3,
   "metadata": {},
   "outputs": [
    {
     "data": {
      "text/plain": [
       "Timestamp('2019-01-01 00:00:00')"
      ]
     },
     "execution_count": 3,
     "metadata": {},
     "output_type": "execute_result"
    }
   ],
   "source": [
    "sid.sid_period_to_timestamp(0)"
   ]
  }
 ],
 "metadata": {
  "kernelspec": {
   "display_name": "Python 3",
   "language": "python",
   "name": "python3"
  },
  "language_info": {
   "codemirror_mode": {
    "name": "ipython",
    "version": 3
   },
   "file_extension": ".py",
   "mimetype": "text/x-python",
   "name": "python",
   "nbconvert_exporter": "python",
   "pygments_lexer": "ipython3",
   "version": "3.9.5"
  }
 },
 "nbformat": 4,
 "nbformat_minor": 4
}
