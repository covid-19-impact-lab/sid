{
 "cells": [
  {
   "cell_type": "markdown",
   "metadata": {},
   "source": [
    "# How to simulate\n",
    "\n",
    "In this tutorial, we are going to simulate the spread of Covid-19 in a simple, artificial population. \n",
    "\n",
    "First, some imports:"
   ]
  },
  {
   "cell_type": "code",
   "execution_count": 1,
   "metadata": {},
   "outputs": [],
   "source": [
    "%matplotlib inline\n",
    "\n",
    "import matplotlib.pyplot as plt\n",
    "import numpy as np\n",
    "import pandas as pd\n",
    "\n",
    "from sid import simulate\n",
    "\n",
    "index_cols = [\"category\", \"subcategory\", \"name\"]"
   ]
  },
  {
   "cell_type": "markdown",
   "metadata": {},
   "source": [
    "There are four main components to a sid model: \n",
    "\n",
    "- `initial_states`: this is the population in the first period. \n",
    "- `contact_models`: a nested dictionary that specifies how people meet.\n",
    "- `params`: parameters for the progression of the disease and the contact_models.\n",
    "- `initial_infections`: A Series that contains for every individual in the initial_states if it is infected in the first period.\n"
   ]
  },
  {
   "cell_type": "markdown",
   "metadata": {},
   "source": [
    "## Creating the initial states"
   ]
  },
  {
   "cell_type": "markdown",
   "metadata": {},
   "source": [
    "Let's create an artifical population of 10 000 people. \n",
    "Every individual will be characterized by its region and age group.\n",
    "\n",
    "The age group will affect the progression of the disease.\n",
    "Both region and age group will have an influence on who our individuals are going to meet."
   ]
  },
  {
   "cell_type": "code",
   "execution_count": 2,
   "metadata": {},
   "outputs": [
    {
     "data": {
      "text/html": [
       "<div>\n",
       "<style scoped>\n",
       "    .dataframe tbody tr th:only-of-type {\n",
       "        vertical-align: middle;\n",
       "    }\n",
       "\n",
       "    .dataframe tbody tr th {\n",
       "        vertical-align: top;\n",
       "    }\n",
       "\n",
       "    .dataframe thead th {\n",
       "        text-align: right;\n",
       "    }\n",
       "</style>\n",
       "<table border=\"1\" class=\"dataframe\">\n",
       "  <thead>\n",
       "    <tr style=\"text-align: right;\">\n",
       "      <th></th>\n",
       "      <th>age_group</th>\n",
       "      <th>region</th>\n",
       "    </tr>\n",
       "  </thead>\n",
       "  <tbody>\n",
       "    <tr>\n",
       "      <th>0</th>\n",
       "      <td>60 - 69</td>\n",
       "      <td>North</td>\n",
       "    </tr>\n",
       "    <tr>\n",
       "      <th>1</th>\n",
       "      <td>50 - 59</td>\n",
       "      <td>North</td>\n",
       "    </tr>\n",
       "    <tr>\n",
       "      <th>2</th>\n",
       "      <td>50 - 59</td>\n",
       "      <td>South</td>\n",
       "    </tr>\n",
       "    <tr>\n",
       "      <th>3</th>\n",
       "      <td>70 - 79</td>\n",
       "      <td>North</td>\n",
       "    </tr>\n",
       "    <tr>\n",
       "      <th>4</th>\n",
       "      <td>30 - 39</td>\n",
       "      <td>South</td>\n",
       "    </tr>\n",
       "  </tbody>\n",
       "</table>\n",
       "</div>"
      ],
      "text/plain": [
       "  age_group region\n",
       "0   60 - 69  North\n",
       "1   50 - 59  North\n",
       "2   50 - 59  South\n",
       "3   70 - 79  North\n",
       "4   30 - 39  South"
      ]
     },
     "execution_count": 2,
     "metadata": {},
     "output_type": "execute_result"
    }
   ],
   "source": [
    "available_ages = [\n",
    "        \"0 - 9\",\n",
    "        \"10 - 19\",\n",
    "        \"20 - 29\",\n",
    "        \"30 - 39\",\n",
    "        \"40 - 49\",\n",
    "        \"50 - 59\",\n",
    "        \"60 - 69\",\n",
    "        \"70 - 79\",\n",
    "        \"80 - 100\",\n",
    "    ]\n",
    "\n",
    "ages = np.random.choice(available_ages, size=10_000)\n",
    "regions = np.random.choice([\"North\", \"South\"], size=10_000)\n",
    "\n",
    "initial_states = pd.DataFrame({\"age_group\": ages, \"region\": regions})\n",
    "initial_states = initial_states.astype(\"category\")\n",
    "\n",
    "initial_states.head(5)"
   ]
  },
  {
   "cell_type": "markdown",
   "metadata": {},
   "source": [
    "## Specifying the Contact Models"
   ]
  },
  {
   "cell_type": "markdown",
   "metadata": {},
   "source": [
    "Next, let's define how many contacts people have every day. \n",
    "We assume people have two types of contacts, close and distant contacts. They also have fewer close than distant contacts."
   ]
  },
  {
   "cell_type": "code",
   "execution_count": 3,
   "metadata": {},
   "outputs": [],
   "source": [
    "def meet_distant(states, params):\n",
    "    possible_nr_contacts = np.arange(10)\n",
    "    contacts = np.random.choice(possible_nr_contacts, size=len(states))\n",
    "    return pd.Series(contacts, index=states.index)\n",
    "\n",
    "\n",
    "def meet_close(states, params):\n",
    "    possible_nr_contacts = np.arange(5)\n",
    "    contacts = np.random.choice(possible_nr_contacts, size=len(states))\n",
    "    return pd.Series(contacts, index=states.index)\n",
    "\n",
    "\n",
    "assort_by = [\"age_group\", \"region\"]\n",
    "\n",
    "contact_models = {\n",
    "    \"distant\": {\"model\": meet_distant, \"assort_by\": assort_by, \"is_recurrent\": False},\n",
    "    \"close\": {\"model\": meet_close, \"assort_by\": assort_by, \"is_recurrent\": False},\n",
    "}"
   ]
  },
  {
   "cell_type": "markdown",
   "metadata": {},
   "source": [
    "## Specifying the model parameters"
   ]
  },
  {
   "cell_type": "markdown",
   "metadata": {},
   "source": [
    "sid allows to estimate one infection probability per contact type. \n",
    "In this example, close contacts are more infectious than distant contacts with 5% versus 3%. "
   ]
  },
  {
   "cell_type": "code",
   "execution_count": 4,
   "metadata": {},
   "outputs": [
    {
     "data": {
      "text/html": [
       "<div>\n",
       "<style scoped>\n",
       "    .dataframe tbody tr th:only-of-type {\n",
       "        vertical-align: middle;\n",
       "    }\n",
       "\n",
       "    .dataframe tbody tr th {\n",
       "        vertical-align: top;\n",
       "    }\n",
       "\n",
       "    .dataframe thead th {\n",
       "        text-align: right;\n",
       "    }\n",
       "</style>\n",
       "<table border=\"1\" class=\"dataframe\">\n",
       "  <thead>\n",
       "    <tr style=\"text-align: right;\">\n",
       "      <th></th>\n",
       "      <th></th>\n",
       "      <th></th>\n",
       "      <th>value</th>\n",
       "      <th>note</th>\n",
       "      <th>source</th>\n",
       "    </tr>\n",
       "    <tr>\n",
       "      <th>category</th>\n",
       "      <th>subcategory</th>\n",
       "      <th>name</th>\n",
       "      <th></th>\n",
       "      <th></th>\n",
       "      <th></th>\n",
       "    </tr>\n",
       "  </thead>\n",
       "  <tbody>\n",
       "    <tr>\n",
       "      <th rowspan=\"2\" valign=\"top\">infection_prob</th>\n",
       "      <th>close</th>\n",
       "      <th>NaN</th>\n",
       "      <td>0.05</td>\n",
       "      <td>NaN</td>\n",
       "      <td>NaN</td>\n",
       "    </tr>\n",
       "    <tr>\n",
       "      <th>distant</th>\n",
       "      <th>NaN</th>\n",
       "      <td>0.03</td>\n",
       "      <td>NaN</td>\n",
       "      <td>NaN</td>\n",
       "    </tr>\n",
       "  </tbody>\n",
       "</table>\n",
       "</div>"
      ],
      "text/plain": [
       "                                 value  note  source\n",
       "category       subcategory name                     \n",
       "infection_prob close       NaN    0.05   NaN     NaN\n",
       "               distant     NaN    0.03   NaN     NaN"
      ]
     },
     "execution_count": 4,
     "metadata": {},
     "output_type": "execute_result"
    }
   ],
   "source": [
    "inf_params = pd.read_csv(\"infection_probs.csv\", index_col=index_cols)\n",
    "inf_params"
   ]
  },
  {
   "cell_type": "markdown",
   "metadata": {},
   "source": [
    "Similarily, we specify for each contact model how assortatively\n",
    "people meet across their respective `assort_by` keys. \n",
    "\n",
    "We assume that 90% of contacts are with people from the same region and 50% with contacts of the same age group as oneself for both \"meet_close\" and \"meet_distant\". \n",
    "The rest of the probability mass is split evenly between the other regions and age groups."
   ]
  },
  {
   "cell_type": "code",
   "execution_count": 5,
   "metadata": {},
   "outputs": [
    {
     "data": {
      "text/html": [
       "<div>\n",
       "<style scoped>\n",
       "    .dataframe tbody tr th:only-of-type {\n",
       "        vertical-align: middle;\n",
       "    }\n",
       "\n",
       "    .dataframe tbody tr th {\n",
       "        vertical-align: top;\n",
       "    }\n",
       "\n",
       "    .dataframe thead th {\n",
       "        text-align: right;\n",
       "    }\n",
       "</style>\n",
       "<table border=\"1\" class=\"dataframe\">\n",
       "  <thead>\n",
       "    <tr style=\"text-align: right;\">\n",
       "      <th></th>\n",
       "      <th></th>\n",
       "      <th></th>\n",
       "      <th>value</th>\n",
       "      <th>note</th>\n",
       "      <th>source</th>\n",
       "    </tr>\n",
       "    <tr>\n",
       "      <th>category</th>\n",
       "      <th>subcategory</th>\n",
       "      <th>name</th>\n",
       "      <th></th>\n",
       "      <th></th>\n",
       "      <th></th>\n",
       "    </tr>\n",
       "  </thead>\n",
       "  <tbody>\n",
       "    <tr>\n",
       "      <th rowspan=\"4\" valign=\"top\">assortative_matching</th>\n",
       "      <th rowspan=\"2\" valign=\"top\">close</th>\n",
       "      <th>age_group</th>\n",
       "      <td>0.5</td>\n",
       "      <td>NaN</td>\n",
       "      <td>NaN</td>\n",
       "    </tr>\n",
       "    <tr>\n",
       "      <th>region</th>\n",
       "      <td>0.9</td>\n",
       "      <td>NaN</td>\n",
       "      <td>NaN</td>\n",
       "    </tr>\n",
       "    <tr>\n",
       "      <th rowspan=\"2\" valign=\"top\">distant</th>\n",
       "      <th>age_group</th>\n",
       "      <td>0.5</td>\n",
       "      <td>NaN</td>\n",
       "      <td>NaN</td>\n",
       "    </tr>\n",
       "    <tr>\n",
       "      <th>region</th>\n",
       "      <td>0.9</td>\n",
       "      <td>NaN</td>\n",
       "      <td>NaN</td>\n",
       "    </tr>\n",
       "  </tbody>\n",
       "</table>\n",
       "</div>"
      ],
      "text/plain": [
       "                                            value  note  source\n",
       "category             subcategory name                          \n",
       "assortative_matching close       age_group    0.5   NaN     NaN\n",
       "                                 region       0.9   NaN     NaN\n",
       "                     distant     age_group    0.5   NaN     NaN\n",
       "                                 region       0.9   NaN     NaN"
      ]
     },
     "execution_count": 5,
     "metadata": {},
     "output_type": "execute_result"
    }
   ],
   "source": [
    "assort_probs = pd.read_csv(\"assort_by_params.csv\", index_col=index_cols)\n",
    "assort_probs"
   ]
  },
  {
   "cell_type": "markdown",
   "metadata": {},
   "source": [
    "Lastly, we load some parameters that specify how Covid-19 progresses. This includes asymptomatic cases and covers that sever cases are more common among the elderly.\n",
    "\n",
    "`cd_` stands for countdown. When a countdown is -1 the event never happens. So for example, 25% of infected people will never develop symptoms and the rest will develop symptoms 3 days after they start being infectious. "
   ]
  },
  {
   "cell_type": "code",
   "execution_count": 6,
   "metadata": {
    "scrolled": false
   },
   "outputs": [
    {
     "data": {
      "text/html": [
       "<div>\n",
       "<style scoped>\n",
       "    .dataframe tbody tr th:only-of-type {\n",
       "        vertical-align: middle;\n",
       "    }\n",
       "\n",
       "    .dataframe tbody tr th {\n",
       "        vertical-align: top;\n",
       "    }\n",
       "\n",
       "    .dataframe thead th {\n",
       "        text-align: right;\n",
       "    }\n",
       "</style>\n",
       "<table border=\"1\" class=\"dataframe\">\n",
       "  <thead>\n",
       "    <tr style=\"text-align: right;\">\n",
       "      <th></th>\n",
       "      <th></th>\n",
       "      <th></th>\n",
       "      <th>value</th>\n",
       "      <th>note</th>\n",
       "      <th>source</th>\n",
       "    </tr>\n",
       "    <tr>\n",
       "      <th>category</th>\n",
       "      <th>subcategory</th>\n",
       "      <th>name</th>\n",
       "      <th></th>\n",
       "      <th></th>\n",
       "      <th></th>\n",
       "    </tr>\n",
       "  </thead>\n",
       "  <tbody>\n",
       "    <tr>\n",
       "      <th>health_system</th>\n",
       "      <th>icu_limit_relative</th>\n",
       "      <th>NaN</th>\n",
       "      <td>0.00</td>\n",
       "      <td>Number of ICU beds relative to population size</td>\n",
       "      <td>https://www.dkgev.de/dkg/coronavirus-fakten-un...</td>\n",
       "    </tr>\n",
       "    <tr>\n",
       "      <th>cd_infectious_true</th>\n",
       "      <th>all</th>\n",
       "      <th>3.0</th>\n",
       "      <td>1.00</td>\n",
       "      <td>NaN</td>\n",
       "      <td>https://www.rki.de/DE/Content/InfAZ/N/Neuartig...</td>\n",
       "    </tr>\n",
       "    <tr>\n",
       "      <th>cd_infectious_false</th>\n",
       "      <th>all</th>\n",
       "      <th>8.0</th>\n",
       "      <td>1.00</td>\n",
       "      <td>This is infectiousness of people who do not ge...</td>\n",
       "      <td>https://www.rki.de/DE/Content/InfAZ/N/Neuartig...</td>\n",
       "    </tr>\n",
       "    <tr>\n",
       "      <th>cd_immune_false</th>\n",
       "      <th>all</th>\n",
       "      <th>365.0</th>\n",
       "      <td>1.00</td>\n",
       "      <td>This is just a guess</td>\n",
       "      <td>https://www.rki.de/DE/Content/InfAZ/N/Neuartig...</td>\n",
       "    </tr>\n",
       "    <tr>\n",
       "      <th rowspan=\"2\" valign=\"top\">cd_symptoms_true</th>\n",
       "      <th rowspan=\"2\" valign=\"top\">all</th>\n",
       "      <th>-1.0</th>\n",
       "      <td>0.25</td>\n",
       "      <td>these are asymptomatic cases</td>\n",
       "      <td>https://www.rki.de/DE/Content/InfAZ/N/Neuartig...</td>\n",
       "    </tr>\n",
       "    <tr>\n",
       "      <th>3.0</th>\n",
       "      <td>0.75</td>\n",
       "      <td>After infectiousness starts. I.e. 6 days after...</td>\n",
       "      <td>https://www.rki.de/DE/Content/InfAZ/N/Neuartig...</td>\n",
       "    </tr>\n",
       "  </tbody>\n",
       "</table>\n",
       "</div>"
      ],
      "text/plain": [
       "                                               value  \\\n",
       "category            subcategory        name            \n",
       "health_system       icu_limit_relative NaN      0.00   \n",
       "cd_infectious_true  all                 3.0     1.00   \n",
       "cd_infectious_false all                 8.0     1.00   \n",
       "cd_immune_false     all                 365.0   1.00   \n",
       "cd_symptoms_true    all                -1.0     0.25   \n",
       "                                        3.0     0.75   \n",
       "\n",
       "                                                                                            note  \\\n",
       "category            subcategory        name                                                        \n",
       "health_system       icu_limit_relative NaN        Number of ICU beds relative to population size   \n",
       "cd_infectious_true  all                 3.0                                                  NaN   \n",
       "cd_infectious_false all                 8.0    This is infectiousness of people who do not ge...   \n",
       "cd_immune_false     all                 365.0                               This is just a guess   \n",
       "cd_symptoms_true    all                -1.0                         these are asymptomatic cases   \n",
       "                                        3.0    After infectiousness starts. I.e. 6 days after...   \n",
       "\n",
       "                                                                                          source  \n",
       "category            subcategory        name                                                       \n",
       "health_system       icu_limit_relative NaN     https://www.dkgev.de/dkg/coronavirus-fakten-un...  \n",
       "cd_infectious_true  all                 3.0    https://www.rki.de/DE/Content/InfAZ/N/Neuartig...  \n",
       "cd_infectious_false all                 8.0    https://www.rki.de/DE/Content/InfAZ/N/Neuartig...  \n",
       "cd_immune_false     all                 365.0  https://www.rki.de/DE/Content/InfAZ/N/Neuartig...  \n",
       "cd_symptoms_true    all                -1.0    https://www.rki.de/DE/Content/InfAZ/N/Neuartig...  \n",
       "                                        3.0    https://www.rki.de/DE/Content/InfAZ/N/Neuartig...  "
      ]
     },
     "execution_count": 6,
     "metadata": {},
     "output_type": "execute_result"
    }
   ],
   "source": [
    "disease_params = pd.read_csv(\"../../../sid/params.csv\", index_col=index_cols)\n",
    "disease_params.head(6).round(2)"
   ]
  },
  {
   "cell_type": "code",
   "execution_count": 7,
   "metadata": {},
   "outputs": [],
   "source": [
    "params = pd.concat([disease_params, inf_params, assort_probs])"
   ]
  },
  {
   "cell_type": "markdown",
   "metadata": {},
   "source": [
    "## Contact Policies"
   ]
  },
  {
   "cell_type": "markdown",
   "metadata": {},
   "source": [
    "We also allow the government to react to the rising number of infections by enforcing a\n",
    "mild curfew which halves the contacts of all individuals if 10% of all individuals are\n",
    "infectious.\n",
    "\n",
    "You could also implement policies inside the contact models. This allows you more flexibility. For example, we could implement that sick individuals stay home, that vulnerable people react with stricter social distancing or implement the [locally adaptive lockdown policy in Germany](https://www.dw.com/en/merkel-cautiously-optimistic-as-she-announces-lockdown-rollback/a-53346427)."
   ]
  },
  {
   "cell_type": "code",
   "execution_count": 8,
   "metadata": {},
   "outputs": [],
   "source": [
    "def contact_policy_is_active(states):\n",
    "    return states[\"infectious\"].mean() > 0.1\n",
    "\n",
    "\n",
    "contact_policies = {\n",
    "    \"close\": {\n",
    "        \"start\": \"2020-03-12\",\n",
    "        \"multiplier\": 0.5,\n",
    "        \"is_active\": contact_policy_is_active,\n",
    "    },\n",
    "    \"distant\": {\n",
    "        \"start\": \"2020-03-12\",\n",
    "        \"multiplier\": 0.5,\n",
    "        \"is_active\": contact_policy_is_active,\n",
    "    },\n",
    "}"
   ]
  },
  {
   "cell_type": "markdown",
   "metadata": {},
   "source": [
    "Finally, there must be some initial infections in our population."
   ]
  },
  {
   "cell_type": "code",
   "execution_count": 9,
   "metadata": {},
   "outputs": [],
   "source": [
    "initial_infections = pd.Series(data=False, index=initial_states.index)\n",
    "\n",
    "infected_individuals = initial_infections.sample(100, random_state=0).index\n",
    "initial_infections.loc[infected_individuals] = True"
   ]
  },
  {
   "cell_type": "markdown",
   "metadata": {},
   "source": [
    "## Run the simulation"
   ]
  },
  {
   "cell_type": "markdown",
   "metadata": {},
   "source": [
    "We are going to simulate this population for 200 periods."
   ]
  },
  {
   "cell_type": "code",
   "execution_count": 10,
   "metadata": {},
   "outputs": [
    {
     "data": {
      "text/html": [
       "<div>\n",
       "<style scoped>\n",
       "    .dataframe tbody tr th:only-of-type {\n",
       "        vertical-align: middle;\n",
       "    }\n",
       "\n",
       "    .dataframe tbody tr th {\n",
       "        vertical-align: top;\n",
       "    }\n",
       "\n",
       "    .dataframe thead th {\n",
       "        text-align: right;\n",
       "    }\n",
       "</style>\n",
       "<table border=\"1\" class=\"dataframe\">\n",
       "  <thead>\n",
       "    <tr style=\"text-align: right;\">\n",
       "      <th></th>\n",
       "      <th>index</th>\n",
       "      <th>age_group</th>\n",
       "      <th>region</th>\n",
       "      <th>ever_infected</th>\n",
       "      <th>immune</th>\n",
       "      <th>infectious</th>\n",
       "      <th>knows</th>\n",
       "      <th>symptomatic</th>\n",
       "      <th>needs_icu</th>\n",
       "      <th>dead</th>\n",
       "      <th>cd_infectious_false</th>\n",
       "      <th>n_has_infected</th>\n",
       "      <th>date</th>\n",
       "      <th>period</th>\n",
       "      <th>missed_close</th>\n",
       "      <th>missed_distant</th>\n",
       "      <th>n_contacts_close</th>\n",
       "      <th>n_contacts_distant</th>\n",
       "      <th>newly_infected</th>\n",
       "    </tr>\n",
       "  </thead>\n",
       "  <tbody>\n",
       "    <tr>\n",
       "      <th>0</th>\n",
       "      <td>0</td>\n",
       "      <td>60 - 69</td>\n",
       "      <td>North</td>\n",
       "      <td>False</td>\n",
       "      <td>False</td>\n",
       "      <td>False</td>\n",
       "      <td>False</td>\n",
       "      <td>False</td>\n",
       "      <td>False</td>\n",
       "      <td>False</td>\n",
       "      <td>-3</td>\n",
       "      <td>0</td>\n",
       "      <td>2020-02-27</td>\n",
       "      <td>0</td>\n",
       "      <td>0</td>\n",
       "      <td>0</td>\n",
       "      <td>0</td>\n",
       "      <td>0</td>\n",
       "      <td>False</td>\n",
       "    </tr>\n",
       "    <tr>\n",
       "      <th>1</th>\n",
       "      <td>1</td>\n",
       "      <td>50 - 59</td>\n",
       "      <td>North</td>\n",
       "      <td>False</td>\n",
       "      <td>False</td>\n",
       "      <td>False</td>\n",
       "      <td>False</td>\n",
       "      <td>False</td>\n",
       "      <td>False</td>\n",
       "      <td>False</td>\n",
       "      <td>-3</td>\n",
       "      <td>0</td>\n",
       "      <td>2020-02-27</td>\n",
       "      <td>0</td>\n",
       "      <td>0</td>\n",
       "      <td>0</td>\n",
       "      <td>0</td>\n",
       "      <td>0</td>\n",
       "      <td>False</td>\n",
       "    </tr>\n",
       "    <tr>\n",
       "      <th>2</th>\n",
       "      <td>2</td>\n",
       "      <td>50 - 59</td>\n",
       "      <td>South</td>\n",
       "      <td>False</td>\n",
       "      <td>False</td>\n",
       "      <td>False</td>\n",
       "      <td>False</td>\n",
       "      <td>False</td>\n",
       "      <td>False</td>\n",
       "      <td>False</td>\n",
       "      <td>-3</td>\n",
       "      <td>0</td>\n",
       "      <td>2020-02-27</td>\n",
       "      <td>0</td>\n",
       "      <td>0</td>\n",
       "      <td>0</td>\n",
       "      <td>0</td>\n",
       "      <td>0</td>\n",
       "      <td>False</td>\n",
       "    </tr>\n",
       "    <tr>\n",
       "      <th>3</th>\n",
       "      <td>3</td>\n",
       "      <td>70 - 79</td>\n",
       "      <td>North</td>\n",
       "      <td>False</td>\n",
       "      <td>False</td>\n",
       "      <td>False</td>\n",
       "      <td>False</td>\n",
       "      <td>False</td>\n",
       "      <td>False</td>\n",
       "      <td>False</td>\n",
       "      <td>-3</td>\n",
       "      <td>0</td>\n",
       "      <td>2020-02-27</td>\n",
       "      <td>0</td>\n",
       "      <td>0</td>\n",
       "      <td>0</td>\n",
       "      <td>0</td>\n",
       "      <td>0</td>\n",
       "      <td>False</td>\n",
       "    </tr>\n",
       "    <tr>\n",
       "      <th>4</th>\n",
       "      <td>4</td>\n",
       "      <td>30 - 39</td>\n",
       "      <td>South</td>\n",
       "      <td>False</td>\n",
       "      <td>False</td>\n",
       "      <td>False</td>\n",
       "      <td>False</td>\n",
       "      <td>False</td>\n",
       "      <td>False</td>\n",
       "      <td>False</td>\n",
       "      <td>-3</td>\n",
       "      <td>0</td>\n",
       "      <td>2020-02-27</td>\n",
       "      <td>0</td>\n",
       "      <td>0</td>\n",
       "      <td>0</td>\n",
       "      <td>0</td>\n",
       "      <td>0</td>\n",
       "      <td>False</td>\n",
       "    </tr>\n",
       "  </tbody>\n",
       "</table>\n",
       "</div>"
      ],
      "text/plain": [
       "   index age_group region  ever_infected  immune  infectious  knows  \\\n",
       "0      0   60 - 69  North          False   False       False  False   \n",
       "1      1   50 - 59  North          False   False       False  False   \n",
       "2      2   50 - 59  South          False   False       False  False   \n",
       "3      3   70 - 79  North          False   False       False  False   \n",
       "4      4   30 - 39  South          False   False       False  False   \n",
       "\n",
       "   symptomatic  needs_icu   dead  cd_infectious_false  n_has_infected  \\\n",
       "0        False      False  False                   -3               0   \n",
       "1        False      False  False                   -3               0   \n",
       "2        False      False  False                   -3               0   \n",
       "3        False      False  False                   -3               0   \n",
       "4        False      False  False                   -3               0   \n",
       "\n",
       "        date  period  missed_close  missed_distant  n_contacts_close  \\\n",
       "0 2020-02-27       0             0               0                 0   \n",
       "1 2020-02-27       0             0               0                 0   \n",
       "2 2020-02-27       0             0               0                 0   \n",
       "3 2020-02-27       0             0               0                 0   \n",
       "4 2020-02-27       0             0               0                 0   \n",
       "\n",
       "   n_contacts_distant  newly_infected  \n",
       "0                   0           False  \n",
       "1                   0           False  \n",
       "2                   0           False  \n",
       "3                   0           False  \n",
       "4                   0           False  "
      ]
     },
     "execution_count": 10,
     "metadata": {},
     "output_type": "execute_result"
    }
   ],
   "source": [
    "df = simulate(\n",
    "    initial_states=initial_states,\n",
    "    contact_models=contact_models,\n",
    "    params=params,\n",
    "    contact_policies=contact_policies,\n",
    "    initial_infections=initial_infections,\n",
    "    duration={\"start\": \"2020-02-27\", \"periods\": 200},\n",
    "    seed=0,\n",
    ")\n",
    "df.head(5)"
   ]
  },
  {
   "cell_type": "markdown",
   "metadata": {},
   "source": [
    "The return of `simulate` is a [Dask DataFrame](https://docs.dask.org/en/latest/dataframe.html) which lazily loads the data. If your data fits your working memory, do the following to convert it to a pandas DataFrame."
   ]
  },
  {
   "cell_type": "code",
   "execution_count": 11,
   "metadata": {},
   "outputs": [],
   "source": [
    "df = df.compute()"
   ]
  },
  {
   "cell_type": "markdown",
   "metadata": {},
   "source": [
    "Let us take a look at various statistics of the sample."
   ]
  },
  {
   "cell_type": "code",
   "execution_count": 12,
   "metadata": {},
   "outputs": [
    {
     "data": {
      "image/png": "[encoded data removed]",
      "text/plain": [
       "<Figure size 864x576 with 4 Axes>"
      ]
     },
     "metadata": {
      "needs_background": "light"
     },
     "output_type": "display_data"
    }
   ],
   "source": [
    "fig, axs = plt.subplots(2, 2, figsize=(12, 8))\n",
    "fig.subplots_adjust(bottom=0.15, wspace=0.2, hspace=0.4)\n",
    "\n",
    "axs = axs.flatten()\n",
    "\n",
    "df.resample(\"W\", on=\"date\")[\"ever_infected\"].mean().plot(ax=axs[0], color=\"#5c7f8e\")\n",
    "df.resample(\"W\", on=\"date\")[\"infectious\"].mean().plot(ax=axs[1], color=\"#5c7f8e\")\n",
    "df.resample(\"W\", on=\"date\")[\"dead\"].sum().cumsum().plot(ax=axs[2], color=\"#5c7f8e\")\n",
    "infectious_last_seven_days = df.cd_infectious_false.between(-7, 0)\n",
    "df.loc[infectious_last_seven_days].resample(\"D\", on=\"date\")[\n",
    "    \"n_has_infected\"\n",
    "].mean().plot(ax=axs[3], color=\"#5c7f8e\")\n",
    "\n",
    "for ax in axs:\n",
    "    ax.set_xlabel(\"\")\n",
    "    ax.spines['right'].set_visible(False)\n",
    "    ax.spines['top'].set_visible(False)\n",
    "\n",
    "axs[0].set_title(\"Share of Infected People\")\n",
    "axs[1].set_title(\"Share of Infectious People in the Population\")\n",
    "axs[2].set_title(\"Total Number of Deaths\")\n",
    "axs[3].set_title(\"$R_t$ (Effective Reproduction Number)\")\n",
    "\n",
    "plt\n",
    "plt.show()"
   ]
  }
 ],
 "metadata": {
  "kernelspec": {
   "display_name": "Python 3",
   "language": "python",
   "name": "python3"
  },
  "language_info": {
   "codemirror_mode": {
    "name": "ipython",
    "version": 3
   },
   "file_extension": ".py",
   "mimetype": "text/x-python",
   "name": "python",
   "nbconvert_exporter": "python",
   "pygments_lexer": "ipython3",
   "version": "3.7.6"
  }
 },
 "nbformat": 4,
 "nbformat_minor": 4
}
