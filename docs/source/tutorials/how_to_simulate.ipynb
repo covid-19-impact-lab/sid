{
 "cells": [
  {
   "cell_type": "markdown",
   "metadata": {},
   "source": [
    "# How to simulate\n",
    "\n",
    "This tutorial helps you to get started with sid by building a simple model. First, it focuses on the core objects which are needed for simulation. Then, the spread of the disease in the artificial population is simulated.\n",
    "\n",
    "Are we all set? Let's go!"
   ]
  },
  {
   "cell_type": "code",
   "execution_count": 1,
   "metadata": {},
   "outputs": [],
   "source": [
    "%matplotlib inline\n",
    "\n",
    "import warnings\n",
    "\n",
    "import matplotlib.pyplot as plt\n",
    "import numpy as np\n",
    "import pandas as pd\n",
    "\n",
    "import sid\n",
    "from sid.config import INDEX_NAMES\n",
    "\n",
    "warnings.filterwarnings(\n",
    "    \"ignore\", message=\"indexing past lexsort depth may impact performance.\"\n",
    ")\n",
    "np.random.seed(0)"
   ]
  },
  {
   "cell_type": "markdown",
   "metadata": {},
   "source": [
    "## The core objects\n",
    "\n",
    "This section explains the core objects necessary to run a simulation with sid.\n",
    "\n",
    "\n",
    "### The `initial_states`\n",
    "\n",
    "Since sid is an agent-based simulator, it needs information on agents or individuals in the model. This information is captured in the `initial_states`. The `initial_states` are a `pandas.DataFrame` where rows represent individuals and columns are characteristics, for example, age, geographic information, etc..\n",
    "\n",
    "In this context, a state is a single row in the data frame representing an individual at a certain point in time. The characteristics contain all the information needed for the individual to make decisions such as going to work, demanding a test, or for policies to target the individual.\n",
    "\n",
    "The following states include information on the age of individuals who fall into different age brackets. The age brackets are necessary for some stochastic processes in the model. For example, the probability of staying asymptomatic after an infection is age-dependent since elderly are more likely to experience strong symptoms.\n",
    "\n",
    "The states also include very broad geographic information of the individuals which only there to speed up simulation."
   ]
  },
  {
   "cell_type": "raw",
   "metadata": {
    "raw_mimetype": "text/restructuredtext",
    "tags": []
   },
   "source": [
    ".. note::\n",
    "\n",
    "    To give a little bit of background information on the matching algorithm: Later, the tutorial will allow for meetings between two randomly selected people in the model. Instead of searching for a contact partner among all people, it is easier to, first, sample a subset where the partner is in, such as a geographic cluster, and, after that, sample the specific individual.\n",
    "    \n",
    "    Once there is an detailed information on the matching algorithm, it will be referenced here. Until then, please consult the API documentation on :func:`~sid.contacts.calculate_infections_by_contacts` and related functions."
   ]
  },
  {
   "cell_type": "markdown",
   "metadata": {},
   "source": [
    "We start with 10,000 individuals. Note that all characteristics are converted to categoricals which ensures that values are self-explanatory and save memory."
   ]
  },
  {
   "cell_type": "code",
   "execution_count": 2,
   "metadata": {},
   "outputs": [
    {
     "data": {
      "text/html": [
       "<div>\n",
       "<style scoped>\n",
       "    .dataframe tbody tr th:only-of-type {\n",
       "        vertical-align: middle;\n",
       "    }\n",
       "\n",
       "    .dataframe tbody tr th {\n",
       "        vertical-align: top;\n",
       "    }\n",
       "\n",
       "    .dataframe thead th {\n",
       "        text-align: right;\n",
       "    }\n",
       "</style>\n",
       "<table border=\"1\" class=\"dataframe\">\n",
       "  <thead>\n",
       "    <tr style=\"text-align: right;\">\n",
       "      <th></th>\n",
       "      <th>age_group</th>\n",
       "      <th>region</th>\n",
       "    </tr>\n",
       "  </thead>\n",
       "  <tbody>\n",
       "    <tr>\n",
       "      <th>0</th>\n",
       "      <td>50-59</td>\n",
       "      <td>South</td>\n",
       "    </tr>\n",
       "    <tr>\n",
       "      <th>1</th>\n",
       "      <td>0-9</td>\n",
       "      <td>West</td>\n",
       "    </tr>\n",
       "    <tr>\n",
       "      <th>2</th>\n",
       "      <td>30-39</td>\n",
       "      <td>West</td>\n",
       "    </tr>\n",
       "    <tr>\n",
       "      <th>3</th>\n",
       "      <td>30-39</td>\n",
       "      <td>North</td>\n",
       "    </tr>\n",
       "    <tr>\n",
       "      <th>4</th>\n",
       "      <td>70-79</td>\n",
       "      <td>East</td>\n",
       "    </tr>\n",
       "  </tbody>\n",
       "</table>\n",
       "</div>"
      ],
      "text/plain": [
       "  age_group region\n",
       "0     50-59  South\n",
       "1       0-9   West\n",
       "2     30-39   West\n",
       "3     30-39  North\n",
       "4     70-79   East"
      ]
     },
     "execution_count": 2,
     "metadata": {},
     "output_type": "execute_result"
    }
   ],
   "source": [
    "n_individuals = 10_000\n",
    "available_ages = [\n",
    "    \"0-9\",\n",
    "    \"10-19\",\n",
    "    \"20-29\",\n",
    "    \"30-39\",\n",
    "    \"40-49\",\n",
    "    \"50-59\",\n",
    "    \"60-69\",\n",
    "    \"70-79\",\n",
    "    \"80-100\",\n",
    "]\n",
    "\n",
    "ages = np.random.choice(available_ages, size=n_individuals)\n",
    "regions = np.random.choice([\"North\", \"East\", \"South\", \"West\"], size=n_individuals)\n",
    "\n",
    "initial_states = pd.DataFrame({\"age_group\": ages, \"region\": regions}).astype(\"category\")\n",
    "initial_states.head(5)"
   ]
  },
  {
   "cell_type": "raw",
   "metadata": {
    "raw_mimetype": "text/restructuredtext",
    "tags": []
   },
   "source": [
    ".. seealso::\n",
    "\n",
    "    You can read more about the ``states`` in the :doc:`reference guides <../reference_guides/states>`."
   ]
  },
  {
   "cell_type": "markdown",
   "metadata": {},
   "source": [
    "### The `contact_models`\n",
    "\n",
    "The contact models are key to how contacts between individuals can be modeled with sid. There are two types of contact models, random and recurrent models:\n",
    "\n",
    "- Recurrent contact models are used when people belong to a certain group and if they meet this group, they meet all participating members. You would use recurrent models to model school classes, households, and colleagues/work groups.\n",
    "\n",
    "- Random contact models are used when people do not always meet the same predefined groups, but contacts happen more randomly. Usually, people are more likely to meet a person from their own group, but there is also a lower probability of meeting someone from another group. Groups can be formed by combining any number of characteristics. If we would use age groups, we would say contacts are assortative by age. Each person also has a budget for the number of people she can meet. You would use random contact models, for example, to model meetings during freetime activities, infrequent contacts at work, or acquaintances.\n",
    "\n",
    "In the following, we define a random contact model which lets each individual in the population meet 0-9 other people each day. The contacts are assortative by age and region since we want to make contacts more likely within the same regions and in the same age groups."
   ]
  },
  {
   "cell_type": "code",
   "execution_count": 3,
   "metadata": {},
   "outputs": [],
   "source": [
    "def meet_people(states, params, seed):\n",
    "    np.random.seed(seed)\n",
    "    contacts = np.random.choice(np.arange(10), size=len(states))\n",
    "    return pd.Series(contacts, index=states.index)"
   ]
  },
  {
   "cell_type": "code",
   "execution_count": 4,
   "metadata": {},
   "outputs": [],
   "source": [
    "contact_models = {\n",
    "    \"meet_people\": {\n",
    "        \"model\": meet_people,\n",
    "        \"assort_by\": [\"age_group\", \"region\"],\n",
    "        \"is_recurrent\": False,\n",
    "    }\n",
    "}"
   ]
  },
  {
   "cell_type": "markdown",
   "metadata": {},
   "source": [
    "Contact models are stored as a dictionary. Our contact model is called ``\"meet_people\"`` and we define it in another dictionary. The dictionary has the following components.\n",
    "\n",
    "- ``\"model\"`` holds the function which maps individual characteristics with parameters to a number of contacts which can be an integer or a float -- internally the number of contacts is rounded over the whole population while preserving the sum of contacts.\n",
    "- ``\"assort_by\"`` specifies the variables by which people are more likely to meet each other.\n",
    "- ``\"is_recurrent\"`` is an indicator for a whether the models represents recurrent or random contacts."
   ]
  },
  {
   "cell_type": "raw",
   "metadata": {
    "raw_mimetype": "text/restructuredtext",
    "tags": []
   },
   "source": [
    ".. seealso::\n",
    "\n",
    "    You can read more about ``contact_models`` in the :doc:`references guides <../reference_guides/contact_models>`."
   ]
  },
  {
   "cell_type": "markdown",
   "metadata": {},
   "source": [
    "### The `params`\n",
    "\n",
    "The parameters are a ``pandas.DataFrame`` and include medical and other relevant information. sid offers a prepared database which can be loaded and easily adjusted. The following code can be used for loading."
   ]
  },
  {
   "cell_type": "code",
   "execution_count": 5,
   "metadata": {},
   "outputs": [
    {
     "data": {
      "text/html": [
       "<div>\n",
       "<style scoped>\n",
       "    .dataframe tbody tr th:only-of-type {\n",
       "        vertical-align: middle;\n",
       "    }\n",
       "\n",
       "    .dataframe tbody tr th {\n",
       "        vertical-align: top;\n",
       "    }\n",
       "\n",
       "    .dataframe thead th {\n",
       "        text-align: right;\n",
       "    }\n",
       "</style>\n",
       "<table border=\"1\" class=\"dataframe\">\n",
       "  <thead>\n",
       "    <tr style=\"text-align: right;\">\n",
       "      <th></th>\n",
       "      <th></th>\n",
       "      <th></th>\n",
       "      <th>value</th>\n",
       "    </tr>\n",
       "    <tr>\n",
       "      <th>category</th>\n",
       "      <th>subcategory</th>\n",
       "      <th>name</th>\n",
       "      <th></th>\n",
       "    </tr>\n",
       "  </thead>\n",
       "  <tbody>\n",
       "    <tr>\n",
       "      <th>health_system</th>\n",
       "      <th>icu_limit_relative</th>\n",
       "      <th>icu_limit_relative</th>\n",
       "      <td>50.00</td>\n",
       "    </tr>\n",
       "    <tr>\n",
       "      <th>cd_immune_false</th>\n",
       "      <th>all</th>\n",
       "      <th>365</th>\n",
       "      <td>1.00</td>\n",
       "    </tr>\n",
       "    <tr>\n",
       "      <th rowspan=\"3\" valign=\"top\">cd_infectious_true</th>\n",
       "      <th rowspan=\"3\" valign=\"top\">all</th>\n",
       "      <th>1</th>\n",
       "      <td>0.39</td>\n",
       "    </tr>\n",
       "    <tr>\n",
       "      <th>2</th>\n",
       "      <td>0.35</td>\n",
       "    </tr>\n",
       "    <tr>\n",
       "      <th>3</th>\n",
       "      <td>0.22</td>\n",
       "    </tr>\n",
       "  </tbody>\n",
       "</table>\n",
       "</div>"
      ],
      "text/plain": [
       "                                                          value\n",
       "category           subcategory        name                     \n",
       "health_system      icu_limit_relative icu_limit_relative  50.00\n",
       "cd_immune_false    all                365                  1.00\n",
       "cd_infectious_true all                1                    0.39\n",
       "                                      2                    0.35\n",
       "                                      3                    0.22"
      ]
     },
     "execution_count": 5,
     "metadata": {},
     "output_type": "execute_result"
    }
   ],
   "source": [
    "params = sid.load_epidemiological_parameters()\n",
    "params.head(5)"
   ]
  },
  {
   "cell_type": "markdown",
   "metadata": {},
   "source": [
    "The index is a three dimensional multi index which allows to organize parameters hierarchically. If lower levels are not necessary, it is common to repeat the previous level.\n",
    "\n",
    "For our model, we need to specify some additional parameters. First, we add the infection probability for our contact model. If a contact happens between an infectious and a susceptible person, the susceptible person becomes infected according to this probability."
   ]
  },
  {
   "cell_type": "code",
   "execution_count": 6,
   "metadata": {},
   "outputs": [],
   "source": [
    "params.loc[(\"infection_prob\", \"meet_people\", \"meet_people\"), \"value\"] = 0.05"
   ]
  },
  {
   "cell_type": "markdown",
   "metadata": {},
   "source": [
    "Similarly, we specify for each contact model how the strength of the assortative matching.\n",
    "\n",
    "We assume that 90% of contacts are with people from the same region and 50% with contacts from the same age group. It means that the probability of meeting someone from the same age group and region is 0.45. The rest of the probability mass will be split equally between the remaining groups formed by regions and age groups."
   ]
  },
  {
   "cell_type": "code",
   "execution_count": 7,
   "metadata": {},
   "outputs": [],
   "source": [
    "params.loc[(\"assortative_matching\", \"meet_people\", \"age_group\"), \"value\"] = 0.5\n",
    "params.loc[(\"assortative_matching\", \"meet_people\", \"region\"), \"value\"] = 0.9"
   ]
  },
  {
   "cell_type": "raw",
   "metadata": {
    "raw_mimetype": "text/restructuredtext",
    "tags": []
   },
   "source": [
    ".. seealso::\n",
    "\n",
    "    You can read more about ``params`` in the :doc:`references guides <../reference_guides/params>`."
   ]
  },
  {
   "cell_type": "markdown",
   "metadata": {},
   "source": [
    "### The `initial_conditions`\n",
    "\n",
    "Finally, we need to set the `initial_conditions` which describes the progression of the disease at the start of the simulation like who is infected or already immune, etc.. sid gives you the ability to start the progression of the infectious disease from patient zero. It also offers a simple interface to come up with complex patterns like individuals in all stages of the disease.\n",
    "\n",
    "For now, we assume that there are 100 infected individuals and 50 with pre-existing immunity."
   ]
  },
  {
   "cell_type": "code",
   "execution_count": 8,
   "metadata": {},
   "outputs": [],
   "source": [
    "initial_conditions = {\"initial_infections\": 100, \"initial_immunity\": 50}"
   ]
  },
  {
   "cell_type": "raw",
   "metadata": {
    "raw_mimetype": "text/restructuredtext",
    "tags": []
   },
   "source": [
    ".. seealso::\n",
    "\n",
    "    More information on the ``initial_conditions`` can be found in a `dedicated how-to guide <../how_to_guides/how_to_use_initial_conditions.ipynb>`_."
   ]
  },
  {
   "cell_type": "markdown",
   "metadata": {},
   "source": [
    "## The simulation\n",
    "\n",
    "Now, we are going to simulate this population for 200 periods. For that, we define a duration which is a dictionary with a ``\"start\"`` and a ``\"periods\"`` key or a ``\"start\"`` and ``\"end\"`` keys."
   ]
  },
  {
   "cell_type": "code",
   "execution_count": 9,
   "metadata": {},
   "outputs": [],
   "source": [
    "duration = {\"start\": \"2020-02-27\", \"periods\": 200}"
   ]
  },
  {
   "cell_type": "markdown",
   "metadata": {},
   "source": [
    "sid differentiates between the setup of the simulation and the actual simulation. That is why we need to build the ``simulation()`` function first. "
   ]
  },
  {
   "cell_type": "code",
   "execution_count": 10,
   "metadata": {},
   "outputs": [],
   "source": [
    "simulate = sid.get_simulate_func(\n",
    "    initial_states=initial_states,\n",
    "    contact_models=contact_models,\n",
    "    params=params,\n",
    "    initial_conditions=initial_conditions,\n",
    "    duration=duration,\n",
    "    seed=0,\n",
    ")"
   ]
  },
  {
   "cell_type": "markdown",
   "metadata": {},
   "source": [
    "After that, the function to simulate the data only depends on the parameters. Now, let us simulate our model!"
   ]
  },
  {
   "cell_type": "code",
   "execution_count": 11,
   "metadata": {},
   "outputs": [
    {
     "name": "stderr",
     "output_type": "stream",
     "text": [
      "Start the simulation...\n",
      "2020-09-13: 100%|██████████| 200/200 [00:17<00:00, 11.24it/s]\n"
     ]
    }
   ],
   "source": [
    "result = simulate(params=params)"
   ]
  },
  {
   "cell_type": "markdown",
   "metadata": {},
   "source": [
    "The result object is a dictionary with two keys:\n",
    "\n",
    "- ``\"time_series\"`` is a ``dask.dataframe`` which holds the data generated by the simulation. Since it is not feasible to hold all the data from the simulation in memory, each day is stored on disk in compressed ``.parquet`` files. ``dask`` provides a convenient interface to load all files and perform calculation on the data. If you want to work with ``pandas.DataFrame``s instead, convert the ``dask.dataframe`` to ``pandas`` with ``time_series.compute()``.\n",
    "\n",
    "- ``\"last_states\"`` holds a ``dask.dataframe`` of the lastly simulated states including all data columns which are usually dropped to save memory. The ``last_states`` can be used to resume a simulation."
   ]
  },
  {
   "cell_type": "code",
   "execution_count": 12,
   "metadata": {},
   "outputs": [
    {
     "data": {
      "text/plain": [
       "dict_keys(['time_series', 'last_states'])"
      ]
     },
     "execution_count": 12,
     "metadata": {},
     "output_type": "execute_result"
    }
   ],
   "source": [
    "result.keys()"
   ]
  },
  {
   "cell_type": "markdown",
   "metadata": {},
   "source": [
    "Here is a preview for each of the two objects."
   ]
  },
  {
   "cell_type": "code",
   "execution_count": 13,
   "metadata": {},
   "outputs": [
    {
     "data": {
      "text/html": [
       "<div>\n",
       "<style scoped>\n",
       "    .dataframe tbody tr th:only-of-type {\n",
       "        vertical-align: middle;\n",
       "    }\n",
       "\n",
       "    .dataframe tbody tr th {\n",
       "        vertical-align: top;\n",
       "    }\n",
       "\n",
       "    .dataframe thead th {\n",
       "        text-align: right;\n",
       "    }\n",
       "</style>\n",
       "<table border=\"1\" class=\"dataframe\">\n",
       "  <thead>\n",
       "    <tr style=\"text-align: right;\">\n",
       "      <th></th>\n",
       "      <th>infectious</th>\n",
       "      <th>cd_infectious_false</th>\n",
       "      <th>region</th>\n",
       "      <th>newly_infected</th>\n",
       "      <th>virus_strain</th>\n",
       "      <th>newly_vaccinated</th>\n",
       "      <th>n_has_infected</th>\n",
       "      <th>age_group</th>\n",
       "      <th>symptomatic</th>\n",
       "      <th>immunity_level</th>\n",
       "      <th>dead</th>\n",
       "      <th>new_known_case</th>\n",
       "      <th>date</th>\n",
       "      <th>newly_deceased</th>\n",
       "      <th>is_tested_positive_by_rapid_test</th>\n",
       "      <th>ever_infected</th>\n",
       "      <th>knows_immune</th>\n",
       "      <th>knows_infectious</th>\n",
       "      <th>ever_vaccinated</th>\n",
       "      <th>needs_icu</th>\n",
       "    </tr>\n",
       "  </thead>\n",
       "  <tbody>\n",
       "    <tr>\n",
       "      <th>0</th>\n",
       "      <td>False</td>\n",
       "      <td>-10001</td>\n",
       "      <td>South</td>\n",
       "      <td>False</td>\n",
       "      <td>NaN</td>\n",
       "      <td>False</td>\n",
       "      <td>0</td>\n",
       "      <td>50-59</td>\n",
       "      <td>False</td>\n",
       "      <td>0.0</td>\n",
       "      <td>False</td>\n",
       "      <td>False</td>\n",
       "      <td>2020-02-27</td>\n",
       "      <td>False</td>\n",
       "      <td>False</td>\n",
       "      <td>False</td>\n",
       "      <td>False</td>\n",
       "      <td>False</td>\n",
       "      <td>False</td>\n",
       "      <td>False</td>\n",
       "    </tr>\n",
       "    <tr>\n",
       "      <th>1</th>\n",
       "      <td>False</td>\n",
       "      <td>-10001</td>\n",
       "      <td>West</td>\n",
       "      <td>False</td>\n",
       "      <td>NaN</td>\n",
       "      <td>False</td>\n",
       "      <td>0</td>\n",
       "      <td>0-9</td>\n",
       "      <td>False</td>\n",
       "      <td>0.0</td>\n",
       "      <td>False</td>\n",
       "      <td>False</td>\n",
       "      <td>2020-02-27</td>\n",
       "      <td>False</td>\n",
       "      <td>False</td>\n",
       "      <td>False</td>\n",
       "      <td>False</td>\n",
       "      <td>False</td>\n",
       "      <td>False</td>\n",
       "      <td>False</td>\n",
       "    </tr>\n",
       "    <tr>\n",
       "      <th>2</th>\n",
       "      <td>False</td>\n",
       "      <td>-10001</td>\n",
       "      <td>West</td>\n",
       "      <td>False</td>\n",
       "      <td>NaN</td>\n",
       "      <td>False</td>\n",
       "      <td>0</td>\n",
       "      <td>30-39</td>\n",
       "      <td>False</td>\n",
       "      <td>0.0</td>\n",
       "      <td>False</td>\n",
       "      <td>False</td>\n",
       "      <td>2020-02-27</td>\n",
       "      <td>False</td>\n",
       "      <td>False</td>\n",
       "      <td>False</td>\n",
       "      <td>False</td>\n",
       "      <td>False</td>\n",
       "      <td>False</td>\n",
       "      <td>False</td>\n",
       "    </tr>\n",
       "    <tr>\n",
       "      <th>3</th>\n",
       "      <td>False</td>\n",
       "      <td>-10001</td>\n",
       "      <td>North</td>\n",
       "      <td>False</td>\n",
       "      <td>NaN</td>\n",
       "      <td>False</td>\n",
       "      <td>0</td>\n",
       "      <td>30-39</td>\n",
       "      <td>False</td>\n",
       "      <td>0.0</td>\n",
       "      <td>False</td>\n",
       "      <td>False</td>\n",
       "      <td>2020-02-27</td>\n",
       "      <td>False</td>\n",
       "      <td>False</td>\n",
       "      <td>False</td>\n",
       "      <td>False</td>\n",
       "      <td>False</td>\n",
       "      <td>False</td>\n",
       "      <td>False</td>\n",
       "    </tr>\n",
       "    <tr>\n",
       "      <th>4</th>\n",
       "      <td>False</td>\n",
       "      <td>-10001</td>\n",
       "      <td>East</td>\n",
       "      <td>False</td>\n",
       "      <td>NaN</td>\n",
       "      <td>False</td>\n",
       "      <td>0</td>\n",
       "      <td>70-79</td>\n",
       "      <td>False</td>\n",
       "      <td>0.0</td>\n",
       "      <td>False</td>\n",
       "      <td>False</td>\n",
       "      <td>2020-02-27</td>\n",
       "      <td>False</td>\n",
       "      <td>False</td>\n",
       "      <td>False</td>\n",
       "      <td>False</td>\n",
       "      <td>False</td>\n",
       "      <td>False</td>\n",
       "      <td>False</td>\n",
       "    </tr>\n",
       "  </tbody>\n",
       "</table>\n",
       "</div>"
      ],
      "text/plain": [
       "   infectious  cd_infectious_false region  newly_infected virus_strain  \\\n",
       "0       False               -10001  South           False          NaN   \n",
       "1       False               -10001   West           False          NaN   \n",
       "2       False               -10001   West           False          NaN   \n",
       "3       False               -10001  North           False          NaN   \n",
       "4       False               -10001   East           False          NaN   \n",
       "\n",
       "   newly_vaccinated  n_has_infected age_group  symptomatic  immunity_level  \\\n",
       "0             False               0     50-59        False             0.0   \n",
       "1             False               0       0-9        False             0.0   \n",
       "2             False               0     30-39        False             0.0   \n",
       "3             False               0     30-39        False             0.0   \n",
       "4             False               0     70-79        False             0.0   \n",
       "\n",
       "    dead  new_known_case       date  newly_deceased  \\\n",
       "0  False           False 2020-02-27           False   \n",
       "1  False           False 2020-02-27           False   \n",
       "2  False           False 2020-02-27           False   \n",
       "3  False           False 2020-02-27           False   \n",
       "4  False           False 2020-02-27           False   \n",
       "\n",
       "   is_tested_positive_by_rapid_test  ever_infected  knows_immune  \\\n",
       "0                             False          False         False   \n",
       "1                             False          False         False   \n",
       "2                             False          False         False   \n",
       "3                             False          False         False   \n",
       "4                             False          False         False   \n",
       "\n",
       "   knows_infectious  ever_vaccinated  needs_icu  \n",
       "0             False            False      False  \n",
       "1             False            False      False  \n",
       "2             False            False      False  \n",
       "3             False            False      False  \n",
       "4             False            False      False  "
      ]
     },
     "execution_count": 13,
     "metadata": {},
     "output_type": "execute_result"
    }
   ],
   "source": [
    "result[\"time_series\"].head()"
   ]
  },
  {
   "cell_type": "code",
   "execution_count": 14,
   "metadata": {},
   "outputs": [
    {
     "data": {
      "text/html": [
       "<div>\n",
       "<style scoped>\n",
       "    .dataframe tbody tr th:only-of-type {\n",
       "        vertical-align: middle;\n",
       "    }\n",
       "\n",
       "    .dataframe tbody tr th {\n",
       "        vertical-align: top;\n",
       "    }\n",
       "\n",
       "    .dataframe thead th {\n",
       "        text-align: right;\n",
       "    }\n",
       "</style>\n",
       "<table border=\"1\" class=\"dataframe\">\n",
       "  <thead>\n",
       "    <tr style=\"text-align: right;\">\n",
       "      <th></th>\n",
       "      <th>age_group</th>\n",
       "      <th>region</th>\n",
       "      <th>ever_infected</th>\n",
       "      <th>infectious</th>\n",
       "      <th>symptomatic</th>\n",
       "      <th>needs_icu</th>\n",
       "      <th>dead</th>\n",
       "      <th>pending_test</th>\n",
       "      <th>received_test_result</th>\n",
       "      <th>knows_immune</th>\n",
       "      <th>...</th>\n",
       "      <th>cd_knows_infectious_false_draws</th>\n",
       "      <th>cd_needs_icu_false_draws</th>\n",
       "      <th>cd_needs_icu_true_draws</th>\n",
       "      <th>cd_received_test_result_true_draws</th>\n",
       "      <th>cd_symptoms_false_draws</th>\n",
       "      <th>cd_symptoms_true_draws</th>\n",
       "      <th>group_codes_meet_people</th>\n",
       "      <th>date</th>\n",
       "      <th>period</th>\n",
       "      <th>n_contacts_meet_people</th>\n",
       "    </tr>\n",
       "  </thead>\n",
       "  <tbody>\n",
       "    <tr>\n",
       "      <th>0</th>\n",
       "      <td>50-59</td>\n",
       "      <td>South</td>\n",
       "      <td>False</td>\n",
       "      <td>False</td>\n",
       "      <td>False</td>\n",
       "      <td>False</td>\n",
       "      <td>False</td>\n",
       "      <td>False</td>\n",
       "      <td>False</td>\n",
       "      <td>False</td>\n",
       "      <td>...</td>\n",
       "      <td>-1</td>\n",
       "      <td>-1</td>\n",
       "      <td>-1</td>\n",
       "      <td>3</td>\n",
       "      <td>15</td>\n",
       "      <td>2</td>\n",
       "      <td>22</td>\n",
       "      <td>2020-09-13</td>\n",
       "      <td>621</td>\n",
       "      <td>5</td>\n",
       "    </tr>\n",
       "    <tr>\n",
       "      <th>1</th>\n",
       "      <td>0-9</td>\n",
       "      <td>West</td>\n",
       "      <td>True</td>\n",
       "      <td>False</td>\n",
       "      <td>False</td>\n",
       "      <td>False</td>\n",
       "      <td>False</td>\n",
       "      <td>False</td>\n",
       "      <td>False</td>\n",
       "      <td>False</td>\n",
       "      <td>...</td>\n",
       "      <td>-1</td>\n",
       "      <td>1</td>\n",
       "      <td>-1</td>\n",
       "      <td>1</td>\n",
       "      <td>18</td>\n",
       "      <td>-1</td>\n",
       "      <td>3</td>\n",
       "      <td>2020-09-13</td>\n",
       "      <td>621</td>\n",
       "      <td>3</td>\n",
       "    </tr>\n",
       "    <tr>\n",
       "      <th>2</th>\n",
       "      <td>30-39</td>\n",
       "      <td>West</td>\n",
       "      <td>False</td>\n",
       "      <td>False</td>\n",
       "      <td>False</td>\n",
       "      <td>False</td>\n",
       "      <td>False</td>\n",
       "      <td>False</td>\n",
       "      <td>False</td>\n",
       "      <td>False</td>\n",
       "      <td>...</td>\n",
       "      <td>-1</td>\n",
       "      <td>-1</td>\n",
       "      <td>-1</td>\n",
       "      <td>1</td>\n",
       "      <td>18</td>\n",
       "      <td>-1</td>\n",
       "      <td>15</td>\n",
       "      <td>2020-09-13</td>\n",
       "      <td>621</td>\n",
       "      <td>1</td>\n",
       "    </tr>\n",
       "    <tr>\n",
       "      <th>3</th>\n",
       "      <td>30-39</td>\n",
       "      <td>North</td>\n",
       "      <td>False</td>\n",
       "      <td>False</td>\n",
       "      <td>False</td>\n",
       "      <td>False</td>\n",
       "      <td>False</td>\n",
       "      <td>False</td>\n",
       "      <td>False</td>\n",
       "      <td>False</td>\n",
       "      <td>...</td>\n",
       "      <td>-1</td>\n",
       "      <td>1</td>\n",
       "      <td>-1</td>\n",
       "      <td>3</td>\n",
       "      <td>27</td>\n",
       "      <td>1</td>\n",
       "      <td>13</td>\n",
       "      <td>2020-09-13</td>\n",
       "      <td>621</td>\n",
       "      <td>0</td>\n",
       "    </tr>\n",
       "    <tr>\n",
       "      <th>4</th>\n",
       "      <td>70-79</td>\n",
       "      <td>East</td>\n",
       "      <td>True</td>\n",
       "      <td>False</td>\n",
       "      <td>False</td>\n",
       "      <td>False</td>\n",
       "      <td>False</td>\n",
       "      <td>False</td>\n",
       "      <td>False</td>\n",
       "      <td>False</td>\n",
       "      <td>...</td>\n",
       "      <td>-1</td>\n",
       "      <td>-1</td>\n",
       "      <td>-1</td>\n",
       "      <td>3</td>\n",
       "      <td>18</td>\n",
       "      <td>1</td>\n",
       "      <td>28</td>\n",
       "      <td>2020-09-13</td>\n",
       "      <td>621</td>\n",
       "      <td>6</td>\n",
       "    </tr>\n",
       "  </tbody>\n",
       "</table>\n",
       "<p>5 rows × 54 columns</p>\n",
       "</div>"
      ],
      "text/plain": [
       "  age_group region  ever_infected  infectious  symptomatic  needs_icu   dead  \\\n",
       "0     50-59  South          False       False        False      False  False   \n",
       "1       0-9   West           True       False        False      False  False   \n",
       "2     30-39   West          False       False        False      False  False   \n",
       "3     30-39  North          False       False        False      False  False   \n",
       "4     70-79   East           True       False        False      False  False   \n",
       "\n",
       "   pending_test  received_test_result  knows_immune  ...  \\\n",
       "0         False                 False         False  ...   \n",
       "1         False                 False         False  ...   \n",
       "2         False                 False         False  ...   \n",
       "3         False                 False         False  ...   \n",
       "4         False                 False         False  ...   \n",
       "\n",
       "   cd_knows_infectious_false_draws  cd_needs_icu_false_draws  \\\n",
       "0                               -1                        -1   \n",
       "1                               -1                         1   \n",
       "2                               -1                        -1   \n",
       "3                               -1                         1   \n",
       "4                               -1                        -1   \n",
       "\n",
       "   cd_needs_icu_true_draws  cd_received_test_result_true_draws  \\\n",
       "0                       -1                                   3   \n",
       "1                       -1                                   1   \n",
       "2                       -1                                   1   \n",
       "3                       -1                                   3   \n",
       "4                       -1                                   3   \n",
       "\n",
       "   cd_symptoms_false_draws  cd_symptoms_true_draws  group_codes_meet_people  \\\n",
       "0                       15                       2                       22   \n",
       "1                       18                      -1                        3   \n",
       "2                       18                      -1                       15   \n",
       "3                       27                       1                       13   \n",
       "4                       18                       1                       28   \n",
       "\n",
       "        date  period  n_contacts_meet_people  \n",
       "0 2020-09-13     621                       5  \n",
       "1 2020-09-13     621                       3  \n",
       "2 2020-09-13     621                       1  \n",
       "3 2020-09-13     621                       0  \n",
       "4 2020-09-13     621                       6  \n",
       "\n",
       "[5 rows x 54 columns]"
      ]
     },
     "execution_count": 14,
     "metadata": {},
     "output_type": "execute_result"
    }
   ],
   "source": [
    "result[\"last_states\"].head()"
   ]
  },
  {
   "cell_type": "markdown",
   "metadata": {},
   "source": [
    "Let us take a look at various statistics of the sample."
   ]
  },
  {
   "cell_type": "code",
   "execution_count": 15,
   "metadata": {},
   "outputs": [],
   "source": [
    "df = result[\"time_series\"].compute()"
   ]
  },
  {
   "cell_type": "code",
   "execution_count": 17,
   "metadata": {},
   "outputs": [
    {
     "data": {
      "image/png": "[encoded data removed]",
      "text/plain": [
       "<Figure size 864x576 with 6 Axes>"
      ]
     },
     "metadata": {
      "needs_background": "light"
     },
     "output_type": "display_data"
    }
   ],
   "source": [
    "fig, axs = plt.subplots(3, 2, figsize=(12, 8))\n",
    "fig.subplots_adjust(bottom=0.15, wspace=0.2, hspace=0.4)\n",
    "\n",
    "axs = axs.flatten()\n",
    "\n",
    "df.resample(\"D\", on=\"date\")[\"ever_infected\"].mean().plot(ax=axs[0])\n",
    "df.resample(\"D\", on=\"date\")[\"infectious\"].mean().plot(ax=axs[1])\n",
    "df.resample(\"D\", on=\"date\")[\"dead\"].sum().plot(ax=axs[2])\n",
    "\n",
    "r_zero = sid.statistics.calculate_r_zero(df, window_length=7)\n",
    "r_zero.plot(ax=axs[3])\n",
    "\n",
    "r_effective = sid.statistics.calculate_r_effective(df, window_length=7)\n",
    "r_effective.plot(ax=axs[4])\n",
    "\n",
    "for ax in axs:\n",
    "    ax.set_xlabel(\"\")\n",
    "    ax.spines[\"right\"].set_visible(False)\n",
    "    ax.spines[\"top\"].set_visible(False)\n",
    "\n",
    "axs[0].set_title(\"Share of Infected People\")\n",
    "axs[1].set_title(\"Share of Infectious People in the Population\")\n",
    "axs[2].set_title(\"Total Number of Deaths\")\n",
    "axs[3].set_title(\"$R_0$ (Basic Reproduction Number)\")\n",
    "axs[4].set_title(\"$R_t$ (Effective Reproduction Number)\")\n",
    "\n",
    "axs[5].set_visible(False)\n",
    "\n",
    "plt.show()"
   ]
  }
 ],
 "metadata": {
  "kernelspec": {
   "display_name": "Python 3",
   "language": "python",
   "name": "python3"
  },
  "language_info": {
   "codemirror_mode": {
    "name": "ipython",
    "version": 3
   },
   "file_extension": ".py",
   "mimetype": "text/x-python",
   "name": "python",
   "nbconvert_exporter": "python",
   "pygments_lexer": "ipython3",
   "version": "3.9.5"
  },
  "toc-autonumbering": false,
  "toc-showcode": true,
  "toc-showmarkdowntxt": true
 },
 "nbformat": 4,
 "nbformat_minor": 4
}
