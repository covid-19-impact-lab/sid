{
 "cells": [
  {
   "cell_type": "markdown",
   "metadata": {},
   "source": [
    "# How to use the initial conditions\n",
    "\n",
    "In this tutorial you learn about the initial conditions and how you can use them to create realistic distributions of infected and immune individuals at the start of a simulation.\n",
    "\n",
    "## Explanation\n",
    "\n",
    "Briefly, the initial conditions allow you to shape the distribution of initial infections and immunity in the population. You can\n",
    "\n",
    "- set the number of initial infections. \n",
    "- increase the number of infections by some factor to reduce underreporting, for example, due to asymptomatic cases. You can also keep shares between subgroups constant.\n",
    "- let infections evolve over some periods to have courses of diseases in every stage.\n",
    "- assume pre-existing immunity in the population.\n",
    "\n",
    "In scenarios where many individuals have already been infected and the disease has spread across the population for a longer time, courses of the diseases are more heterogenous. Thus, you should start a simulation with some kind of \"warm-start\". That is what the initial conditions are for.\n",
    "\n",
    "The ``initial_conditions`` can be passed to the [get_simulate_func](../autoapi/sid/index.rst#sid.get_simulate_func). It is a dictionary with the following keys.\n",
    "\n",
    "```python\n",
    "initial_conditions = {\n",
    "    \"assort_by\": None,\n",
    "    \"burn_in_periods\": 14,\n",
    "    \"growth_rate\":  1.3,\n",
    "    \"initial_infections\": 0.05,\n",
    "    \"initial_immunity\": None,\n",
    "    \"known_cases_multiplier\": 1.3\n",
    "}\n",
    "```\n",
    "\n",
    "The entries have the following meaning:\n",
    "\n",
    "- ``\"initial_infections\"`` is used to set the initial infections in the population. You can use an integer for the number of infected people, a float between 0 and 1 for the share and a series with values for each person. "
   ]
  },
  {
   "cell_type": "raw",
   "metadata": {
    "raw_mimetype": "text/restructuredtext",
    "tags": []
   },
   "source": [
    ".. note::\n",
    "\n",
    "    You can also pass a ``pandas.DataFrame`` where each series are the infections for one burn-in period. This allows you to use infections directly from time-series data. This advanced feature will be documented in a coming how-to guide."
   ]
  },
  {
   "cell_type": "markdown",
   "metadata": {},
   "source": [
    "- ``ìnitial_immunity`` can be given as an integer or a float identical to ``initial_infections`` to allow for pre-existing immunity in the population. Note that infected individuals are also immune. For a 10% pre-existing immunity with 2% currently infected people, set the key to 0.12. By default, ``initial_immunity`` is ``None`` which means no pre-existing immunity.\n",
    "    \n",
    "- ``\"known_cases_multiplier\"`` can be used to scale the infections indicated by ``initial_infections``. Normally, the number of initial infections relies on official resources which only cover the known, tested cases instead of the real number of infections. Assuming a asymptotic course of disease in a third of cases, the gap between the known cases and the real number of cases can be substantial.\n",
    "\n",
    "- ``\"assort_by\"`` can be a variable name or a list of variable names which are used to form groups via ``.groupby``. While scaling the number of infections with the ``\"known_cases_multiplier\"``, the relative share of infections between groups stays the same.\n",
    "\n",
    "- ``\"burn_in_periods\"`` are the days or periods during which infections are started. The shorter the burn-in period the lesser heterogenous the pattern is.\n",
    "\n",
    "- ``\"growth_rate\"`` is the exponential growth rate which governs the occurrence of infections over the burn-in periods. For example, a growth rate of two leads to a duplication of infections for every day of the burn-in period.\n",
    "\n",
    "\n",
    "## Example\n",
    "\n",
    "### Preparation\n",
    "\n",
    "Now, let us visualize the effects of the initial conditions. Note that the following example uses internal functions of sid which are not part of the public API and, thus, are not guaranteed to be stable and should not be used in general.\n",
    "\n",
    "For the example, we need to generate some inputs which are explained below."
   ]
  },
  {
   "cell_type": "code",
   "execution_count": 1,
   "metadata": {},
   "outputs": [],
   "source": [
    "import itertools\n",
    "\n",
    "import matplotlib.pyplot as plt\n",
    "import numpy as np\n",
    "import pandas as pd\n",
    "import seaborn as sns\n",
    "\n",
    "import sid"
   ]
  },
  {
   "cell_type": "markdown",
   "metadata": {},
   "source": [
    "First, we get the epidemiological parameters from sid. Further we need to load parameters related to the immunity level and waning. These are not found in the ``epidemiological_parameters`` as the immunity parameters are not calibrated to the literature yet, but set here as a rule of thumb. "
   ]
  },
  {
   "cell_type": "code",
   "execution_count": 2,
   "metadata": {},
   "outputs": [],
   "source": [
    "params = sid.load_epidemiological_parameters()\n",
    "\n",
    "immunity_params = pd.read_csv(\n",
    "    \"../tutorials/immunity_params.csv\", index_col=[\"category\", \"subcategory\", \"name\"]\n",
    ")\n",
    "params = pd.concat([params, immunity_params])"
   ]
  },
  {
   "cell_type": "markdown",
   "metadata": {},
   "source": [
    "Next, we create artifical individuals which belong to an age group and a region."
   ]
  },
  {
   "cell_type": "code",
   "execution_count": 3,
   "metadata": {},
   "outputs": [],
   "source": [
    "n_people = 100_000\n",
    "seed = itertools.count()\n",
    "\n",
    "available_ages = [\n",
    "    \"0-9\",\n",
    "    \"10-19\",\n",
    "    \"20-29\",\n",
    "    \"30-39\",\n",
    "    \"40-49\",\n",
    "    \"50-59\",\n",
    "    \"60-69\",\n",
    "    \"70-79\",\n",
    "    \"80-100\",\n",
    "]\n",
    "\n",
    "ages = np.random.choice(available_ages, size=n_people)\n",
    "regions = np.random.choice([\"North\", \"East\", \"South\", \"West\"], size=n_people)\n",
    "states = pd.DataFrame({\"age_group\": ages, \"region\": regions}).astype(\"category\")\n",
    "virus_strains = {\"names\": [\"base_strain\"]}\n",
    "\n",
    "# Early processing of states and drawing courses of diseases which is necessary for\n",
    "# the following exploration. Does not need to be used by users in general.\n",
    "states = sid.simulate._process_initial_states(\n",
    "    states, assort_bys={0: [\"age_group\", \"region\"]}, virus_strains=virus_strains\n",
    ")\n",
    "states = sid.pathogenesis.draw_course_of_disease(states, params, next(seed))"
   ]
  },
  {
   "cell_type": "markdown",
   "metadata": {},
   "source": [
    "Now, we want to specify the initial conditions and assume that 24% of individuals are infected. Furthermore, initial infections should strongly vary by regions. ``\"North\"`` and ``\"South\"`` have twice as many infections as ``\"East\"`` and ``\"West\"``. We assume that the actual number of infected individuals is 20% higher and infection number should be preserved between regions. We also require that infections double every day over a period of 14 days."
   ]
  },
  {
   "cell_type": "code",
   "execution_count": 4,
   "metadata": {},
   "outputs": [],
   "source": [
    "n_infections = 24_000\n",
    "prob = n_infections / n_people\n",
    "prob_high = prob * 4 / 3\n",
    "prob_low = prob * 2 / 3\n",
    "\n",
    "probabilities = states[\"region\"].replace(\n",
    "    {\"North\": prob_high, \"South\": prob_high, \"East\": prob_low, \"West\": prob_low}\n",
    ")\n",
    "initial_infections = np.random.uniform(0, 1, size=len(probabilities)) <= probabilities\n",
    "initial_infections = pd.Series(initial_infections)"
   ]
  },
  {
   "cell_type": "code",
   "execution_count": 5,
   "metadata": {},
   "outputs": [],
   "source": [
    "initial_conditions = {\n",
    "    \"initial_infections\": initial_infections,\n",
    "    \"initial_immunity\": None,\n",
    "    \"known_cases_multiplier\": 1.2,\n",
    "    \"assort_by\": \"region\",\n",
    "    \"growth_rate\": 2,\n",
    "    \"burn_in_periods\": pd.date_range(\"2021-06-17\", \"2021-06-30\"),\n",
    "    \"virus_shares\": {\"base_strain\": 1.0},\n",
    "}"
   ]
  },
  {
   "cell_type": "markdown",
   "metadata": {},
   "source": [
    "At last, we apply the function which handles the initial conditions and changes the states."
   ]
  },
  {
   "cell_type": "code",
   "execution_count": 6,
   "metadata": {},
   "outputs": [],
   "source": [
    "default_virus_strains = sid.parse_model.parse_virus_strains(None, params=params)\n",
    "\n",
    "parsed_initial_conditions = sid.parse_model.parse_initial_conditions(\n",
    "    initial_conditions,\n",
    "    start_date_simulation=pd.Timestamp(\"2021-07-01\"),\n",
    "    virus_strains=default_virus_strains,\n",
    ")\n",
    "\n",
    "states = sid.initial_conditions.sample_initial_distribution_of_infections_and_immunity(\n",
    "    states=states,\n",
    "    params=params,\n",
    "    initial_conditions=parsed_initial_conditions,\n",
    "    seed=seed,\n",
    "    testing_demand_models={},\n",
    "    testing_allocation_models={},\n",
    "    testing_processing_models={},\n",
    "    virus_strains=default_virus_strains,\n",
    "    vaccination_models={},\n",
    "    derived_state_variables={},\n",
    ")"
   ]
  },
  {
   "cell_type": "markdown",
   "metadata": {},
   "source": [
    "### Analysis\n",
    "\n",
    "Next, we analyze the impact of the initial conditions. First, let us look at the total number of infections. We started with 24,000 infections and increased the number by 20% which are roughly 28,800 infections."
   ]
  },
  {
   "cell_type": "code",
   "execution_count": 7,
   "metadata": {},
   "outputs": [
    {
     "data": {
      "text/plain": [
       "28753"
      ]
     },
     "execution_count": 7,
     "metadata": {},
     "output_type": "execute_result"
    }
   ],
   "source": [
    "states[\"ever_infected\"].sum()"
   ]
  },
  {
   "cell_type": "markdown",
   "metadata": {},
   "source": [
    "We wanted to preserve the regional differences in positive cases where North and South have twice the infections of East and West."
   ]
  },
  {
   "cell_type": "code",
   "execution_count": 8,
   "metadata": {},
   "outputs": [
    {
     "data": {
      "text/plain": [
       "region\n",
       "East     0.19\n",
       "North    0.39\n",
       "South    0.38\n",
       "West     0.19\n",
       "Name: ever_infected, dtype: float64"
      ]
     },
     "execution_count": 8,
     "metadata": {},
     "output_type": "execute_result"
    }
   ],
   "source": [
    "states.groupby(\"region\")[\"ever_infected\"].mean().round(2)"
   ]
  },
  {
   "cell_type": "markdown",
   "metadata": {},
   "source": [
    "Lastly, we wanted infections to increase every day by a factor of 2."
   ]
  },
  {
   "cell_type": "code",
   "execution_count": 9,
   "metadata": {},
   "outputs": [
    {
     "data": {
      "image/png": "[encoded data removed]",
      "text/plain": [
       "<Figure size 432x288 with 1 Axes>"
      ]
     },
     "metadata": {
      "needs_background": "light"
     },
     "output_type": "display_data"
    }
   ],
   "source": [
    "fig, ax = plt.subplots(figsize=(6, 4))\n",
    "\n",
    "infections_by_day = states.query(\"ever_infected\").groupby(\"cd_ever_infected\").size()\n",
    "infections_by_day.index = -1 * infections_by_day.index\n",
    "\n",
    "infections_by_day.plot(kind=\"bar\", ax=ax)\n",
    "\n",
    "ax.set_ylabel(\"New Infections\")\n",
    "ax.set_xlabel(\"Days Since Infection\")\n",
    "\n",
    "sns.despine()\n",
    "plt.show()"
   ]
  }
 ],
 "metadata": {
  "interpreter": {
   "hash": "0b74d6e11169e90fd42b994ee46132bac41faadfe3f712f348325b8f45e7e844"
  },
  "kernelspec": {
   "display_name": "Python 3",
   "language": "python",
   "name": "python3"
  },
  "language_info": {
   "codemirror_mode": {
    "name": "ipython",
    "version": 3
   },
   "file_extension": ".py",
   "mimetype": "text/x-python",
   "name": "python",
   "nbconvert_exporter": "python",
   "pygments_lexer": "ipython3",
   "version": "3.9.5"
  }
 },
 "nbformat": 4,
 "nbformat_minor": 4
}
