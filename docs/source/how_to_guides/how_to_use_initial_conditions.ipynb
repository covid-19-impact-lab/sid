{
 "cells": [
  {
   "cell_type": "markdown",
   "metadata": {},
   "source": [
    "# How to use the initial conditions\n",
    "\n",
    "## Explanation\n",
    "\n",
    "The initial conditions can be used to start a simulation with a more realistic distribution of the course of the disease in the population.\n",
    "\n",
    "The argument ``initial_infections`` of the [get_simulate_func](../autoapi/sid/index.rst#sid.get_simulate_func) function allows you to indicate individuals who are infected at the start of the simulation. They have randomly drawn courses of the disease, but would all start from the same state, being infected and becoming infectious.\n",
    "\n",
    "In scenarios where many individuals have already been infected and the disease has spread across the population for a longer time, courses of the diseases are more heterogenous. Thus, you should start a simulation with some kind of \"warm-start\".\n",
    "\n",
    "This is what the initial conditions are for. The ``initial_conditions`` argument of [get_simulate_func](../autoapi/sid/index.rst#sid.get_simulate_func) is a dictionary of the following form.\n",
    "\n",
    "```python\n",
    "initial_conditions = {\n",
    "    \"assort_by\": None,\n",
    "    \"burn_in_periods\": 14,\n",
    "    \"growth_rate\":  1.3,\n",
    "    \"known_cases_multiplier\": 1.3\n",
    "}\n",
    "```\n",
    "\n",
    "The entries have the following meaning:\n",
    "\n",
    "- ``\"known_cases_multiplier\"`` can be used to scale the infections indicated by ``initial_infections``. Normally, the number of initial infections relies on official resources which only cover the known, tested cases instead of the real number of infections. Assuming a asymptotic course of disease in a third of cases, the gap between the known cases and the real number of cases can be substantial.\n",
    "\n",
    "- ``\"assort_by\"`` can be a variable name or a list of variable names which are used to form groups via ``.groupby``. While scaling the number of infections with the ``\"known_cases_multiplier\"``, the relative share of infections between groups stays the same.\n",
    "\n",
    "- ``\"burn_in_periods\"`` is the number of days or periods during which infections are started. The shorter the burn-in period the lesser heterogenous the pattern is.\n",
    "\n",
    "- ``\"growth_rate\"`` is the exponential growth rate which governs the occurrence of infections over the burn-in periods. For example, a growth rate of two leads to a duplication of infections for every day of the burn-in period.\n",
    "\n",
    "\n",
    "## Example\n",
    "\n",
    "### Preparation\n",
    "\n",
    "Now, let us visualize the effects of the initial conditions. Note that the following example uses internal functions of sid which are not part of the public API and, thus, are not guaranteed to be stable and should not be used in general.\n",
    "\n",
    "For the example, we need to generate some inputs which are explained below."
   ]
  },
  {
   "cell_type": "code",
   "execution_count": 1,
   "metadata": {},
   "outputs": [],
   "source": [
    "import itertools\n",
    "\n",
    "import matplotlib.pyplot as plt\n",
    "import numpy as np\n",
    "import pandas as pd\n",
    "import sid"
   ]
  },
  {
   "cell_type": "code",
   "execution_count": 2,
   "metadata": {},
   "outputs": [],
   "source": [
    "params = sid.get_epidemiological_parameters()"
   ]
  },
  {
   "cell_type": "markdown",
   "metadata": {},
   "source": [
    "At first, we set the initial condtions. We assume that the actual number of infected individuals is 20% higher and infection number should be preserved between regions. We also require that infections double every day over a period of 14 days."
   ]
  },
  {
   "cell_type": "code",
   "execution_count": 3,
   "metadata": {},
   "outputs": [],
   "source": [
    "initial_conditions = {\n",
    "    \"known_cases_multiplier\": 1.2,\n",
    "    \"assort_by\": \"region\",\n",
    "    \"growth_rate\": 2,\n",
    "    \"burn_in_periods\": 14,\n",
    "}"
   ]
  },
  {
   "cell_type": "markdown",
   "metadata": {},
   "source": [
    "We create artifical individuals which belong to an age group and a region. To apply the initial conditions, the states need to be refined by some functions which are not important for the example."
   ]
  },
  {
   "cell_type": "code",
   "execution_count": 4,
   "metadata": {},
   "outputs": [],
   "source": [
    "n_people = 100_000\n",
    "n_infections = 24_000\n",
    "seed = itertools.count()\n",
    "\n",
    "available_ages = [\n",
    "    \"0-9\",\n",
    "    \"10-19\",\n",
    "    \"20-29\",\n",
    "    \"30-39\",\n",
    "    \"40-49\",\n",
    "    \"50-59\",\n",
    "    \"60-69\",\n",
    "    \"70-79\",\n",
    "    \"80-100\",\n",
    "]\n",
    "\n",
    "ages = np.random.choice(available_ages, size=n_people)\n",
    "regions = np.random.choice([\"North\", \"East\", \"South\", \"West\"], size=n_people)\n",
    "\n",
    "states = pd.DataFrame({\"age_group\": ages, \"region\": regions}).astype(\"category\")\n",
    "states = sid.simulate._process_initial_states(states, {0: [\"age_group\", \"region\"]})\n",
    "states = sid.pathogenesis.draw_course_of_disease(states, params, seed)"
   ]
  },
  {
   "cell_type": "markdown",
   "metadata": {},
   "source": [
    "We assume regional variations in initial infections. ``\"North\"`` and ``\"South\"`` have twice as many infections as other regions."
   ]
  },
  {
   "cell_type": "code",
   "execution_count": 5,
   "metadata": {},
   "outputs": [],
   "source": [
    "prob = n_infections / n_people\n",
    "prob_high = prob * 4 / 3\n",
    "prob_low = prob * 2 / 3\n",
    "\n",
    "probabilities = states[\"region\"].replace(\n",
    "    {\"North\": prob_high, \"South\": prob_high, \"East\": prob_low, \"West\": prob_low}\n",
    ")\n",
    "initial_infections = np.random.uniform(0, 1, size=len(probabilities)) <= probabilities\n",
    "initial_infections = pd.Series(initial_infections)"
   ]
  },
  {
   "cell_type": "markdown",
   "metadata": {},
   "source": [
    "At last, we apply the function which handles the initial conditions and changes the states."
   ]
  },
  {
   "cell_type": "code",
   "execution_count": 6,
   "metadata": {},
   "outputs": [],
   "source": [
    "states = sid.initial_conditions.scale_and_spread_initial_infections(\n",
    "    states, initial_infections, params, initial_conditions, seed\n",
    ")"
   ]
  },
  {
   "cell_type": "markdown",
   "metadata": {},
   "source": [
    "### Analysis\n",
    "\n",
    "Next, we analyze the impact of the initial conditions. First, let us look at the total number of infections. We started with 24,000 infections and increased the number by 20% which are roughly 28,800 infections."
   ]
  },
  {
   "cell_type": "code",
   "execution_count": 7,
   "metadata": {},
   "outputs": [
    {
     "data": {
      "text/plain": [
       "28781"
      ]
     },
     "execution_count": 7,
     "metadata": {},
     "output_type": "execute_result"
    }
   ],
   "source": [
    "states[\"ever_infected\"].sum()"
   ]
  },
  {
   "cell_type": "markdown",
   "metadata": {},
   "source": [
    "We wanted to preserve the regional differences in positive cases where North and South have twice the infections of East and West."
   ]
  },
  {
   "cell_type": "code",
   "execution_count": 8,
   "metadata": {},
   "outputs": [
    {
     "data": {
      "text/plain": [
       "region\n",
       "East     4757\n",
       "North    9615\n",
       "South    9623\n",
       "West     4786\n",
       "Name: ever_infected, dtype: int64"
      ]
     },
     "execution_count": 8,
     "metadata": {},
     "output_type": "execute_result"
    }
   ],
   "source": [
    "states.groupby(\"region\")[\"ever_infected\"].sum()"
   ]
  },
  {
   "cell_type": "markdown",
   "metadata": {},
   "source": [
    "At last, we wanted infections to increase every day by a factor of 2."
   ]
  },
  {
   "cell_type": "code",
   "execution_count": 9,
   "metadata": {},
   "outputs": [
    {
     "data": {
      "image/png": "[encoded data removed]",
      "text/plain": [
       "<Figure size 576x432 with 1 Axes>"
      ]
     },
     "metadata": {
      "needs_background": "light"
     },
     "output_type": "display_data"
    }
   ],
   "source": [
    "fig, ax = plt.subplots(figsize=(8, 6))\n",
    "\n",
    "states.groupby(\"cd_ever_infected\")[\"ever_infected\"].sum().drop(index=-15).plot(\n",
    "    kind=\"bar\", ax=ax\n",
    ")\n",
    "\n",
    "ax.set_xticklabels(range(0, 14), rotation=0)\n",
    "ax.set_xlabel(\"Burn-in Periods\")\n",
    "ax.set_ylabel(\"New infections\")\n",
    "\n",
    "plt.show()"
   ]
  }
 ],
 "metadata": {
  "kernelspec": {
   "display_name": "Python 3",
   "language": "python",
   "name": "python3"
  },
  "language_info": {
   "codemirror_mode": {
    "name": "ipython",
    "version": 3
   },
   "file_extension": ".py",
   "mimetype": "text/x-python",
   "name": "python",
   "nbconvert_exporter": "python",
   "pygments_lexer": "ipython3",
   "version": "3.8.6"
  }
 },
 "nbformat": 4,
 "nbformat_minor": 4
}
